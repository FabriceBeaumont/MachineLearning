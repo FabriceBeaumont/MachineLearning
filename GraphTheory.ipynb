{
  "nbformat": 4,
  "nbformat_minor": 0,
  "metadata": {
    "colab": {
      "provenance": [],
      "authorship_tag": "ABX9TyMs44ZvTqpoAMdgsrhXXwyw",
      "include_colab_link": true
    },
    "kernelspec": {
      "name": "python3",
      "display_name": "Python 3"
    },
    "language_info": {
      "name": "python"
    }
  },
  "cells": [
    {
      "cell_type": "markdown",
      "metadata": {
        "id": "view-in-github",
        "colab_type": "text"
      },
      "source": [
        "<a href=\"https://colab.research.google.com/github/FabriceBeaumont/MachineLearning/blob/main/GraphTheory.ipynb\" target=\"_parent\"><img src=\"https://colab.research.google.com/assets/colab-badge.svg\" alt=\"Open In Colab\"/></a>"
      ]
    },
    {
      "cell_type": "markdown",
      "source": [
        "# Theory and Practice of Graphtheory"
      ],
      "metadata": {
        "id": "ZZjI2EewkZfE"
      }
    },
    {
      "cell_type": "markdown",
      "source": [
        "## Set Up: Datastructures"
      ],
      "metadata": {
        "id": "ljA_2GyPkkVE"
      }
    },
    {
      "cell_type": "code",
      "source": [
        "import numpy as np\n",
        "# For sparse adjacency matrices.\n",
        "from scipy.sparse import csr_array\n",
        "from typing import Dict, Set, List, Tuple, Any"
      ],
      "metadata": {
        "id": "RCntp8v4EAfd"
      },
      "execution_count": null,
      "outputs": []
    },
    {
      "cell_type": "code",
      "source": [
        "!pip install grakel\n",
        "!pip install ogb"
      ],
      "metadata": {
        "colab": {
          "base_uri": "https://localhost:8080/"
        },
        "id": "H9v-sGai4PJ7",
        "outputId": "aa4ce7d9-2533-4f41-9245-a5a7559b4973"
      },
      "execution_count": null,
      "outputs": [
        {
          "output_type": "stream",
          "name": "stdout",
          "text": [
            "Looking in indexes: https://pypi.org/simple, https://us-python.pkg.dev/colab-wheels/public/simple/\n",
            "Requirement already satisfied: grakel in /usr/local/lib/python3.8/dist-packages (0.1.9)\n",
            "Requirement already satisfied: scikit-learn>=0.19 in /usr/local/lib/python3.8/dist-packages (from grakel) (1.2.1)\n",
            "Requirement already satisfied: six>=1.11.0 in /usr/local/lib/python3.8/dist-packages (from grakel) (1.15.0)\n",
            "Requirement already satisfied: numpy>=1.14.0 in /usr/local/lib/python3.8/dist-packages (from grakel) (1.22.4)\n",
            "Requirement already satisfied: cython>=0.27.3 in /usr/local/lib/python3.8/dist-packages (from grakel) (0.29.33)\n",
            "Requirement already satisfied: future>=0.16.0 in /usr/local/lib/python3.8/dist-packages (from grakel) (0.16.0)\n",
            "Requirement already satisfied: joblib in /usr/local/lib/python3.8/dist-packages (from grakel) (1.2.0)\n",
            "Requirement already satisfied: threadpoolctl>=2.0.0 in /usr/local/lib/python3.8/dist-packages (from scikit-learn>=0.19->grakel) (3.1.0)\n",
            "Requirement already satisfied: scipy>=1.3.2 in /usr/local/lib/python3.8/dist-packages (from scikit-learn>=0.19->grakel) (1.10.1)\n",
            "Looking in indexes: https://pypi.org/simple, https://us-python.pkg.dev/colab-wheels/public/simple/\n",
            "Collecting ogb\n",
            "  Downloading ogb-1.3.5-py3-none-any.whl (78 kB)\n",
            "\u001b[2K     \u001b[90m━━━━━━━━━━━━━━━━━━━━━━━━━━━━━━━━━━━━━━━━\u001b[0m \u001b[32m78.6/78.6 KB\u001b[0m \u001b[31m3.0 MB/s\u001b[0m eta \u001b[36m0:00:00\u001b[0m\n",
            "\u001b[?25hRequirement already satisfied: tqdm>=4.29.0 in /usr/local/lib/python3.8/dist-packages (from ogb) (4.64.1)\n",
            "Requirement already satisfied: six>=1.12.0 in /usr/local/lib/python3.8/dist-packages (from ogb) (1.15.0)\n",
            "Requirement already satisfied: urllib3>=1.24.0 in /usr/local/lib/python3.8/dist-packages (from ogb) (1.26.14)\n",
            "Requirement already satisfied: torch>=1.6.0 in /usr/local/lib/python3.8/dist-packages (from ogb) (1.13.1+cu116)\n",
            "Collecting outdated>=0.2.0\n",
            "  Downloading outdated-0.2.2-py2.py3-none-any.whl (7.5 kB)\n",
            "Requirement already satisfied: numpy>=1.16.0 in /usr/local/lib/python3.8/dist-packages (from ogb) (1.22.4)\n",
            "Requirement already satisfied: scikit-learn>=0.20.0 in /usr/local/lib/python3.8/dist-packages (from ogb) (1.2.1)\n",
            "Requirement already satisfied: pandas>=0.24.0 in /usr/local/lib/python3.8/dist-packages (from ogb) (1.3.5)\n",
            "Requirement already satisfied: setuptools>=44 in /usr/local/lib/python3.8/dist-packages (from outdated>=0.2.0->ogb) (57.4.0)\n",
            "Requirement already satisfied: requests in /usr/local/lib/python3.8/dist-packages (from outdated>=0.2.0->ogb) (2.25.1)\n",
            "Collecting littleutils\n",
            "  Downloading littleutils-0.2.2.tar.gz (6.6 kB)\n",
            "  Preparing metadata (setup.py) ... \u001b[?25l\u001b[?25hdone\n",
            "Requirement already satisfied: pytz>=2017.3 in /usr/local/lib/python3.8/dist-packages (from pandas>=0.24.0->ogb) (2022.7.1)\n",
            "Requirement already satisfied: python-dateutil>=2.7.3 in /usr/local/lib/python3.8/dist-packages (from pandas>=0.24.0->ogb) (2.8.2)\n",
            "Requirement already satisfied: joblib>=1.1.1 in /usr/local/lib/python3.8/dist-packages (from scikit-learn>=0.20.0->ogb) (1.2.0)\n",
            "Requirement already satisfied: scipy>=1.3.2 in /usr/local/lib/python3.8/dist-packages (from scikit-learn>=0.20.0->ogb) (1.10.1)\n",
            "Requirement already satisfied: threadpoolctl>=2.0.0 in /usr/local/lib/python3.8/dist-packages (from scikit-learn>=0.20.0->ogb) (3.1.0)\n",
            "Requirement already satisfied: typing-extensions in /usr/local/lib/python3.8/dist-packages (from torch>=1.6.0->ogb) (4.5.0)\n",
            "Requirement already satisfied: certifi>=2017.4.17 in /usr/local/lib/python3.8/dist-packages (from requests->outdated>=0.2.0->ogb) (2022.12.7)\n",
            "Requirement already satisfied: idna<3,>=2.5 in /usr/local/lib/python3.8/dist-packages (from requests->outdated>=0.2.0->ogb) (2.10)\n",
            "Requirement already satisfied: chardet<5,>=3.0.2 in /usr/local/lib/python3.8/dist-packages (from requests->outdated>=0.2.0->ogb) (4.0.0)\n",
            "Building wheels for collected packages: littleutils\n",
            "  Building wheel for littleutils (setup.py) ... \u001b[?25l\u001b[?25hdone\n",
            "  Created wheel for littleutils: filename=littleutils-0.2.2-py3-none-any.whl size=7047 sha256=0c29d7a74398d598b5c37d0e3cc8a69012cb2ff55bc15fe3f7a57efb2e0bc603\n",
            "  Stored in directory: /root/.cache/pip/wheels/6a/33/c4/0ef84d7f5568c2823e3d63a6e08988852fb9e4bc822034870a\n",
            "Successfully built littleutils\n",
            "Installing collected packages: littleutils, outdated, ogb\n",
            "Successfully installed littleutils-0.2.2 ogb-1.3.5 outdated-0.2.2\n"
          ]
        }
      ]
    },
    {
      "cell_type": "code",
      "source": [
        "# GraKel # https://ysig.github.io/GraKeL/0.1a8/documentation.html\n",
        "from grakel.datasets import fetch_dataset, get_dataset_info\n",
        "\n",
        "# OGB # Installation: https://ogb.stanford.edu/docs/home/\n",
        "from ogb.graphproppred import GraphPropPredDataset"
      ],
      "metadata": {
        "id": "4KV_jb_Qkny2"
      },
      "execution_count": null,
      "outputs": []
    },
    {
      "cell_type": "code",
      "source": [
        "import matplotlib.pyplot as plt\n",
        "import networkx as nx"
      ],
      "metadata": {
        "id": "n9hYnE2uJEqu"
      },
      "execution_count": null,
      "outputs": []
    },
    {
      "cell_type": "code",
      "source": [
        "dataset_name = \"MUTAG\""
      ],
      "metadata": {
        "id": "zC5BO4VtD8T0"
      },
      "execution_count": null,
      "outputs": []
    },
    {
      "cell_type": "code",
      "source": [
        "grakel_dataset = fetch_dataset(dataset_name, verbose=False)\n",
        "graphs  = np.array(grakel_dataset.data)\n",
        "classes = np.array(grakel_dataset.target)"
      ],
      "metadata": {
        "id": "ZYzs5qKtD6r4"
      },
      "execution_count": null,
      "outputs": []
    },
    {
      "cell_type": "code",
      "source": [
        "class MyGraph():\n",
        "    def __init__(self, edge_set: Set[Tuple[int, int]], edge_weights: Dict[Tuple[int, int], float] = None, vertex_labels: Dict[int, int] = None, edge_labels: Dict[Tuple[int, int], int] = None, graph_class: Any = None):\n",
        "        self.e_set: Set[Tuple[int, int]]                = edge_set\n",
        "        self.e_weights: Dict[Tuple[int, int], float]    = edge_weights\n",
        "        self.v_labels: Dict[int, int]                   = vertex_labels\n",
        "        self.e_labels: Dict[Tuple[int, int], int]       = edge_labels\n",
        "        self.g_class: Any = graph_class\n",
        "\n",
        "    def get_edge_set(self) -> Set[int]:\n",
        "        return self.e_set\n",
        "\n",
        "    def get_edge_weights(self) -> Dict[Tuple[int, int], float]:\n",
        "        return self.e_weights\n",
        "\n",
        "    def get_edge_labels(self) -> Dict[Tuple[int, int], int]:\n",
        "        return self.e_labels\n",
        "\n",
        "    def get_vertex_labels(self) -> Dict[int, int]:\n",
        "        return self.v_labels\n",
        "\n",
        "    def get_vertex_list(self) -> List[int]:\n",
        "        return list(self.v_labels.keys())\n",
        "\n",
        "    def get_nr_vertices(self) -> int:\n",
        "        return len(self.v_labels.keys())\n",
        "\n",
        "    def get_nr_edges(self) -> int:\n",
        "        return len(self.e_labels.keys())\n",
        "\n",
        "    def get_adj_mat(self):\n",
        "        min_vertex_id: int = min(self.v_labels.keys())\n",
        "        m: int = self.get_nr_edges()\n",
        "        \n",
        "        row  = np.array(list(zip(*self.e_set))[0])\n",
        "        col  = np.array(list(zip(*self.e_set))[1])\n",
        "        data = np.ones(m)\n",
        "\n",
        "        if self.e_weights is not None:\n",
        "            for i, r in enumerate(row):                \n",
        "                w = self.e_weights.get((r, col[i]))\n",
        "                assert w != None, f\"Weight of not existing edge e=({r}, {col[i]}) found!\"\n",
        "                data[i] = w\n",
        "\n",
        "        return csr_array((data, (row, col)), shape=(m, m))\n",
        "\n",
        "    def set_edges_weights(self, edge_weights: Dict[Tuple[int, int], float]) -> None:\n",
        "        self.e_weights = edge_weights\n",
        "\n",
        "    def set_edge_weight(self, v0: int, v1: int, w: float) -> None:\n",
        "        assert (v0, v1) in self.e_set, f\"Tried to set weight of not existing edge e=({v0}, {v1})!\"\n",
        "        self.e_weights[v0, v1] = w\n",
        "    \n",
        "    def set_random_edge_weights(self, min: float = 0.1, max: float = 100.0) -> None:\n",
        "        self.e_weights = dict(zip(self.e_set, np.random.uniform(min, max, self.get_nr_edges())))\n",
        "\n",
        "    def get_uniform_edge_weights(self, w: float = 1.0) -> None:\n",
        "        return dict(zip(self.e_set, w * np.ones(self.get_nr_edges())))\n",
        "\n",
        "    def set_uniform_edge_weights(self, w: float = 1.0) -> None:\n",
        "        self.e_weights = self.get_uniform_edge_weights(w)\n",
        "\n",
        "    def get_networkx_graph(self):\n",
        "        vertex_list = self.get_vertex_list()\n",
        "        edge_list   = list(self.e_set)\n",
        "        edge_weights = self.get_edge_weights()\n",
        "        if edge_weights is None:\n",
        "            edge_weights = self.get_uniform_edge_weights()\n",
        "\n",
        "        networkx_graph = nx.Graph()\n",
        "        nodes = vertex_list\n",
        "\n",
        "        networkx_graph.add_nodes_from(nodes)\n",
        "        networkx_graph.add_edges_from(edge_list)\n",
        "        attrs = {}\n",
        "        for e in edge_list:\n",
        "            attrs[e] = dict(zip(['weight'], [edge_weights[e]]))\n",
        "\n",
        "        nx.set_edge_attributes(networkx_graph, attrs)\n",
        "        return networkx_graph"
      ],
      "metadata": {
        "id": "LYWaFnRdJLY3"
      },
      "execution_count": null,
      "outputs": []
    },
    {
      "cell_type": "code",
      "source": [
        "def grakel_to_mygraph(graph, graph_class) -> np.array:\n",
        "    graph = graphs[0]    \n",
        "    edge_set: Set[Tuple[int, int]]          = graph[0]\n",
        "    vertex_labels: Dict[int, int]           = graph[1]\n",
        "    edge_labels: Dict[Tuple[int, int], int] = graph[2]\n",
        "\n",
        "    G = MyGraph(edge_set = edge_set, vertex_labels = vertex_labels, edge_labels = edge_labels, graph_class = graph_class)\n",
        "    return G"
      ],
      "metadata": {
        "id": "R3oOqtpZEguv"
      },
      "execution_count": null,
      "outputs": []
    },
    {
      "cell_type": "code",
      "source": [
        "graph_id = 0\n",
        "g: MyGraph = grakel_to_mygraph(graphs[graph_id], classes[graph_id])"
      ],
      "metadata": {
        "id": "DXZmmh7RGNt5"
      },
      "execution_count": null,
      "outputs": []
    },
    {
      "cell_type": "code",
      "source": [
        "print(g.get_adj_mat().toarray())"
      ],
      "metadata": {
        "colab": {
          "base_uri": "https://localhost:8080/"
        },
        "id": "iD_Rhn20LQja",
        "outputId": "79964a12-c759-4a52-b7f0-56a4d9ba6a81"
      },
      "execution_count": null,
      "outputs": [
        {
          "output_type": "stream",
          "name": "stdout",
          "text": [
            "[[0. 0. 0. ... 0. 0. 0.]\n",
            " [0. 0. 1. ... 0. 0. 0.]\n",
            " [0. 1. 0. ... 0. 0. 0.]\n",
            " ...\n",
            " [0. 0. 0. ... 0. 0. 0.]\n",
            " [0. 0. 0. ... 0. 0. 0.]\n",
            " [0. 0. 0. ... 0. 0. 0.]]\n"
          ]
        }
      ]
    },
    {
      "cell_type": "code",
      "source": [
        "figure = plt.figure()\n",
        "\n",
        "# Plot the graph and its legend.\n",
        "networkx_graph = g.get_networkx_graph()\n",
        "v_list      = g.get_vertex_list()\n",
        "v_labels    = g.get_vertex_labels()\n",
        "vertex_annotation_strings = [f\"\\n\\n$\\ell(${v}$)=$ {v_labels[v]}\" for v in v_list]\n",
        "plot_annotation_dictionary = dict(zip(v_list, vertex_annotation_strings))\n",
        "\n",
        "nx.draw(networkx_graph, labels=plot_annotation_dictionary, with_labels=True)\n",
        "\n",
        "# Construction of the title\n",
        "title_str  = f\"{dataset_name}-Graph {graph_id}\"\n",
        "title_str += f\"\\nn={g.get_nr_vertices()}, m={int(g.get_nr_edges() / 2)}, c={classes[graph_id]}\"\n",
        "plt.title(title_str)\n",
        "plt.show()"
      ],
      "metadata": {
        "colab": {
          "base_uri": "https://localhost:8080/",
          "height": 350
        },
        "id": "gYHiOVRqKOQt",
        "outputId": "2ebdcb6a-312b-472e-86a0-110a494b238e"
      },
      "execution_count": null,
      "outputs": [
        {
          "output_type": "display_data",
          "data": {
            "text/plain": [
              "<Figure size 432x288 with 1 Axes>"
            ],
            "image/png": "[encoded data removed]"
          },
          "metadata": {}
        }
      ]
    },
    {
      "cell_type": "code",
      "source": [
        "# TODO: How to mark a path in G"
      ],
      "metadata": {
        "id": "zg5R2a6qWdP2"
      },
      "execution_count": null,
      "outputs": []
    },
    {
      "cell_type": "markdown",
      "source": [
        "## Algorithms on Digraphs"
      ],
      "metadata": {
        "id": "npqtZ3Sekd6w"
      }
    },
    {
      "cell_type": "markdown",
      "source": [
        "### Dijkstras Algorithm"
      ],
      "metadata": {
        "id": "C_gAB8ZpkiIs"
      }
    },
    {
      "cell_type": "code",
      "execution_count": null,
      "metadata": {
        "id": "fFX3pnc0kWq3"
      },
      "outputs": [],
      "source": []
    }
  ]
}