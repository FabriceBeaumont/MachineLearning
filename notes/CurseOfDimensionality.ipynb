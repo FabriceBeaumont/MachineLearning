{
 "cells": [
  {
   "cell_type": "markdown",
   "metadata": {},
   "source": [
    "# On the Curse of Dimensionality"
   ]
  },
  {
   "cell_type": "markdown",
   "metadata": {},
   "source": [
    "## Formalities"
   ]
  },
  {
   "cell_type": "markdown",
   "metadata": {},
   "source": [
    "### Sources\n",
    "- ['Nearest Neighbors in High-Dimensional Data: The Emergence and Inﬂuence of Hubs' by Milos Radovanovic et al.' - 2009 - Paper](https://dl.acm.org/doi/abs/10.1145/1553374.1553485?casa_token=92c1CrgMTnUAAAAA:lrZR71we8sCBBd6FoU7eJ0cl6dc8_pCjXL6TEfrFTAXdIHtYHECiUmJ3KwZsSA1JKIV_3Imo2J8Urg)\n",
    "- ['Pattern recognition and machine learning' by CM Bishop, NM Nasrabadi - 2006 - Book](https://link.springer.com/book/9780387310732)"
   ]
  },
  {
   "cell_type": "markdown",
   "metadata": {},
   "source": [
    "### Imports"
   ]
  },
  {
   "cell_type": "code",
   "execution_count": 1,
   "metadata": {},
   "outputs": [],
   "source": [
    "import numpy as np\n",
    "import matplotlib.pyplot as plt\n",
    "import pandas\n",
    "import tqdm"
   ]
  },
  {
   "cell_type": "markdown",
   "metadata": {},
   "source": [
    "# Basic example"
   ]
  },
  {
   "cell_type": "code",
   "execution_count": 4,
   "metadata": {},
   "outputs": [
    {
     "ename": "ValueError",
     "evalue": "mean must be 1 dimensional",
     "output_type": "error",
     "traceback": [
      "\u001b[0;31m---------------------------------------------------------------------------\u001b[0m",
      "\u001b[0;31mValueError\u001b[0m                                Traceback (most recent call last)",
      "\u001b[1;32m/home/fabrice/Documents/coding/ML/MachineLearning/CurseOfDimensionality.ipynb Cell 7\u001b[0m line \u001b[0;36m3\n\u001b[1;32m      <a href='vscode-notebook-cell:/home/fabrice/Documents/coding/ML/MachineLearning/CurseOfDimensionality.ipynb#W6sZmlsZQ%3D%3D?line=0'>1</a>\u001b[0m mean \u001b[39m=\u001b[39m \u001b[39m4.\u001b[39m\n\u001b[1;32m      <a href='vscode-notebook-cell:/home/fabrice/Documents/coding/ML/MachineLearning/CurseOfDimensionality.ipynb#W6sZmlsZQ%3D%3D?line=1'>2</a>\u001b[0m cov \u001b[39m=\u001b[39m \u001b[39m0.2\u001b[39m\n\u001b[0;32m----> <a href='vscode-notebook-cell:/home/fabrice/Documents/coding/ML/MachineLearning/CurseOfDimensionality.ipynb#W6sZmlsZQ%3D%3D?line=2'>3</a>\u001b[0m x \u001b[39m=\u001b[39m np\u001b[39m.\u001b[39;49mrandom\u001b[39m.\u001b[39;49mmultivariate_normal(mean, cov, \u001b[39m10000\u001b[39;49m)\n\u001b[1;32m      <a href='vscode-notebook-cell:/home/fabrice/Documents/coding/ML/MachineLearning/CurseOfDimensionality.ipynb#W6sZmlsZQ%3D%3D?line=3'>4</a>\u001b[0m plt\u001b[39m.\u001b[39mscatter(x)\n",
      "File \u001b[0;32mnumpy/random/mtrand.pyx:4205\u001b[0m, in \u001b[0;36mnumpy.random.mtrand.RandomState.multivariate_normal\u001b[0;34m()\u001b[0m\n",
      "\u001b[0;31mValueError\u001b[0m: mean must be 1 dimensional"
     ]
    }
   ],
   "source": [
    "mean = 4.\n",
    "cov = 0.2\n",
    "x = np.random.multivariate_normal(mean, cov, 10000)\n",
    "plt.scatter(x)"
   ]
  },
  {
   "cell_type": "markdown",
   "metadata": {},
   "source": [
    "# k-Nearest problem"
   ]
  },
  {
   "cell_type": "markdown",
   "metadata": {},
   "source": []
  }
 ],
 "metadata": {
  "kernelspec": {
   "display_name": "venv",
   "language": "python",
   "name": "venv"
  },
  "language_info": {
   "codemirror_mode": {
    "name": "ipython",
    "version": 3
   },
   "file_extension": ".py",
   "mimetype": "text/x-python",
   "name": "python",
   "nbconvert_exporter": "python",
   "pygments_lexer": "ipython3",
   "version": "3.10.9"
  }
 },
 "nbformat": 4,
 "nbformat_minor": 2
}
