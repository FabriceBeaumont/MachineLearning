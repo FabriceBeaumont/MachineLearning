{
  "nbformat": 4,
  "nbformat_minor": 0,
  "metadata": {
    "colab": {
      "provenance": [],
      "authorship_tag": "ABX9TyP2ZbVNZUSluxjTYpcj8MT9",
      "include_colab_link": true
    },
    "kernelspec": {
      "name": "python3",
      "display_name": "Python 3"
    },
    "language_info": {
      "name": "python"
    }
  },
  "cells": [
    {
      "cell_type": "markdown",
      "metadata": {
        "id": "view-in-github",
        "colab_type": "text"
      },
      "source": [
        "<a href=\"https://colab.research.google.com/github/FabriceBeaumont/MachineLearning/blob/main/LinearProgramExercises.ipynb\" target=\"_parent\"><img src=\"https://colab.research.google.com/assets/colab-badge.svg\" alt=\"Open In Colab\"/></a>"
      ]
    },
    {
      "cell_type": "code",
      "source": [
        "%pip install --upgrade --user ortools"
      ],
      "metadata": {
        "colab": {
          "base_uri": "https://localhost:8080/"
        },
        "id": "z4wVHjOfgYpR",
        "outputId": "8c7608ab-0168-4724-c500-0b656f97b2e0"
      },
      "execution_count": 1,
      "outputs": [
        {
          "output_type": "stream",
          "name": "stdout",
          "text": [
            "Looking in indexes: https://pypi.org/simple, https://us-python.pkg.dev/colab-wheels/public/simple/\n",
            "Requirement already satisfied: ortools in /root/.local/lib/python3.10/site-packages (9.6.2534)\n",
            "Requirement already satisfied: absl-py>=0.13 in /usr/local/lib/python3.10/dist-packages (from ortools) (1.4.0)\n",
            "Requirement already satisfied: numpy>=1.13.3 in /root/.local/lib/python3.10/site-packages (from ortools) (1.24.3)\n",
            "Requirement already satisfied: protobuf>=4.21.12 in /root/.local/lib/python3.10/site-packages (from ortools) (4.23.2)\n",
            "Requirement already satisfied: scipy>=1.10.0 in /usr/local/lib/python3.10/dist-packages (from ortools) (1.10.1)\n"
          ]
        }
      ]
    },
    {
      "cell_type": "code",
      "execution_count": 17,
      "metadata": {
        "id": "xC-KEMYQY3Ev"
      },
      "outputs": [],
      "source": [
        "import numpy as np\n",
        "import matplotlib.pyplot as plt\n",
        "\n",
        "# Import linear solver from Google OR-Tools \n",
        "from ortools.linear_solver import pywraplp"
      ]
    },
    {
      "cell_type": "code",
      "source": [
        "def present_solver_solution(solver):\n",
        "    status = solver.Solve()\n",
        "\n",
        "    if status == pywraplp.Solver.OPTIMAL: \n",
        "        print('Solution:')\n",
        "        print('Objective value =', round(solver.Objective().Value(), 2))\n",
        "        print('x =', round(x.solution_value(), 2))\n",
        "        print('y =', round(y.solution_value(), 2))\n",
        "    else: \n",
        "        print('The problem does not have an optimal solution.')\n",
        "\n",
        "    return status"
      ],
      "metadata": {
        "id": "0ATNmQFWY7lU"
      },
      "execution_count": 7,
      "outputs": []
    },
    {
      "cell_type": "markdown",
      "source": [
        "# LP Examples"
      ],
      "metadata": {
        "id": "ckY_XlZFhQBN"
      }
    },
    {
      "cell_type": "markdown",
      "source": [
        "## Simple maximization LP (2.1.1)\n",
        "\n",
        "Situation: Paula works at the uni (U, 50 EUR/h) and as a tutor (T, 30 EUR/h). \n",
        "\n",
        "For U: Teaching material 10 pages, driving 20 km, preparation time 3 h.\n",
        "\n",
        "For T: Teaching material 20 pages, driving 10 km, preparation time 1 h.\n",
        "\n",
        "Limits: 160 pages, 110 km, 15 h.\n",
        "\n",
        "Target function: Maximize income."
      ],
      "metadata": {
        "id": "BgkqhlpOhSgd"
      }
    },
    {
      "cell_type": "code",
      "source": [
        "# Instantiate a Glop solver.\n",
        "solver = pywraplp.Solver.CreateSolver('GLOP')\n",
        "# Create the two non-negative variables.\n",
        "x = solver.NumVar(0, solver.infinity(), 'h_uni ') \n",
        "y = solver.NumVar(0, solver.infinity(), 'h_tutor')\n",
        "# Page restriction.\n",
        "solver.Add(10 * x + 20 * y <= 160)\n",
        "# Driving restriction.\n",
        "solver.Add(20 * x + 10 * y <= 110)\n",
        "# Preparation time restriction.\n",
        "solver.Add( 3 * x + 1 * y <= 15)\n",
        "# Set as maximization problem and input target function.\n",
        "solver.Maximize(50 * x + 30 * y)"
      ],
      "metadata": {
        "id": "C8JlWXBRZDGp"
      },
      "execution_count": 12,
      "outputs": []
    },
    {
      "cell_type": "code",
      "source": [
        "status = present_solver_solution(solver)"
      ],
      "metadata": {
        "colab": {
          "base_uri": "https://localhost:8080/"
        },
        "id": "MfLJfdgKjq_t",
        "outputId": "a7c367c8-9e5b-4f56-c7a8-8b34b03a0262"
      },
      "execution_count": 13,
      "outputs": [
        {
          "output_type": "stream",
          "name": "stdout",
          "text": [
            "Solution:\n",
            "Objective value = 310.0\n",
            "x = 2.0\n",
            "y = 7.0\n"
          ]
        }
      ]
    },
    {
      "cell_type": "markdown",
      "source": [
        "### Plot the solution"
      ],
      "metadata": {
        "id": "-lFExsJjlOE5"
      }
    },
    {
      "cell_type": "markdown",
      "source": [
        "LP: \n",
        "\n",
        "$\\begin{align}\n",
        "\\max 50x +30y \\\\\n",
        "\\text{s.t.} 10 x +20 y &\\le 160\\\\\n",
        "20 x +10 y &\\le 110 \\\\\n",
        "3 x + 1y &\\le 15\\\\ \n",
        "x &≥ 0 \\\\ \n",
        "y &≥ 0\n",
        "\\end{align}$"
      ],
      "metadata": {
        "id": "k4j6veB0iVKi"
      }
    },
    {
      "cell_type": "code",
      "source": [
        "# Plot the feasible region.\n",
        "d = np.linspace(-2,16,300)\n",
        "x,y = np.meshgrid(d,d)\n",
        "\n",
        "# Plot the feasible region.\n",
        "plt.imshow( ((y>=0) & (20*y<=160-10*x) & (10*y<=110-20*x) & (y<=15-3*x)).astype(int) , \n",
        "                extent=(x.min(),x.max(),y.min(),y.max()),\n",
        "            origin=\"lower\", \n",
        "            cmap=\"Greys\", \n",
        "            alpha = 0.3);\n",
        "\n",
        "\n",
        "# Plot the lines defining the constraints.\n",
        "x = np.linspace(0, 16, 2000)\n",
        "# 10x + 20y <= 160\n",
        "y1 = (16-x)/2\n",
        "# 20x + 10y <= 110\n",
        "y2 = (11-2*x)\n",
        "# 3x + y <= 15\n",
        "y3 = 15-3*x\n",
        "\n",
        "# Plot the lines defining the target function - with optimal values.\n",
        "# 50x + 30y = b such that for x = 2.0 and y = 7.0 b = 310.0\n",
        "f = -5/3 * x + 31/3\n",
        "\n",
        "# Make plot\n",
        "plt.plot(x, y1, label=r'$10x + 20y \\leq 160$')\n",
        "plt.plot(x, y2, label=r'$20x + 10y \\leq 110$')\n",
        "plt.plot(x, y3, label=r'$3x + y \\leq 15$')\n",
        " \n",
        "plt.plot(x, f, label=r'$\\max 50 y + 30x = 330 $')\n",
        "plt.plot(2, 7, 'bo', label=r'$Optimum (2,7)$')\n",
        "\n",
        "plt.xlim(0, 16)\n",
        "plt.ylim(0, 11)\n",
        "plt.legend(bbox_to_anchor=(1.05, 1), loc=2, borderaxespad=0.)\n",
        "plt.xlabel(r'$x$')\n",
        "plt.ylabel(r'$y$')"
      ],
      "metadata": {
        "colab": {
          "base_uri": "https://localhost:8080/",
          "height": 438
        },
        "id": "qIjzS0HqkFV5",
        "outputId": "e81006ff-f118-48a4-cbe7-56b3e98e5cae"
      },
      "execution_count": 30,
      "outputs": [
        {
          "output_type": "execute_result",
          "data": {
            "text/plain": [
              "Text(0, 0.5, '$y$')"
            ]
          },
          "metadata": {},
          "execution_count": 30
        },
        {
          "output_type": "display_data",
          "data": {
            "text/plain": [
              "<Figure size 640x480 with 1 Axes>"
            ],
            "image/png": "[encoded data removed]"
          },
          "metadata": {}
        }
      ]
    },
    {
      "cell_type": "code",
      "source": [],
      "metadata": {
        "id": "IQc3YQUNlxJ7"
      },
      "execution_count": null,
      "outputs": []
    }
  ]
}