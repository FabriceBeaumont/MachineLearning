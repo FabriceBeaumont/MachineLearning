{
  "nbformat": 4,
  "nbformat_minor": 0,
  "metadata": {
    "colab": {
      "provenance": [],
      "authorship_tag": "ABX9TyP9n3z2vOlQcCQAiEvCy80g",
      "include_colab_link": true
    },
    "kernelspec": {
      "name": "python3",
      "display_name": "Python 3"
    },
    "language_info": {
      "name": "python"
    }
  },
  "cells": [
    {
      "cell_type": "markdown",
      "metadata": {
        "id": "view-in-github",
        "colab_type": "text"
      },
      "source": [
        "<a href=\"https://colab.research.google.com/github/FabriceBeaumont/MachineLearning/blob/main/LinearProgramExercises.ipynb\" target=\"_parent\"><img src=\"https://colab.research.google.com/assets/colab-badge.svg\" alt=\"Open In Colab\"/></a>"
      ]
    },
    {
      "cell_type": "code",
      "source": [
        "!pip install ortools"
      ],
      "metadata": {
        "colab": {
          "base_uri": "https://localhost:8080/"
        },
        "id": "z4wVHjOfgYpR",
        "outputId": "62a6cf11-46ac-401a-f3c8-9be776994834"
      },
      "execution_count": 2,
      "outputs": [
        {
          "output_type": "stream",
          "name": "stdout",
          "text": [
            "Looking in indexes: https://pypi.org/simple, https://us-python.pkg.dev/colab-wheels/public/simple/\n",
            "Collecting ortools\n",
            "  Downloading ortools-9.6.2534-cp310-cp310-manylinux_2_17_x86_64.manylinux2014_x86_64.whl (16.4 MB)\n",
            "\u001b[2K     \u001b[90m━━━━━━━━━━━━━━━━━━━━━━━━━━━━━━━━━━━━━━━━\u001b[0m \u001b[32m16.4/16.4 MB\u001b[0m \u001b[31m76.0 MB/s\u001b[0m eta \u001b[36m0:00:00\u001b[0m\n",
            "\u001b[?25hRequirement already satisfied: absl-py>=0.13 in /usr/local/lib/python3.10/dist-packages (from ortools) (1.4.0)\n",
            "Requirement already satisfied: numpy>=1.13.3 in /usr/local/lib/python3.10/dist-packages (from ortools) (1.22.4)\n",
            "Collecting protobuf>=4.21.12 (from ortools)\n",
            "  Downloading protobuf-4.23.3-cp37-abi3-manylinux2014_x86_64.whl (304 kB)\n",
            "\u001b[2K     \u001b[90m━━━━━━━━━━━━━━━━━━━━━━━━━━━━━━━━━━━━━━\u001b[0m \u001b[32m304.5/304.5 kB\u001b[0m \u001b[31m22.4 MB/s\u001b[0m eta \u001b[36m0:00:00\u001b[0m\n",
            "\u001b[?25hRequirement already satisfied: scipy>=1.10.0 in /usr/local/lib/python3.10/dist-packages (from ortools) (1.10.1)\n",
            "Installing collected packages: protobuf, ortools\n",
            "  Attempting uninstall: protobuf\n",
            "    Found existing installation: protobuf 3.20.3\n",
            "    Uninstalling protobuf-3.20.3:\n",
            "      Successfully uninstalled protobuf-3.20.3\n",
            "Successfully installed ortools-9.6.2534 protobuf-4.23.3\n"
          ]
        }
      ]
    },
    {
      "cell_type": "code",
      "execution_count": 3,
      "metadata": {
        "id": "xC-KEMYQY3Ev"
      },
      "outputs": [],
      "source": [
        "import numpy as np\n",
        "import matplotlib.pyplot as plt\n",
        "\n",
        "# Import linear solver from Google OR-Tools\n",
        "from ortools.linear_solver import pywraplp"
      ]
    },
    {
      "cell_type": "code",
      "source": [
        "def present_solver_solution(solver):\n",
        "    status = solver.Solve()\n",
        "\n",
        "    if status == pywraplp.Solver.OPTIMAL:\n",
        "        print('Solution:')\n",
        "        print('Objective value =', round(solver.Objective().Value(), 2))\n",
        "        for var in solver.variables():\n",
        "            print(f'{str(var)} =', round(var.solution_value(), 2))\n",
        "    else:\n",
        "        print('The problem does not have an optimal solution.')\n",
        "\n",
        "    return status"
      ],
      "metadata": {
        "id": "0ATNmQFWY7lU"
      },
      "execution_count": 17,
      "outputs": []
    },
    {
      "cell_type": "markdown",
      "source": [
        "# LP Examples"
      ],
      "metadata": {
        "id": "ckY_XlZFhQBN"
      }
    },
    {
      "cell_type": "markdown",
      "source": [
        "## Non-integer LPs"
      ],
      "metadata": {
        "id": "JBCjZWucVEQ_"
      }
    },
    {
      "cell_type": "markdown",
      "source": [
        "### Simple maximization LP (2.1.1)\n",
        "\n",
        "Situation: Paula works at the uni (U, 50 EUR/h) and as a tutor (T, 30 EUR/h).\n",
        "\n",
        "For U: Teaching material 10 pages, driving 20 km, preparation time 3 h.\n",
        "\n",
        "For T: Teaching material 20 pages, driving 10 km, preparation time 1 h.\n",
        "\n",
        "Limits: 160 pages, 110 km, 15 h.\n",
        "\n",
        "Target function: Maximize income."
      ],
      "metadata": {
        "id": "BgkqhlpOhSgd"
      }
    },
    {
      "cell_type": "markdown",
      "source": [
        "#### LP construction"
      ],
      "metadata": {
        "id": "BB7250mpVPRA"
      }
    },
    {
      "cell_type": "markdown",
      "source": [
        "LP:\n",
        "\n",
        "$\\begin{align}\n",
        "\\max 50x +30y \\\\\n",
        "\\text{s.t.} 10 x +20 y &\\le 160\\\\\n",
        "20 x +10 y &\\le 110 \\\\\n",
        "3 x + 1y &\\le 15\\\\\n",
        "x &≥ 0 \\\\\n",
        "y &≥ 0\n",
        "\\end{align}$"
      ],
      "metadata": {
        "id": "k4j6veB0iVKi"
      }
    },
    {
      "cell_type": "markdown",
      "source": [
        "#### Solving the LP"
      ],
      "metadata": {
        "id": "_G_2vQ6JVS0c"
      }
    },
    {
      "cell_type": "code",
      "source": [
        "# Instantiate a Glop solver.\n",
        "solver = pywraplp.Solver.CreateSolver('GLOP')\n",
        "# Create the two non-negative variables.\n",
        "x = solver.NumVar(0, solver.infinity(), 'h_uni ')\n",
        "y = solver.NumVar(0, solver.infinity(), 'h_tutor')\n",
        "# Page restriction.\n",
        "solver.Add(10 * x + 20 * y <= 160)\n",
        "# Driving restriction.\n",
        "solver.Add(20 * x + 10 * y <= 110)\n",
        "# Preparation time restriction.\n",
        "solver.Add( 3 * x + 1 * y <= 15)\n",
        "# Set as maximization problem and input target function.\n",
        "solver.Maximize(50 * x + 30 * y)"
      ],
      "metadata": {
        "id": "C8JlWXBRZDGp",
        "colab": {
          "base_uri": "https://localhost:8080/",
          "height": 241
        },
        "outputId": "18e22ce0-b1dc-4856-e20b-bd405f815b0f"
      },
      "execution_count": 1,
      "outputs": [
        {
          "output_type": "error",
          "ename": "NameError",
          "evalue": "ignored",
          "traceback": [
            "\u001b[0;31m---------------------------------------------------------------------------\u001b[0m",
            "\u001b[0;31mNameError\u001b[0m                                 Traceback (most recent call last)",
            "\u001b[0;32m<ipython-input-1-e27074e4bdac>\u001b[0m in \u001b[0;36m<cell line: 2>\u001b[0;34m()\u001b[0m\n\u001b[1;32m      1\u001b[0m \u001b[0;31m# Instantiate a Glop solver.\u001b[0m\u001b[0;34m\u001b[0m\u001b[0;34m\u001b[0m\u001b[0m\n\u001b[0;32m----> 2\u001b[0;31m \u001b[0msolver\u001b[0m \u001b[0;34m=\u001b[0m \u001b[0mpywraplp\u001b[0m\u001b[0;34m.\u001b[0m\u001b[0mSolver\u001b[0m\u001b[0;34m.\u001b[0m\u001b[0mCreateSolver\u001b[0m\u001b[0;34m(\u001b[0m\u001b[0;34m'GLOP'\u001b[0m\u001b[0;34m)\u001b[0m\u001b[0;34m\u001b[0m\u001b[0;34m\u001b[0m\u001b[0m\n\u001b[0m\u001b[1;32m      3\u001b[0m \u001b[0;31m# Create the two non-negative variables.\u001b[0m\u001b[0;34m\u001b[0m\u001b[0;34m\u001b[0m\u001b[0m\n\u001b[1;32m      4\u001b[0m \u001b[0mx\u001b[0m \u001b[0;34m=\u001b[0m \u001b[0msolver\u001b[0m\u001b[0;34m.\u001b[0m\u001b[0mNumVar\u001b[0m\u001b[0;34m(\u001b[0m\u001b[0;36m0\u001b[0m\u001b[0;34m,\u001b[0m \u001b[0msolver\u001b[0m\u001b[0;34m.\u001b[0m\u001b[0minfinity\u001b[0m\u001b[0;34m(\u001b[0m\u001b[0;34m)\u001b[0m\u001b[0;34m,\u001b[0m \u001b[0;34m'h_uni '\u001b[0m\u001b[0;34m)\u001b[0m\u001b[0;34m\u001b[0m\u001b[0;34m\u001b[0m\u001b[0m\n\u001b[1;32m      5\u001b[0m \u001b[0my\u001b[0m \u001b[0;34m=\u001b[0m \u001b[0msolver\u001b[0m\u001b[0;34m.\u001b[0m\u001b[0mNumVar\u001b[0m\u001b[0;34m(\u001b[0m\u001b[0;36m0\u001b[0m\u001b[0;34m,\u001b[0m \u001b[0msolver\u001b[0m\u001b[0;34m.\u001b[0m\u001b[0minfinity\u001b[0m\u001b[0;34m(\u001b[0m\u001b[0;34m)\u001b[0m\u001b[0;34m,\u001b[0m \u001b[0;34m'h_tutor'\u001b[0m\u001b[0;34m)\u001b[0m\u001b[0;34m\u001b[0m\u001b[0;34m\u001b[0m\u001b[0m\n",
            "\u001b[0;31mNameError\u001b[0m: name 'pywraplp' is not defined"
          ]
        }
      ]
    },
    {
      "cell_type": "code",
      "source": [
        "status = present_solver_solution(solver)"
      ],
      "metadata": {
        "id": "MfLJfdgKjq_t"
      },
      "execution_count": null,
      "outputs": []
    },
    {
      "cell_type": "markdown",
      "source": [
        "#### Plot the solution"
      ],
      "metadata": {
        "id": "-lFExsJjlOE5"
      }
    },
    {
      "cell_type": "code",
      "source": [
        "# Plot the feasible region.\n",
        "d = np.linspace(-2,16,300)\n",
        "x,y = np.meshgrid(d,d)\n",
        "\n",
        "# Plot the feasible region.\n",
        "plt.imshow( ((y>=0) & (20*y<=160-10*x) & (10*y<=110-20*x) & (y<=15-3*x)).astype(int) ,\n",
        "                extent=(x.min(),x.max(),y.min(),y.max()),\n",
        "            origin=\"lower\",\n",
        "            cmap=\"Greys\",\n",
        "            alpha = 0.3);\n",
        "\n",
        "\n",
        "# Plot the lines defining the constraints.\n",
        "x = np.linspace(0, 16, 2000)\n",
        "# 10x + 20y <= 160\n",
        "y1 = (16-x)/2\n",
        "# 20x + 10y <= 110\n",
        "y2 = (11-2*x)\n",
        "# 3x + y <= 15\n",
        "y3 = 15-3*x\n",
        "\n",
        "# Plot the lines defining the target function - with optimal values.\n",
        "# 50x + 30y = b such that for x = 2.0 and y = 7.0 b = 310.0\n",
        "f = -5/3 * x + 31/3\n",
        "\n",
        "# Make plot\n",
        "plt.plot(x, y1, label=r'$10x + 20y \\leq 160$')\n",
        "plt.plot(x, y2, label=r'$20x + 10y \\leq 110$')\n",
        "plt.plot(x, y3, label=r'$3x + y \\leq 15$')\n",
        "\n",
        "plt.plot(x, f, label=r'$\\max 50 y + 30x = 330 $')\n",
        "plt.plot(2, 7, 'bo', label=r'$Optimum (2,7)$')\n",
        "\n",
        "plt.xlim(0, 16)\n",
        "plt.ylim(0, 11)\n",
        "plt.legend(bbox_to_anchor=(1.05, 1), loc=2, borderaxespad=0.)\n",
        "plt.xlabel(r'$x$')\n",
        "plt.ylabel(r'$y$')"
      ],
      "metadata": {
        "id": "qIjzS0HqkFV5"
      },
      "execution_count": null,
      "outputs": []
    },
    {
      "cell_type": "markdown",
      "source": [
        "### Simple maximization LP (2.10.2)\n",
        "\n",
        "Situation: Weekly requirements of at least 12t G, 8t M and 24t F.\n",
        "\n",
        "Source1: Cost of 200, 6 G/d, 2 M/d,  4 F/d.\n",
        "Source2: Cost of 160, 2 G/d, 2 M/d, 12 F/d.\n",
        "\n",
        "Target: Cheapest setting to use the sources (in days, not necessarily as an integer soution required)."
      ],
      "metadata": {
        "id": "feCm4EuiGu9m"
      }
    },
    {
      "cell_type": "markdown",
      "source": [
        "#### LP construction"
      ],
      "metadata": {
        "id": "xfF6NpWTVcLZ"
      }
    },
    {
      "cell_type": "markdown",
      "source": [
        "LP:\n",
        "\n",
        "$\\begin{align}\n",
        "\\min 200x +160y \\\\\n",
        "\\text{s.t.} 6 x +2 y &\\ge 12\\\\\n",
        "2 x +2 y &\\ge 8 \\\\\n",
        "4 x + 12y &\\ge 24\\\\\n",
        "x &≥ 0 \\\\\n",
        "y &≥ 0 \\\\\n",
        "x &≤ 7 \\\\\n",
        "y &\\le 7\n",
        "\\end{align}$"
      ],
      "metadata": {
        "id": "mvfBYNsuIsdd"
      }
    },
    {
      "cell_type": "markdown",
      "source": [
        "#### Solve the LP"
      ],
      "metadata": {
        "id": "e-9UCNefVekq"
      }
    },
    {
      "cell_type": "code",
      "source": [
        "# Instantiate a Glop solver.\n",
        "solver = pywraplp.Solver.CreateSolver('GLOP')\n",
        "# Create the two non-negative variables.\n",
        "x = solver.NumVar(0, solver.infinity(), 't_source1')\n",
        "y = solver.NumVar(0, solver.infinity(), 't_source1')\n",
        "# Page restriction.\n",
        "solver.Add(6 * x + 2 * y >= 12)\n",
        "# Driving restriction.\n",
        "solver.Add(2 * x + 2 * y >= 8)\n",
        "# Preparation time restriction.\n",
        "solver.Add(4 * x + 12 * y >= 24)\n",
        "# Set as minimization problem and input target function.\n",
        "solver.Minimize(200 * x + 160 * y)"
      ],
      "metadata": {
        "id": "Jo9LUvp_Hemt"
      },
      "execution_count": null,
      "outputs": []
    },
    {
      "cell_type": "code",
      "source": [
        "status = present_solver_solution(solver)"
      ],
      "metadata": {
        "colab": {
          "base_uri": "https://localhost:8080/"
        },
        "id": "yi7_ZJcrH694",
        "outputId": "83a3d0ef-cc2d-417a-988d-4ed5e8f80e1e"
      },
      "execution_count": null,
      "outputs": [
        {
          "output_type": "stream",
          "name": "stdout",
          "text": [
            "Solution:\n",
            "Objective value = 680.0\n",
            "x = 1.0\n",
            "y = 3.0\n"
          ]
        }
      ]
    },
    {
      "cell_type": "markdown",
      "source": [
        "#### Plot the solution"
      ],
      "metadata": {
        "id": "k_-QQeV5Vg-d"
      }
    },
    {
      "cell_type": "code",
      "source": [
        "# Plot the feasible region.\n",
        "d = np.linspace(-2,16,300)\n",
        "x,y = np.meshgrid(d,d)\n",
        "\n",
        "# Plot the feasible region.\n",
        "plt.imshow( ((y<=7) & (x<=7) &(2*y>=12-6*x) & (2*y>=8-2*x) & (12*y>=24-4*x)).astype(int) ,\n",
        "                extent=(x.min(),x.max(),y.min(),y.max()),\n",
        "            origin=\"lower\",\n",
        "            cmap=\"Greys\",\n",
        "            alpha = 0.3);\n",
        "\n",
        "\n",
        "# Plot the lines defining the constraints.\n",
        "x = np.linspace(0, 8, 200)\n",
        "# 6x + 2y >= 12\n",
        "y1 = (12 - 6*x)/2\n",
        "# 2x + 2y <= 8\n",
        "y2 = (8 - 2*x)/2\n",
        "# 4x + 12y <= 24\n",
        "y3 = (24 - 4*x)/12\n",
        "\n",
        "# Plot the lines defining the target function - with optimal values.\n",
        "# y = -200/160x + b such that the line intersects x = 1.0 and y = 3.0: 3+20/16 = b ==> b = 68/16\n",
        "f = -20/16 * x + 68/16\n",
        "\n",
        "# Make plot\n",
        "plt.plot(x, y1, label=r'$6x + 2y\\leq 12$')\n",
        "plt.plot(x, y2, label=r'$2x + 2y \\leq 8$')\n",
        "plt.plot(x, y3, label=r'$4x + 12y \\leq 24$')\n",
        "\n",
        "plt.plot(x, f, label=r'$\\min 200 y + 160x = 680 $')\n",
        "plt.plot(1, 3, 'bo', label=r'$Optimum (1,3)$')\n",
        "\n",
        "plt.xlim(0, 8)\n",
        "plt.ylim(0, 8)\n",
        "plt.legend(bbox_to_anchor=(1.05, 1), loc=2, borderaxespad=0.)\n",
        "plt.xlabel(r'$x$')\n",
        "plt.ylabel(r'$y$')"
      ],
      "metadata": {
        "colab": {
          "base_uri": "https://localhost:8080/",
          "height": 472
        },
        "id": "Jo6hN2-aIlRE",
        "outputId": "dbb8417a-58fd-482a-91bb-fa6b7decaf0f"
      },
      "execution_count": null,
      "outputs": [
        {
          "output_type": "execute_result",
          "data": {
            "text/plain": [
              "Text(0, 0.5, '$y$')"
            ]
          },
          "metadata": {},
          "execution_count": 14
        },
        {
          "output_type": "display_data",
          "data": {
            "text/plain": [
              "<Figure size 640x480 with 1 Axes>"
            ],
            "image/png": "[encoded data removed]"
          },
          "metadata": {}
        }
      ]
    },
    {
      "cell_type": "markdown",
      "source": [
        "If Source1 will increase efficieny and thus reduce production costs by $k$, the solution may change as well. This changes the target function (red) and thus another optimal solution (corner of the polygon of feasable solutions) may be reached."
      ],
      "metadata": {
        "id": "eDIqrD1eL7Ur"
      }
    },
    {
      "cell_type": "markdown",
      "source": [
        "### Example 2.10.14. - Radio sale, teaching workers\n",
        "A company shall produce 20000 radios within the next four weeks. Radios, which are delivered at the end of the first week have a return of 20 dollars, the ones from the second week 18, from the third 16 and from the last week 14 dollars.\n",
        "\n",
        "Currently there are 40 workers working for the company. Each produces 50 radios per week.\n",
        "Every worker can be taken out of the production to instruct 3 new workers - which all can work in the next week (or teach themselves).\n",
        "\n",
        "How to maximize the profit when producing the 20000 radios?"
      ],
      "metadata": {
        "id": "buTmByTqU1iz"
      }
    },
    {
      "cell_type": "markdown",
      "source": [
        "#### Construct the LP"
      ],
      "metadata": {
        "id": "8wOLbTQIbOSH"
      }
    },
    {
      "cell_type": "markdown",
      "source": [
        "**Solutions**: Notice, that since the company has a fixed number of workers to begin with, the radios per worker are fixed and the number of workers in the next weeks depend entirely on the number of instructing workers - these numbers of instructing workers are our variables.\n",
        "\n",
        "Let $\\delta_i$ be the number of instructors from week $i$. Notice, how it cannot be beneficial, to let anybody teach in the fourth week, since the resulting new workers will not work for the target goal. Thus set $\\delta_4=0$ to begin with.\n",
        "It may seem unintuitive, but by design we like to introduce a constraint to limit the amount of radios. Afterall, the task is not to maximize the output of radios indefinitively, and worker costs are not considered either. We can simplify the formula for the number of produced radios $R$ as follows:\n",
        "\n",
        "$\\begin{align}\n",
        "    20000 &\\le 50 \\big(40-\\delta_1\\big) + 50 \\big(40+3\\delta_1-\\delta_2\\big) + 50 \\big(40+3(\\delta_1+\\delta_2)-\\delta_3\\big) + 50 \\big(40+3(\\delta_1+\\delta_2+\\delta_3)\\big)\\\\\n",
        "    &= 50 \\big( 40- \\delta_1 + 40+3\\delta_1-\\delta_2 + 40+3(\\delta_1+\\delta_2)-\\delta_3 + 40+3(\\delta_1+\\delta_2+\\delta_3)\\big)\\\\\n",
        "    &= 50 \\big( 4*40 -\\delta_1 +3\\delta_1-\\delta_2 +3(\\delta_1+\\delta_2)-\\delta_3 +3(\\delta_1+\\delta_2+\\delta_3)\\big)\\\\\n",
        "    &= 50 \\big( 4*40 +2\\delta_1-\\delta_2 +3 \\delta_1+ 3\\delta_2 - \\delta_3 +3\\delta_1+3\\delta_2+3\\delta_3\\big)\\\\\n",
        "    &= 50 \\big( 4*40 + 8\\delta_1 + 5\\delta_2 + 2\\delta_3 \\big)\\\\\n",
        "    &= 1600 + 50 \\: ( 8\\delta_1 + 5\\delta_2 + 2\\delta_3 )\\\\\n",
        "    18400 &\\le 50 \\: ( 8\\delta_1 + 5\\delta_2 + 2\\delta_3 )\\\\\n",
        "    368 &\\le 8\\delta_1 + 5\\delta_2 + 2\\delta_3 \\\\\n",
        "\\end{align}$\n",
        "\n",
        "Now we construct the LP:"
      ],
      "metadata": {
        "id": "HS4UkK4gWmlj"
      }
    },
    {
      "cell_type": "markdown",
      "source": [
        "LP:\n",
        "\n",
        "$\\begin{align}\n",
        "    \\max 20 \\big(40-\\delta_1\\big) + &18 \\big(40+3\\delta_1-\\delta_2\\big) + 16 \\big(40+3(\\delta_1+\\delta_2)-\\delta_3\\big) + 14 \\big(40+3(\\delta_1+\\delta_2+\\delta_3)\\big)\\\\\n",
        "    \\text{s.t.} \\ \\delta_1 &\\le 40 &&\\text{(instructor limit first week)}\\\\\n",
        "    \\delta_2 &\\le 40+3 \\delta_1 &&\\text{(instructor limit second week)}\\\\\n",
        "    \\delta_3 &\\le 40+3 (\\delta_1 + \\delta_2) &&\\text{(instructor limit third week)}\\\\\n",
        "    8\\delta_1 + 5\\delta_2 + 2\\delta_3 &\\le 368 &&\\text{(production goal)}\n",
        "\\end{align}$"
      ],
      "metadata": {
        "id": "nm_FA4W5XD9e"
      }
    },
    {
      "cell_type": "markdown",
      "source": [
        "#### Solve the LP"
      ],
      "metadata": {
        "id": "iNaCuylDbRob"
      }
    },
    {
      "cell_type": "code",
      "source": [
        "# Instantiate a Glop solver.\n",
        "solver = pywraplp.Solver.CreateSolver('GLOP')\n",
        "# Create the non-negative variables for instructors per week.\n",
        "delta1 = solver.NumVar(0, solver.infinity(), 'delta_1')\n",
        "delta2 = solver.NumVar(0, solver.infinity(), 'delta_1')\n",
        "delta3 = solver.NumVar(0, solver.infinity(), 'delta_1')\n",
        "# Worker limit (first week).\n",
        "solver.Add(delta1 <= 40)\n",
        "# Worker limit (second week, with possibly new workers).\n",
        "solver.Add(delta2 <= 40 + 3 * delta1)\n",
        "# Worker limit (third week, with possibly new workers).\n",
        "solver.Add(delta3 <= 40 + 3 * (delta1 + delta2))\n",
        "# Radio production goal.\n",
        "solver.Add(8 * delta1 + 5 * delta2 + 2 * delta3 <= 368)\n",
        "# Set as maximization problem and input target function.\n",
        "solver.Maximize(20 * (40 - delta1) + 18 * (40 + 3 * delta1- delta2) + 16 * (40 + 3 * (delta1 + delta2) - delta3) + 14 * (40 + 3 * (delta1 + delta2 + delta3)))"
      ],
      "metadata": {
        "id": "YDTKJqe5bKVP"
      },
      "execution_count": 9,
      "outputs": []
    },
    {
      "cell_type": "code",
      "source": [
        "status = present_solver_solution(solver)"
      ],
      "metadata": {
        "colab": {
          "base_uri": "https://localhost:8080/"
        },
        "id": "tl-NA25Qcxv5",
        "outputId": "9d6245c6-5d20-4d46-8dda-09d5534aa1db"
      },
      "execution_count": 18,
      "outputs": [
        {
          "output_type": "stream",
          "name": "stdout",
          "text": [
            "Solution:\n",
            "Objective value = 8371.2\n",
            "delta_1 = 40.0\n",
            "delta_1 = 9.6\n",
            "delta_1 = 0.0\n"
          ]
        }
      ]
    },
    {
      "cell_type": "markdown",
      "source": [
        "Lets check that the constraint on the number of computed radios is maximized as desired:"
      ],
      "metadata": {
        "id": "sNTcZuIDeHPI"
      }
    },
    {
      "cell_type": "code",
      "source": [
        "8 * delta1.solution_value() + 5 * delta2.solution_value() + 2 * delta3.solution_value()"
      ],
      "metadata": {
        "colab": {
          "base_uri": "https://localhost:8080/"
        },
        "id": "g-Ux738neTJ0",
        "outputId": "929d0978-8d6c-497b-a637-2554261e6ab0"
      },
      "execution_count": 24,
      "outputs": [
        {
          "output_type": "execute_result",
          "data": {
            "text/plain": [
              "368.00000000000006"
            ]
          },
          "metadata": {},
          "execution_count": 24
        }
      ]
    },
    {
      "cell_type": "markdown",
      "source": [
        "## Integer Linear Program"
      ],
      "metadata": {
        "id": "DFurJjhrPpSe"
      }
    },
    {
      "cell_type": "markdown",
      "source": [
        "### Example 2.10.3."
      ],
      "metadata": {
        "id": "EIN6ZrT6VkmG"
      }
    },
    {
      "cell_type": "code",
      "source": [
        "# Instantiate a CBC solver - for integer variables.\n",
        "solver = pywraplp.Solver.CreateSolver('CBC')\n",
        "# Create the two non-negative integer variables.\n",
        "x = solver.IntVar(0, solver.infinity(), 'door')\n",
        "y = solver.IntVar(0, solver.infinity(), 'frame')\n",
        "# Page restriction.\n",
        "solver.Add( x + 3 * y <= 24)\n",
        "# Driving restriction.\n",
        "solver.Add( x + 10 * y <= 10)\n",
        "# Preparation time restriction.\n",
        "solver.Add( 4 * x + y <= 28)\n",
        "# Set as maximization problem and input target function.\n",
        "solver.Maximize( 50 * x + 30 * y)\n",
        "\n",
        "status = present_solver_solution(solver)"
      ],
      "metadata": {
        "colab": {
          "base_uri": "https://localhost:8080/"
        },
        "id": "8j5sIlvkJZc1",
        "outputId": "0e3a56b3-3729-4af3-8560-12227885d0fd"
      },
      "execution_count": null,
      "outputs": [
        {
          "output_type": "stream",
          "name": "stdout",
          "text": [
            "Solution:\n",
            "Objective value = 350.0\n",
            "x = 7.0\n",
            "y = 0.0\n"
          ]
        }
      ]
    },
    {
      "cell_type": "code",
      "source": [],
      "metadata": {
        "id": "iTwPZ_SwP6gu"
      },
      "execution_count": null,
      "outputs": []
    }
  ]
}