{
  "nbformat": 4,
  "nbformat_minor": 0,
  "metadata": {
    "colab": {
      "provenance": [],
      "authorship_tag": "ABX9TyPLCacXUvhmzYmhUxE5LO7t",
      "include_colab_link": true
    },
    "kernelspec": {
      "name": "python3",
      "display_name": "Python 3"
    },
    "language_info": {
      "name": "python"
    }
  },
  "cells": [
    {
      "cell_type": "markdown",
      "metadata": {
        "id": "view-in-github",
        "colab_type": "text"
      },
      "source": [
        "<a href=\"https://colab.research.google.com/github/FabriceBeaumont/MachineLearning/blob/main/LinearProgramExercises.ipynb\" target=\"_parent\"><img src=\"https://colab.research.google.com/assets/colab-badge.svg\" alt=\"Open In Colab\"/></a>"
      ]
    },
    {
      "cell_type": "code",
      "source": [
        "!pip install ortools"
      ],
      "metadata": {
        "colab": {
          "base_uri": "https://localhost:8080/"
        },
        "id": "z4wVHjOfgYpR",
        "outputId": "84561d43-e898-4aa4-ad02-98ee8e41a29d"
      },
      "execution_count": 1,
      "outputs": [
        {
          "output_type": "stream",
          "name": "stdout",
          "text": [
            "Looking in indexes: https://pypi.org/simple, https://us-python.pkg.dev/colab-wheels/public/simple/\n",
            "Requirement already satisfied: ortools in /root/.local/lib/python3.10/site-packages (9.6.2534)\n",
            "Requirement already satisfied: absl-py>=0.13 in /usr/local/lib/python3.10/dist-packages (from ortools) (1.4.0)\n",
            "Requirement already satisfied: numpy>=1.13.3 in /usr/local/lib/python3.10/dist-packages (from ortools) (1.22.4)\n",
            "Requirement already satisfied: protobuf>=4.21.12 in /root/.local/lib/python3.10/site-packages (from ortools) (4.23.2)\n",
            "Requirement already satisfied: scipy>=1.10.0 in /usr/local/lib/python3.10/dist-packages (from ortools) (1.10.1)\n"
          ]
        }
      ]
    },
    {
      "cell_type": "code",
      "execution_count": 2,
      "metadata": {
        "id": "xC-KEMYQY3Ev"
      },
      "outputs": [],
      "source": [
        "import numpy as np\n",
        "import matplotlib.pyplot as plt\n",
        "\n",
        "# Import linear solver from Google OR-Tools \n",
        "from ortools.linear_solver import pywraplp"
      ]
    },
    {
      "cell_type": "code",
      "source": [
        "def present_solver_solution(solver):\n",
        "    status = solver.Solve()\n",
        "\n",
        "    if status == pywraplp.Solver.OPTIMAL: \n",
        "        print('Solution:')\n",
        "        print('Objective value =', round(solver.Objective().Value(), 2))\n",
        "        print('x =', round(x.solution_value(), 2))\n",
        "        print('y =', round(y.solution_value(), 2))\n",
        "    else: \n",
        "        print('The problem does not have an optimal solution.')\n",
        "\n",
        "    return status"
      ],
      "metadata": {
        "id": "0ATNmQFWY7lU"
      },
      "execution_count": 3,
      "outputs": []
    },
    {
      "cell_type": "markdown",
      "source": [
        "# LP Examples"
      ],
      "metadata": {
        "id": "ckY_XlZFhQBN"
      }
    },
    {
      "cell_type": "markdown",
      "source": [
        "## Simple maximization LP (2.1.1)\n",
        "\n",
        "Situation: Paula works at the uni (U, 50 EUR/h) and as a tutor (T, 30 EUR/h). \n",
        "\n",
        "For U: Teaching material 10 pages, driving 20 km, preparation time 3 h.\n",
        "\n",
        "For T: Teaching material 20 pages, driving 10 km, preparation time 1 h.\n",
        "\n",
        "Limits: 160 pages, 110 km, 15 h.\n",
        "\n",
        "Target function: Maximize income."
      ],
      "metadata": {
        "id": "BgkqhlpOhSgd"
      }
    },
    {
      "cell_type": "markdown",
      "source": [
        "LP: \n",
        "\n",
        "$\\begin{align}\n",
        "\\max 50x +30y \\\\\n",
        "\\text{s.t.} 10 x +20 y &\\le 160\\\\\n",
        "20 x +10 y &\\le 110 \\\\\n",
        "3 x + 1y &\\le 15\\\\ \n",
        "x &≥ 0 \\\\ \n",
        "y &≥ 0\n",
        "\\end{align}$"
      ],
      "metadata": {
        "id": "k4j6veB0iVKi"
      }
    },
    {
      "cell_type": "code",
      "source": [
        "# Instantiate a Glop solver.\n",
        "solver = pywraplp.Solver.CreateSolver('GLOP')\n",
        "# Create the two non-negative variables.\n",
        "x = solver.NumVar(0, solver.infinity(), 'h_uni ') \n",
        "y = solver.NumVar(0, solver.infinity(), 'h_tutor')\n",
        "# Page restriction.\n",
        "solver.Add(10 * x + 20 * y <= 160)\n",
        "# Driving restriction.\n",
        "solver.Add(20 * x + 10 * y <= 110)\n",
        "# Preparation time restriction.\n",
        "solver.Add( 3 * x + 1 * y <= 15)\n",
        "# Set as maximization problem and input target function.\n",
        "solver.Maximize(50 * x + 30 * y)"
      ],
      "metadata": {
        "id": "C8JlWXBRZDGp"
      },
      "execution_count": 12,
      "outputs": []
    },
    {
      "cell_type": "code",
      "source": [
        "status = present_solver_solution(solver)"
      ],
      "metadata": {
        "colab": {
          "base_uri": "https://localhost:8080/"
        },
        "id": "MfLJfdgKjq_t",
        "outputId": "a7c367c8-9e5b-4f56-c7a8-8b34b03a0262"
      },
      "execution_count": 13,
      "outputs": [
        {
          "output_type": "stream",
          "name": "stdout",
          "text": [
            "Solution:\n",
            "Objective value = 310.0\n",
            "x = 2.0\n",
            "y = 7.0\n"
          ]
        }
      ]
    },
    {
      "cell_type": "markdown",
      "source": [
        "### Plot the solution"
      ],
      "metadata": {
        "id": "-lFExsJjlOE5"
      }
    },
    {
      "cell_type": "code",
      "source": [
        "# Plot the feasible region.\n",
        "d = np.linspace(-2,16,300)\n",
        "x,y = np.meshgrid(d,d)\n",
        "\n",
        "# Plot the feasible region.\n",
        "plt.imshow( ((y>=0) & (20*y<=160-10*x) & (10*y<=110-20*x) & (y<=15-3*x)).astype(int) , \n",
        "                extent=(x.min(),x.max(),y.min(),y.max()),\n",
        "            origin=\"lower\", \n",
        "            cmap=\"Greys\", \n",
        "            alpha = 0.3);\n",
        "\n",
        "\n",
        "# Plot the lines defining the constraints.\n",
        "x = np.linspace(0, 16, 2000)\n",
        "# 10x + 20y <= 160\n",
        "y1 = (16-x)/2\n",
        "# 20x + 10y <= 110\n",
        "y2 = (11-2*x)\n",
        "# 3x + y <= 15\n",
        "y3 = 15-3*x\n",
        "\n",
        "# Plot the lines defining the target function - with optimal values.\n",
        "# 50x + 30y = b such that for x = 2.0 and y = 7.0 b = 310.0\n",
        "f = -5/3 * x + 31/3\n",
        "\n",
        "# Make plot\n",
        "plt.plot(x, y1, label=r'$10x + 20y \\leq 160$')\n",
        "plt.plot(x, y2, label=r'$20x + 10y \\leq 110$')\n",
        "plt.plot(x, y3, label=r'$3x + y \\leq 15$')\n",
        " \n",
        "plt.plot(x, f, label=r'$\\max 50 y + 30x = 330 $')\n",
        "plt.plot(2, 7, 'bo', label=r'$Optimum (2,7)$')\n",
        "\n",
        "plt.xlim(0, 16)\n",
        "plt.ylim(0, 11)\n",
        "plt.legend(bbox_to_anchor=(1.05, 1), loc=2, borderaxespad=0.)\n",
        "plt.xlabel(r'$x$')\n",
        "plt.ylabel(r'$y$')"
      ],
      "metadata": {
        "colab": {
          "base_uri": "https://localhost:8080/",
          "height": 438
        },
        "id": "qIjzS0HqkFV5",
        "outputId": "e81006ff-f118-48a4-cbe7-56b3e98e5cae"
      },
      "execution_count": 30,
      "outputs": [
        {
          "output_type": "execute_result",
          "data": {
            "text/plain": [
              "Text(0, 0.5, '$y$')"
            ]
          },
          "metadata": {},
          "execution_count": 30
        },
        {
          "output_type": "display_data",
          "data": {
            "text/plain": [
              "<Figure size 640x480 with 1 Axes>"
            ],
            "image/png": "[encoded data removed]"
          },
          "metadata": {}
        }
      ]
    },
    {
      "cell_type": "markdown",
      "source": [
        "## Simple maximization LP (2.10.2)\n",
        "\n",
        "Situation: Weekly requirements of at least 12t G, 8t M and 24t F.\n",
        "\n",
        "Source1: Cost of 200, 6 G/d, 2 M/d,  4 F/d.\n",
        "Source2: Cost of 160, 2 G/d, 2 M/d, 12 F/d.\n",
        "\n",
        "Target: Cheapest setting to use the sources (in days, not necessarily as an integer soution required)."
      ],
      "metadata": {
        "id": "feCm4EuiGu9m"
      }
    },
    {
      "cell_type": "code",
      "source": [
        "# Instantiate a Glop solver.\n",
        "solver = pywraplp.Solver.CreateSolver('GLOP')\n",
        "# Create the two non-negative variables.\n",
        "x = solver.NumVar(0, solver.infinity(), 't_source1') \n",
        "y = solver.NumVar(0, solver.infinity(), 't_source1')\n",
        "# Page restriction.\n",
        "solver.Add(6 * x + 2 * y >= 12)\n",
        "# Driving restriction.\n",
        "solver.Add(2 * x + 2 * y >= 8)\n",
        "# Preparation time restriction.\n",
        "solver.Add(4 * x + 12 * y >= 24)\n",
        "# Set as maximization problem and input target function.\n",
        "solver.Minimize(200 * x + 160 * y)"
      ],
      "metadata": {
        "id": "Jo9LUvp_Hemt"
      },
      "execution_count": 5,
      "outputs": []
    },
    {
      "cell_type": "code",
      "source": [
        "status = present_solver_solution(solver)"
      ],
      "metadata": {
        "colab": {
          "base_uri": "https://localhost:8080/"
        },
        "id": "yi7_ZJcrH694",
        "outputId": "83a3d0ef-cc2d-417a-988d-4ed5e8f80e1e"
      },
      "execution_count": 6,
      "outputs": [
        {
          "output_type": "stream",
          "name": "stdout",
          "text": [
            "Solution:\n",
            "Objective value = 680.0\n",
            "x = 1.0\n",
            "y = 3.0\n"
          ]
        }
      ]
    },
    {
      "cell_type": "markdown",
      "source": [
        "LP: \n",
        "\n",
        "$\\begin{align}\n",
        "\\min 200x +160y \\\\\n",
        "\\text{s.t.} 6 x +2 y &\\ge 12\\\\\n",
        "2 x +2 y &\\ge 8 \\\\\n",
        "4 x + 12y &\\ge 24\\\\ \n",
        "x &≥ 0 \\\\ \n",
        "y &≥ 0 \\\\\n",
        "x &≤ 7 \\\\ \n",
        "y &\\le 7\n",
        "\\end{align}$"
      ],
      "metadata": {
        "id": "mvfBYNsuIsdd"
      }
    },
    {
      "cell_type": "code",
      "source": [
        "# Plot the feasible region.\n",
        "d = np.linspace(-2,16,300)\n",
        "x,y = np.meshgrid(d,d)\n",
        "\n",
        "# Plot the feasible region.\n",
        "plt.imshow( ((y<=7) & (x<=7) &(2*y>=12-6*x) & (2*y>=8-2*x) & (12*y>=24-4*x)).astype(int) , \n",
        "                extent=(x.min(),x.max(),y.min(),y.max()),\n",
        "            origin=\"lower\", \n",
        "            cmap=\"Greys\", \n",
        "            alpha = 0.3);\n",
        "\n",
        "\n",
        "# Plot the lines defining the constraints.\n",
        "x = np.linspace(0, 8, 200)\n",
        "# 6x + 2y >= 12\n",
        "y1 = (12 - 6*x)/2\n",
        "# 2x + 2y <= 8\n",
        "y2 = (8 - 2*x)/2\n",
        "# 4x + 12y <= 24\n",
        "y3 = (24 - 4*x)/12\n",
        "\n",
        "# Plot the lines defining the target function - with optimal values.\n",
        "# y = -200/160x + b such that the line intersects x = 1.0 and y = 3.0: 3+20/16 = b ==> b = 68/16\n",
        "f = -20/16 * x + 68/16\n",
        "\n",
        "# Make plot\n",
        "plt.plot(x, y1, label=r'$6x + 2y\\leq 12$')\n",
        "plt.plot(x, y2, label=r'$2x + 2y \\leq 8$')\n",
        "plt.plot(x, y3, label=r'$4x + 12y \\leq 24$')\n",
        " \n",
        "plt.plot(x, f, label=r'$\\min 200 y + 160x = 680 $')\n",
        "plt.plot(1, 3, 'bo', label=r'$Optimum (1,3)$')\n",
        "\n",
        "plt.xlim(0, 8)\n",
        "plt.ylim(0, 8)\n",
        "plt.legend(bbox_to_anchor=(1.05, 1), loc=2, borderaxespad=0.)\n",
        "plt.xlabel(r'$x$')\n",
        "plt.ylabel(r'$y$')"
      ],
      "metadata": {
        "colab": {
          "base_uri": "https://localhost:8080/",
          "height": 472
        },
        "id": "Jo6hN2-aIlRE",
        "outputId": "dbb8417a-58fd-482a-91bb-fa6b7decaf0f"
      },
      "execution_count": 14,
      "outputs": [
        {
          "output_type": "execute_result",
          "data": {
            "text/plain": [
              "Text(0, 0.5, '$y$')"
            ]
          },
          "metadata": {},
          "execution_count": 14
        },
        {
          "output_type": "display_data",
          "data": {
            "text/plain": [
              "<Figure size 640x480 with 1 Axes>"
            ],
            "image/png": "[encoded data removed]"
          },
          "metadata": {}
        }
      ]
    },
    {
      "cell_type": "markdown",
      "source": [
        "If Source1 will increase efficieny and thus reduce production costs by $k$, the solution may change as well. This changes the target function (red) and thus another optimal solution (corner of the polygon of feasable solutions) may be reached."
      ],
      "metadata": {
        "id": "eDIqrD1eL7Ur"
      }
    },
    {
      "cell_type": "markdown",
      "source": [
        "## Integer Linear Program"
      ],
      "metadata": {
        "id": "DFurJjhrPpSe"
      }
    },
    {
      "cell_type": "code",
      "source": [
        "# Instantiate a CBC solver - for integer variables.\n",
        "solver = pywraplp.Solver.CreateSolver('CBC')\n",
        "# Create the two non-negative integer variables.\n",
        "x = solver.IntVar(0, solver.infinity(), 'door') \n",
        "y = solver.IntVar(0, solver.infinity(), 'frame')\n",
        "# Page restriction.\n",
        "solver.Add( x + 3 * y <= 24)\n",
        "# Driving restriction.\n",
        "solver.Add( x + 10 * y <= 10)\n",
        "# Preparation time restriction.\n",
        "solver.Add( 4 * x + y <= 28)\n",
        "# Set as maximization problem and input target function.\n",
        "solver.Maximize( 50 * x + 30 * y)\n",
        "\n",
        "status = present_solver_solution(solver)"
      ],
      "metadata": {
        "colab": {
          "base_uri": "https://localhost:8080/"
        },
        "id": "8j5sIlvkJZc1",
        "outputId": "0e3a56b3-3729-4af3-8560-12227885d0fd"
      },
      "execution_count": 21,
      "outputs": [
        {
          "output_type": "stream",
          "name": "stdout",
          "text": [
            "Solution:\n",
            "Objective value = 350.0\n",
            "x = 7.0\n",
            "y = 0.0\n"
          ]
        }
      ]
    },
    {
      "cell_type": "code",
      "source": [],
      "metadata": {
        "id": "iTwPZ_SwP6gu"
      },
      "execution_count": null,
      "outputs": []
    }
  ]
}