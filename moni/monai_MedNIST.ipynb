{
  "nbformat": 4,
  "nbformat_minor": 0,
  "metadata": {
    "colab": {
      "provenance": [],
      "collapsed_sections": [
        "kJjZmzcfMxza",
        "V8hTljUOzPJv",
        "cDYxP8-2bmBp",
        "QAnXNQj20CGm"
      ],
      "toc_visible": true,
      "gpuType": "T4",
      "authorship_tag": "ABX9TyMNF3qTKWqs2luFslQv5Jrb",
      "include_colab_link": true
    },
    "kernelspec": {
      "name": "python3",
      "display_name": "Python 3"
    },
    "language_info": {
      "name": "python"
    },
    "accelerator": "GPU"
  },
  "cells": [
    {
      "cell_type": "markdown",
      "metadata": {
        "id": "view-in-github",
        "colab_type": "text"
      },
      "source": [
        "<a href=\"https://colab.research.google.com/github/FabriceBeaumont/MachineLearning/blob/main/moni/monai_MedNIST.ipynb\" target=\"_parent\"><img src=\"https://colab.research.google.com/assets/colab-badge.svg\" alt=\"Open In Colab\"/></a>"
      ]
    },
    {
      "cell_type": "markdown",
      "source": [
        "Getting to know the [MONAI framework](https://monai.io/). Loosely following the [YouTube MONAI Bootcamp 2023](https://www.youtube.com/playlist?list=PLtoSVSQ2XzyAJAGzaHF0nUIkav0BnxhrJ).\n",
        "\n",
        "[MONAI Bootcamp GitHub Repository](https://github.com/Project-MONAI/monai-bootcamp)"
      ],
      "metadata": {
        "id": "uw3BQeE9jtRV"
      }
    },
    {
      "cell_type": "markdown",
      "source": [
        "# Settings"
      ],
      "metadata": {
        "id": "kJjZmzcfMxza"
      }
    },
    {
      "cell_type": "code",
      "source": [
        "# Check the used hardwarde. Recall to set runtime type to GPU.\n",
        "!nvidia-smi"
      ],
      "metadata": {
        "colab": {
          "base_uri": "https://localhost:8080/"
        },
        "id": "HfCPQ3OCMkSL",
        "outputId": "7dacbca1-98a0-4314-8e00-f24b33f12062"
      },
      "execution_count": 1,
      "outputs": [
        {
          "output_type": "stream",
          "name": "stdout",
          "text": [
            "Mon Nov 27 15:15:00 2023       \n",
            "+-----------------------------------------------------------------------------+\n",
            "| NVIDIA-SMI 525.105.17   Driver Version: 525.105.17   CUDA Version: 12.0     |\n",
            "|-------------------------------+----------------------+----------------------+\n",
            "| GPU  Name        Persistence-M| Bus-Id        Disp.A | Volatile Uncorr. ECC |\n",
            "| Fan  Temp  Perf  Pwr:Usage/Cap|         Memory-Usage | GPU-Util  Compute M. |\n",
            "|                               |                      |               MIG M. |\n",
            "|===============================+======================+======================|\n",
            "|   0  Tesla T4            Off  | 00000000:00:04.0 Off |                    0 |\n",
            "| N/A   54C    P8    10W /  70W |      0MiB / 15360MiB |      0%      Default |\n",
            "|                               |                      |                  N/A |\n",
            "+-------------------------------+----------------------+----------------------+\n",
            "                                                                               \n",
            "+-----------------------------------------------------------------------------+\n",
            "| Processes:                                                                  |\n",
            "|  GPU   GI   CI        PID   Type   Process name                  GPU Memory |\n",
            "|        ID   ID                                                   Usage      |\n",
            "|=============================================================================|\n",
            "|  No running processes found                                                 |\n",
            "+-----------------------------------------------------------------------------+\n"
          ]
        }
      ]
    },
    {
      "cell_type": "markdown",
      "source": [
        "## Installs"
      ],
      "metadata": {
        "id": "-49IiUxDNHUO"
      }
    },
    {
      "cell_type": "code",
      "source": [
        "!pip install monai # For 'import monai'"
      ],
      "metadata": {
        "colab": {
          "base_uri": "https://localhost:8080/"
        },
        "id": "7VnutuF-M4Rc",
        "outputId": "124af74f-6c08-48f6-fcb2-12641d019798"
      },
      "execution_count": 2,
      "outputs": [
        {
          "output_type": "stream",
          "name": "stdout",
          "text": [
            "Collecting monai\n",
            "  Downloading monai-1.3.0-202310121228-py3-none-any.whl (1.3 MB)\n",
            "\u001b[2K     \u001b[90m━━━━━━━━━━━━━━━━━━━━━━━━━━━━━━━━━━━━━━━━\u001b[0m \u001b[32m1.3/1.3 MB\u001b[0m \u001b[31m12.8 MB/s\u001b[0m eta \u001b[36m0:00:00\u001b[0m\n",
            "\u001b[?25hRequirement already satisfied: numpy>=1.20 in /usr/local/lib/python3.10/dist-packages (from monai) (1.23.5)\n",
            "Requirement already satisfied: torch>=1.9 in /usr/local/lib/python3.10/dist-packages (from monai) (2.1.0+cu118)\n",
            "Requirement already satisfied: filelock in /usr/local/lib/python3.10/dist-packages (from torch>=1.9->monai) (3.13.1)\n",
            "Requirement already satisfied: typing-extensions in /usr/local/lib/python3.10/dist-packages (from torch>=1.9->monai) (4.5.0)\n",
            "Requirement already satisfied: sympy in /usr/local/lib/python3.10/dist-packages (from torch>=1.9->monai) (1.12)\n",
            "Requirement already satisfied: networkx in /usr/local/lib/python3.10/dist-packages (from torch>=1.9->monai) (3.2.1)\n",
            "Requirement already satisfied: jinja2 in /usr/local/lib/python3.10/dist-packages (from torch>=1.9->monai) (3.1.2)\n",
            "Requirement already satisfied: fsspec in /usr/local/lib/python3.10/dist-packages (from torch>=1.9->monai) (2023.6.0)\n",
            "Requirement already satisfied: triton==2.1.0 in /usr/local/lib/python3.10/dist-packages (from torch>=1.9->monai) (2.1.0)\n",
            "Requirement already satisfied: MarkupSafe>=2.0 in /usr/local/lib/python3.10/dist-packages (from jinja2->torch>=1.9->monai) (2.1.3)\n",
            "Requirement already satisfied: mpmath>=0.19 in /usr/local/lib/python3.10/dist-packages (from sympy->torch>=1.9->monai) (1.3.0)\n",
            "Installing collected packages: monai\n",
            "Successfully installed monai-1.3.0\n"
          ]
        }
      ]
    },
    {
      "cell_type": "code",
      "source": [
        "!pip install monai[all]"
      ],
      "metadata": {
        "colab": {
          "base_uri": "https://localhost:8080/"
        },
        "id": "Me9Rg_D0Bv77",
        "outputId": "2dfde263-def8-4e05-ea4e-dd5031d00735"
      },
      "execution_count": 3,
      "outputs": [
        {
          "output_type": "stream",
          "name": "stdout",
          "text": [
            "Requirement already satisfied: monai[all] in /usr/local/lib/python3.10/dist-packages (1.3.0)\n",
            "Requirement already satisfied: numpy>=1.20 in /usr/local/lib/python3.10/dist-packages (from monai[all]) (1.23.5)\n",
            "Requirement already satisfied: torch>=1.9 in /usr/local/lib/python3.10/dist-packages (from monai[all]) (2.1.0+cu118)\n",
            "Collecting clearml>=1.10.0rc0 (from monai[all])\n",
            "  Downloading clearml-1.13.2-py2.py3-none-any.whl (1.1 MB)\n",
            "\u001b[2K     \u001b[90m━━━━━━━━━━━━━━━━━━━━━━━━━━━━━━━━━━━━━━━━\u001b[0m \u001b[32m1.1/1.1 MB\u001b[0m \u001b[31m12.0 MB/s\u001b[0m eta \u001b[36m0:00:00\u001b[0m\n",
            "\u001b[?25hCollecting cucim>=23.2.0 (from monai[all])\n",
            "  Downloading cucim-23.10.0-py3-none-manylinux2014_x86_64.manylinux_2_17_x86_64.whl (9.7 MB)\n",
            "\u001b[2K     \u001b[90m━━━━━━━━━━━━━━━━━━━━━━━━━━━━━━━━━━━━━━━━\u001b[0m \u001b[32m9.7/9.7 MB\u001b[0m \u001b[31m40.4 MB/s\u001b[0m eta \u001b[36m0:00:00\u001b[0m\n",
            "\u001b[?25hCollecting einops (from monai[all])\n",
            "  Downloading einops-0.7.0-py3-none-any.whl (44 kB)\n",
            "\u001b[2K     \u001b[90m━━━━━━━━━━━━━━━━━━━━━━━━━━━━━━━━━━━━━━━━\u001b[0m \u001b[32m44.6/44.6 kB\u001b[0m \u001b[31m6.0 MB/s\u001b[0m eta \u001b[36m0:00:00\u001b[0m\n",
            "\u001b[?25hCollecting fire (from monai[all])\n",
            "  Downloading fire-0.5.0.tar.gz (88 kB)\n",
            "\u001b[2K     \u001b[90m━━━━━━━━━━━━━━━━━━━━━━━━━━━━━━━━━━━━━━━━\u001b[0m \u001b[32m88.3/88.3 kB\u001b[0m \u001b[31m10.8 MB/s\u001b[0m eta \u001b[36m0:00:00\u001b[0m\n",
            "\u001b[?25h  Preparing metadata (setup.py) ... \u001b[?25l\u001b[?25hdone\n",
            "Requirement already satisfied: gdown>=4.4.0 in /usr/local/lib/python3.10/dist-packages (from monai[all]) (4.6.6)\n",
            "Requirement already satisfied: h5py in /usr/local/lib/python3.10/dist-packages (from monai[all]) (3.9.0)\n",
            "Collecting imagecodecs (from monai[all])\n",
            "  Downloading imagecodecs-2023.9.18-cp310-cp310-manylinux_2_17_x86_64.manylinux2014_x86_64.whl (37.3 MB)\n",
            "\u001b[2K     \u001b[90m━━━━━━━━━━━━━━━━━━━━━━━━━━━━━━━━━━━━━━━━\u001b[0m \u001b[32m37.3/37.3 MB\u001b[0m \u001b[31m28.5 MB/s\u001b[0m eta \u001b[36m0:00:00\u001b[0m\n",
            "\u001b[?25hCollecting itk>=5.2 (from monai[all])\n",
            "  Downloading itk-5.3.0-cp310-cp310-manylinux_2_28_x86_64.whl (8.3 kB)\n",
            "Requirement already satisfied: jsonschema in /usr/local/lib/python3.10/dist-packages (from monai[all]) (4.19.2)\n",
            "Collecting lmdb (from monai[all])\n",
            "  Downloading lmdb-1.4.1-cp310-cp310-manylinux_2_17_x86_64.manylinux2014_x86_64.whl (299 kB)\n",
            "\u001b[2K     \u001b[90m━━━━━━━━━━━━━━━━━━━━━━━━━━━━━━━━━━━━━━━━\u001b[0m \u001b[32m299.2/299.2 kB\u001b[0m \u001b[31m34.4 MB/s\u001b[0m eta \u001b[36m0:00:00\u001b[0m\n",
            "\u001b[?25hCollecting lpips==0.1.4 (from monai[all])\n",
            "  Downloading lpips-0.1.4-py3-none-any.whl (53 kB)\n",
            "\u001b[2K     \u001b[90m━━━━━━━━━━━━━━━━━━━━━━━━━━━━━━━━━━━━━━━━\u001b[0m \u001b[32m53.8/53.8 kB\u001b[0m \u001b[31m6.0 MB/s\u001b[0m eta \u001b[36m0:00:00\u001b[0m\n",
            "\u001b[?25hRequirement already satisfied: matplotlib in /usr/local/lib/python3.10/dist-packages (from monai[all]) (3.7.1)\n",
            "Collecting mlflow>=1.28.0 (from monai[all])\n",
            "  Downloading mlflow-2.8.1-py3-none-any.whl (19.0 MB)\n",
            "\u001b[2K     \u001b[90m━━━━━━━━━━━━━━━━━━━━━━━━━━━━━━━━━━━━━━━━\u001b[0m \u001b[32m19.0/19.0 MB\u001b[0m \u001b[31m88.3 MB/s\u001b[0m eta \u001b[36m0:00:00\u001b[0m\n",
            "\u001b[?25hRequirement already satisfied: nibabel in /usr/local/lib/python3.10/dist-packages (from monai[all]) (4.0.2)\n",
            "Collecting ninja (from monai[all])\n",
            "  Downloading ninja-1.11.1.1-py2.py3-none-manylinux1_x86_64.manylinux_2_5_x86_64.whl (307 kB)\n",
            "\u001b[2K     \u001b[90m━━━━━━━━━━━━━━━━━━━━━━━━━━━━━━━━━━━━━━━━\u001b[0m \u001b[32m307.2/307.2 kB\u001b[0m \u001b[31m37.0 MB/s\u001b[0m eta \u001b[36m0:00:00\u001b[0m\n",
            "\u001b[?25hCollecting nni (from monai[all])\n",
            "  Downloading nni-3.0-py3-none-manylinux1_x86_64.whl (61.4 MB)\n",
            "\u001b[2K     \u001b[90m━━━━━━━━━━━━━━━━━━━━━━━━━━━━━━━━━━━━━━━━\u001b[0m \u001b[32m61.4/61.4 MB\u001b[0m \u001b[31m8.4 MB/s\u001b[0m eta \u001b[36m0:00:00\u001b[0m\n",
            "\u001b[?25hCollecting nvidia-ml-py (from monai[all])\n",
            "  Downloading nvidia_ml_py-12.535.133-py3-none-any.whl (37 kB)\n",
            "Collecting onnx>=1.13.0 (from monai[all])\n",
            "  Downloading onnx-1.15.0-cp310-cp310-manylinux_2_17_x86_64.manylinux2014_x86_64.whl (15.7 MB)\n",
            "\u001b[2K     \u001b[90m━━━━━━━━━━━━━━━━━━━━━━━━━━━━━━━━━━━━━━━━\u001b[0m \u001b[32m15.7/15.7 MB\u001b[0m \u001b[31m57.3 MB/s\u001b[0m eta \u001b[36m0:00:00\u001b[0m\n",
            "\u001b[?25hCollecting openslide-python==1.1.2 (from monai[all])\n",
            "  Downloading openslide-python-1.1.2.tar.gz (316 kB)\n",
            "\u001b[2K     \u001b[90m━━━━━━━━━━━━━━━━━━━━━━━━━━━━━━━━━━━━━━━━\u001b[0m \u001b[32m316.6/316.6 kB\u001b[0m \u001b[31m34.1 MB/s\u001b[0m eta \u001b[36m0:00:00\u001b[0m\n",
            "\u001b[?25h  Preparing metadata (setup.py) ... \u001b[?25l\u001b[?25hdone\n",
            "Collecting optuna (from monai[all])\n",
            "  Downloading optuna-3.4.0-py3-none-any.whl (409 kB)\n",
            "\u001b[2K     \u001b[90m━━━━━━━━━━━━━━━━━━━━━━━━━━━━━━━━━━━━━━━━\u001b[0m \u001b[32m409.6/409.6 kB\u001b[0m \u001b[31m41.6 MB/s\u001b[0m eta \u001b[36m0:00:00\u001b[0m\n",
            "\u001b[?25hRequirement already satisfied: pandas in /usr/local/lib/python3.10/dist-packages (from monai[all]) (1.5.3)\n",
            "Requirement already satisfied: pillow in /usr/local/lib/python3.10/dist-packages (from monai[all]) (9.4.0)\n",
            "Requirement already satisfied: psutil in /usr/local/lib/python3.10/dist-packages (from monai[all]) (5.9.5)\n",
            "Collecting pydicom (from monai[all])\n",
            "  Downloading pydicom-2.4.3-py3-none-any.whl (1.8 MB)\n",
            "\u001b[2K     \u001b[90m━━━━━━━━━━━━━━━━━━━━━━━━━━━━━━━━━━━━━━━━\u001b[0m \u001b[32m1.8/1.8 MB\u001b[0m \u001b[31m78.7 MB/s\u001b[0m eta \u001b[36m0:00:00\u001b[0m\n",
            "\u001b[?25hCollecting pynrrd (from monai[all])\n",
            "  Downloading pynrrd-1.0.0-py2.py3-none-any.whl (19 kB)\n",
            "Collecting pytorch-ignite==0.4.11 (from monai[all])\n",
            "  Downloading pytorch_ignite-0.4.11-py3-none-any.whl (266 kB)\n",
            "\u001b[2K     \u001b[90m━━━━━━━━━━━━━━━━━━━━━━━━━━━━━━━━━━━━━━━━\u001b[0m \u001b[32m266.5/266.5 kB\u001b[0m \u001b[31m28.2 MB/s\u001b[0m eta \u001b[36m0:00:00\u001b[0m\n",
            "\u001b[?25hRequirement already satisfied: pyyaml in /usr/local/lib/python3.10/dist-packages (from monai[all]) (6.0.1)\n",
            "Requirement already satisfied: scikit-image>=0.14.2 in /usr/local/lib/python3.10/dist-packages (from monai[all]) (0.19.3)\n",
            "Requirement already satisfied: scipy>=1.7.1 in /usr/local/lib/python3.10/dist-packages (from monai[all]) (1.11.3)\n",
            "Requirement already satisfied: tensorboard in /usr/local/lib/python3.10/dist-packages (from monai[all]) (2.14.1)\n",
            "Collecting tensorboardX (from monai[all])\n",
            "  Downloading tensorboardX-2.6.2.2-py2.py3-none-any.whl (101 kB)\n",
            "\u001b[2K     \u001b[90m━━━━━━━━━━━━━━━━━━━━━━━━━━━━━━━━━━━━━━━━\u001b[0m \u001b[32m101.7/101.7 kB\u001b[0m \u001b[31m12.6 MB/s\u001b[0m eta \u001b[36m0:00:00\u001b[0m\n",
            "\u001b[?25hRequirement already satisfied: tifffile in /usr/local/lib/python3.10/dist-packages (from monai[all]) (2023.9.26)\n",
            "Requirement already satisfied: torchvision in /usr/local/lib/python3.10/dist-packages (from monai[all]) (0.16.0+cu118)\n",
            "Requirement already satisfied: tqdm>=4.47.0 in /usr/local/lib/python3.10/dist-packages (from monai[all]) (4.66.1)\n",
            "Collecting transformers<4.22 (from monai[all])\n",
            "  Downloading transformers-4.21.3-py3-none-any.whl (4.7 MB)\n",
            "\u001b[2K     \u001b[90m━━━━━━━━━━━━━━━━━━━━━━━━━━━━━━━━━━━━━━━━\u001b[0m \u001b[32m4.7/4.7 MB\u001b[0m \u001b[31m66.3 MB/s\u001b[0m eta \u001b[36m0:00:00\u001b[0m\n",
            "\u001b[?25hCollecting zarr (from monai[all])\n",
            "  Downloading zarr-2.16.1-py3-none-any.whl (206 kB)\n",
            "\u001b[2K     \u001b[90m━━━━━━━━━━━━━━━━━━━━━━━━━━━━━━━━━━━━━━━━\u001b[0m \u001b[32m206.9/206.9 kB\u001b[0m \u001b[31m23.1 MB/s\u001b[0m eta \u001b[36m0:00:00\u001b[0m\n",
            "\u001b[?25hCollecting onnxruntime (from monai[all])\n",
            "  Downloading onnxruntime-1.16.3-cp310-cp310-manylinux_2_17_x86_64.manylinux2014_x86_64.whl (6.4 MB)\n",
            "\u001b[2K     \u001b[90m━━━━━━━━━━━━━━━━━━━━━━━━━━━━━━━━━━━━━━━━\u001b[0m \u001b[32m6.4/6.4 MB\u001b[0m \u001b[31m43.6 MB/s\u001b[0m eta \u001b[36m0:00:00\u001b[0m\n",
            "\u001b[?25hRequirement already satisfied: packaging in /usr/local/lib/python3.10/dist-packages (from pytorch-ignite==0.4.11->monai[all]) (23.2)\n",
            "Requirement already satisfied: attrs>=18.0 in /usr/local/lib/python3.10/dist-packages (from clearml>=1.10.0rc0->monai[all]) (23.1.0)\n",
            "Collecting furl>=2.0.0 (from clearml>=1.10.0rc0->monai[all])\n",
            "  Downloading furl-2.1.3-py2.py3-none-any.whl (20 kB)\n",
            "Collecting pathlib2>=2.3.0 (from clearml>=1.10.0rc0->monai[all])\n",
            "  Downloading pathlib2-2.3.7.post1-py2.py3-none-any.whl (18 kB)\n",
            "Requirement already satisfied: pyparsing>=2.0.3 in /usr/local/lib/python3.10/dist-packages (from clearml>=1.10.0rc0->monai[all]) (3.1.1)\n",
            "Requirement already satisfied: python-dateutil>=2.6.1 in /usr/local/lib/python3.10/dist-packages (from clearml>=1.10.0rc0->monai[all]) (2.8.2)\n",
            "Requirement already satisfied: requests>=2.20.0 in /usr/local/lib/python3.10/dist-packages (from clearml>=1.10.0rc0->monai[all]) (2.31.0)\n",
            "Requirement already satisfied: six>=1.13.0 in /usr/local/lib/python3.10/dist-packages (from clearml>=1.10.0rc0->monai[all]) (1.16.0)\n",
            "Requirement already satisfied: urllib3>=1.21.1 in /usr/local/lib/python3.10/dist-packages (from clearml>=1.10.0rc0->monai[all]) (2.0.7)\n",
            "Collecting pyjwt<2.9.0,>=2.4.0 (from clearml>=1.10.0rc0->monai[all])\n",
            "  Downloading PyJWT-2.8.0-py3-none-any.whl (22 kB)\n",
            "Requirement already satisfied: referencing<0.40 in /usr/local/lib/python3.10/dist-packages (from clearml>=1.10.0rc0->monai[all]) (0.31.0)\n",
            "Requirement already satisfied: click in /usr/local/lib/python3.10/dist-packages (from cucim>=23.2.0->monai[all]) (8.1.7)\n",
            "Requirement already satisfied: lazy-loader>=0.1 in /usr/local/lib/python3.10/dist-packages (from cucim>=23.2.0->monai[all]) (0.3)\n",
            "Requirement already satisfied: filelock in /usr/local/lib/python3.10/dist-packages (from gdown>=4.4.0->monai[all]) (3.13.1)\n",
            "Requirement already satisfied: beautifulsoup4 in /usr/local/lib/python3.10/dist-packages (from gdown>=4.4.0->monai[all]) (4.11.2)\n",
            "Collecting itk-core==5.3.0 (from itk>=5.2->monai[all])\n",
            "  Downloading itk_core-5.3.0-cp310-cp310-manylinux_2_28_x86_64.whl (81.2 MB)\n",
            "\u001b[2K     \u001b[90m━━━━━━━━━━━━━━━━━━━━━━━━━━━━━━━━━━━━━━━━\u001b[0m \u001b[32m81.2/81.2 MB\u001b[0m \u001b[31m7.5 MB/s\u001b[0m eta \u001b[36m0:00:00\u001b[0m\n",
            "\u001b[?25hCollecting itk-numerics==5.3.0 (from itk>=5.2->monai[all])\n",
            "  Downloading itk_numerics-5.3.0-cp310-cp310-manylinux_2_28_x86_64.whl (58.8 MB)\n",
            "\u001b[2K     \u001b[90m━━━━━━━━━━━━━━━━━━━━━━━━━━━━━━━━━━━━━━━━\u001b[0m \u001b[32m58.8/58.8 MB\u001b[0m \u001b[31m12.1 MB/s\u001b[0m eta \u001b[36m0:00:00\u001b[0m\n",
            "\u001b[?25hCollecting itk-io==5.3.0 (from itk>=5.2->monai[all])\n",
            "  Downloading itk_io-5.3.0-cp310-cp310-manylinux_2_28_x86_64.whl (25.6 MB)\n",
            "\u001b[2K     \u001b[90m━━━━━━━━━━━━━━━━━━━━━━━━━━━━━━━━━━━━━━━━\u001b[0m \u001b[32m25.6/25.6 MB\u001b[0m \u001b[31m47.5 MB/s\u001b[0m eta \u001b[36m0:00:00\u001b[0m\n",
            "\u001b[?25hCollecting itk-filtering==5.3.0 (from itk>=5.2->monai[all])\n",
            "  Downloading itk_filtering-5.3.0-cp310-cp310-manylinux_2_28_x86_64.whl (73.5 MB)\n",
            "\u001b[2K     \u001b[90m━━━━━━━━━━━━━━━━━━━━━━━━━━━━━━━━━━━━━━━━\u001b[0m \u001b[32m73.5/73.5 MB\u001b[0m \u001b[31m10.1 MB/s\u001b[0m eta \u001b[36m0:00:00\u001b[0m\n",
            "\u001b[?25hCollecting itk-registration==5.3.0 (from itk>=5.2->monai[all])\n",
            "  Downloading itk_registration-5.3.0-cp310-cp310-manylinux_2_28_x86_64.whl (26.6 MB)\n",
            "\u001b[2K     \u001b[90m━━━━━━━━━━━━━━━━━━━━━━━━━━━━━━━━━━━━━━━━\u001b[0m \u001b[32m26.6/26.6 MB\u001b[0m \u001b[31m54.1 MB/s\u001b[0m eta \u001b[36m0:00:00\u001b[0m\n",
            "\u001b[?25hCollecting itk-segmentation==5.3.0 (from itk>=5.2->monai[all])\n",
            "  Downloading itk_segmentation-5.3.0-cp310-cp310-manylinux_2_28_x86_64.whl (16.5 MB)\n",
            "\u001b[2K     \u001b[90m━━━━━━━━━━━━━━━━━━━━━━━━━━━━━━━━━━━━━━━━\u001b[0m \u001b[32m16.5/16.5 MB\u001b[0m \u001b[31m58.0 MB/s\u001b[0m eta \u001b[36m0:00:00\u001b[0m\n",
            "\u001b[?25hRequirement already satisfied: jsonschema-specifications>=2023.03.6 in /usr/local/lib/python3.10/dist-packages (from jsonschema->monai[all]) (2023.11.1)\n",
            "Requirement already satisfied: rpds-py>=0.7.1 in /usr/local/lib/python3.10/dist-packages (from jsonschema->monai[all]) (0.13.0)\n",
            "Requirement already satisfied: cloudpickle<3 in /usr/local/lib/python3.10/dist-packages (from mlflow>=1.28.0->monai[all]) (2.2.1)\n",
            "Collecting databricks-cli<1,>=0.8.7 (from mlflow>=1.28.0->monai[all])\n",
            "  Downloading databricks_cli-0.18.0-py2.py3-none-any.whl (150 kB)\n",
            "\u001b[2K     \u001b[90m━━━━━━━━━━━━━━━━━━━━━━━━━━━━━━━━━━━━━━━━\u001b[0m \u001b[32m150.3/150.3 kB\u001b[0m \u001b[31m17.1 MB/s\u001b[0m eta \u001b[36m0:00:00\u001b[0m\n",
            "\u001b[?25hRequirement already satisfied: entrypoints<1 in /usr/local/lib/python3.10/dist-packages (from mlflow>=1.28.0->monai[all]) (0.4)\n",
            "Collecting gitpython<4,>=2.1.0 (from mlflow>=1.28.0->monai[all])\n",
            "  Downloading GitPython-3.1.40-py3-none-any.whl (190 kB)\n",
            "\u001b[2K     \u001b[90m━━━━━━━━━━━━━━━━━━━━━━━━━━━━━━━━━━━━━━━━\u001b[0m \u001b[32m190.6/190.6 kB\u001b[0m \u001b[31m22.0 MB/s\u001b[0m eta \u001b[36m0:00:00\u001b[0m\n",
            "\u001b[?25hRequirement already satisfied: protobuf<5,>=3.12.0 in /usr/local/lib/python3.10/dist-packages (from mlflow>=1.28.0->monai[all]) (3.20.3)\n",
            "Requirement already satisfied: pytz<2024 in /usr/local/lib/python3.10/dist-packages (from mlflow>=1.28.0->monai[all]) (2023.3.post1)\n",
            "Requirement already satisfied: importlib-metadata!=4.7.0,<7,>=3.7.0 in /usr/local/lib/python3.10/dist-packages (from mlflow>=1.28.0->monai[all]) (6.8.0)\n",
            "Requirement already satisfied: sqlparse<1,>=0.4.0 in /usr/local/lib/python3.10/dist-packages (from mlflow>=1.28.0->monai[all]) (0.4.4)\n",
            "Collecting alembic!=1.10.0,<2 (from mlflow>=1.28.0->monai[all])\n",
            "  Downloading alembic-1.12.1-py3-none-any.whl (226 kB)\n",
            "\u001b[2K     \u001b[90m━━━━━━━━━━━━━━━━━━━━━━━━━━━━━━━━━━━━━━━━\u001b[0m \u001b[32m226.8/226.8 kB\u001b[0m \u001b[31m25.3 MB/s\u001b[0m eta \u001b[36m0:00:00\u001b[0m\n",
            "\u001b[?25hCollecting docker<7,>=4.0.0 (from mlflow>=1.28.0->monai[all])\n",
            "  Downloading docker-6.1.3-py3-none-any.whl (148 kB)\n",
            "\u001b[2K     \u001b[90m━━━━━━━━━━━━━━━━━━━━━━━━━━━━━━━━━━━━━━━━\u001b[0m \u001b[32m148.1/148.1 kB\u001b[0m \u001b[31m14.8 MB/s\u001b[0m eta \u001b[36m0:00:00\u001b[0m\n",
            "\u001b[?25hRequirement already satisfied: Flask<4 in /usr/local/lib/python3.10/dist-packages (from mlflow>=1.28.0->monai[all]) (2.2.5)\n",
            "Collecting querystring-parser<2 (from mlflow>=1.28.0->monai[all])\n",
            "  Downloading querystring_parser-1.2.4-py2.py3-none-any.whl (7.9 kB)\n",
            "Requirement already satisfied: sqlalchemy<3,>=1.4.0 in /usr/local/lib/python3.10/dist-packages (from mlflow>=1.28.0->monai[all]) (2.0.23)\n",
            "Requirement already satisfied: scikit-learn<2 in /usr/local/lib/python3.10/dist-packages (from mlflow>=1.28.0->monai[all]) (1.2.2)\n",
            "Requirement already satisfied: pyarrow<15,>=4.0.0 in /usr/local/lib/python3.10/dist-packages (from mlflow>=1.28.0->monai[all]) (9.0.0)\n",
            "Requirement already satisfied: markdown<4,>=3.3 in /usr/local/lib/python3.10/dist-packages (from mlflow>=1.28.0->monai[all]) (3.5.1)\n",
            "Collecting gunicorn<22 (from mlflow>=1.28.0->monai[all])\n",
            "  Downloading gunicorn-21.2.0-py3-none-any.whl (80 kB)\n",
            "\u001b[2K     \u001b[90m━━━━━━━━━━━━━━━━━━━━━━━━━━━━━━━━━━━━━━━━\u001b[0m \u001b[32m80.2/80.2 kB\u001b[0m \u001b[31m9.1 MB/s\u001b[0m eta \u001b[36m0:00:00\u001b[0m\n",
            "\u001b[?25hRequirement already satisfied: Jinja2<4,>=2.11 in /usr/local/lib/python3.10/dist-packages (from mlflow>=1.28.0->monai[all]) (3.1.2)\n",
            "Requirement already satisfied: contourpy>=1.0.1 in /usr/local/lib/python3.10/dist-packages (from matplotlib->monai[all]) (1.2.0)\n",
            "Requirement already satisfied: cycler>=0.10 in /usr/local/lib/python3.10/dist-packages (from matplotlib->monai[all]) (0.12.1)\n",
            "Requirement already satisfied: fonttools>=4.22.0 in /usr/local/lib/python3.10/dist-packages (from matplotlib->monai[all]) (4.44.3)\n",
            "Requirement already satisfied: kiwisolver>=1.0.1 in /usr/local/lib/python3.10/dist-packages (from matplotlib->monai[all]) (1.4.5)\n",
            "Requirement already satisfied: networkx>=2.2 in /usr/local/lib/python3.10/dist-packages (from scikit-image>=0.14.2->monai[all]) (3.2.1)\n",
            "Requirement already satisfied: imageio>=2.4.1 in /usr/local/lib/python3.10/dist-packages (from scikit-image>=0.14.2->monai[all]) (2.31.6)\n",
            "Requirement already satisfied: PyWavelets>=1.1.1 in /usr/local/lib/python3.10/dist-packages (from scikit-image>=0.14.2->monai[all]) (1.4.1)\n",
            "Requirement already satisfied: typing-extensions in /usr/local/lib/python3.10/dist-packages (from torch>=1.9->monai[all]) (4.5.0)\n",
            "Requirement already satisfied: sympy in /usr/local/lib/python3.10/dist-packages (from torch>=1.9->monai[all]) (1.12)\n",
            "Requirement already satisfied: fsspec in /usr/local/lib/python3.10/dist-packages (from torch>=1.9->monai[all]) (2023.6.0)\n",
            "Requirement already satisfied: triton==2.1.0 in /usr/local/lib/python3.10/dist-packages (from torch>=1.9->monai[all]) (2.1.0)\n",
            "Requirement already satisfied: huggingface-hub<1.0,>=0.1.0 in /usr/local/lib/python3.10/dist-packages (from transformers<4.22->monai[all]) (0.19.4)\n",
            "Requirement already satisfied: regex!=2019.12.17 in /usr/local/lib/python3.10/dist-packages (from transformers<4.22->monai[all]) (2023.6.3)\n",
            "Collecting tokenizers!=0.11.3,<0.13,>=0.11.1 (from transformers<4.22->monai[all])\n",
            "  Downloading tokenizers-0.12.1-cp310-cp310-manylinux_2_12_x86_64.manylinux2010_x86_64.whl (6.6 MB)\n",
            "\u001b[2K     \u001b[90m━━━━━━━━━━━━━━━━━━━━━━━━━━━━━━━━━━━━━━━━\u001b[0m \u001b[32m6.6/6.6 MB\u001b[0m \u001b[31m104.7 MB/s\u001b[0m eta \u001b[36m0:00:00\u001b[0m\n",
            "\u001b[?25hRequirement already satisfied: termcolor in /usr/local/lib/python3.10/dist-packages (from fire->monai[all]) (2.3.0)\n",
            "Requirement already satisfied: setuptools in /usr/local/lib/python3.10/dist-packages (from nibabel->monai[all]) (67.7.2)\n",
            "Collecting astor (from nni->monai[all])\n",
            "  Downloading astor-0.8.1-py2.py3-none-any.whl (27 kB)\n",
            "Collecting colorama (from nni->monai[all])\n",
            "  Downloading colorama-0.4.6-py2.py3-none-any.whl (25 kB)\n",
            "Collecting filelock (from gdown>=4.4.0->monai[all])\n",
            "  Downloading filelock-3.11.0-py3-none-any.whl (10.0 kB)\n",
            "Collecting json-tricks>=3.15.5 (from nni->monai[all])\n",
            "  Downloading json_tricks-3.17.3-py2.py3-none-any.whl (27 kB)\n",
            "Requirement already satisfied: prettytable in /usr/local/lib/python3.10/dist-packages (from nni->monai[all]) (3.9.0)\n",
            "Collecting PythonWebHDFS (from nni->monai[all])\n",
            "  Downloading PythonWebHDFS-0.2.3-py3-none-any.whl (10 kB)\n",
            "Collecting responses (from nni->monai[all])\n",
            "  Downloading responses-0.24.1-py3-none-any.whl (55 kB)\n",
            "\u001b[2K     \u001b[90m━━━━━━━━━━━━━━━━━━━━━━━━━━━━━━━━━━━━━━━━\u001b[0m \u001b[32m55.1/55.1 kB\u001b[0m \u001b[31m5.0 MB/s\u001b[0m eta \u001b[36m0:00:00\u001b[0m\n",
            "\u001b[?25hCollecting schema (from nni->monai[all])\n",
            "  Downloading schema-0.7.5-py2.py3-none-any.whl (17 kB)\n",
            "Collecting typeguard<4.1.3,>=3.0.0 (from nni->monai[all])\n",
            "  Downloading typeguard-4.1.2-py3-none-any.whl (33 kB)\n",
            "Collecting typing-extensions (from torch>=1.9->monai[all])\n",
            "  Downloading typing_extensions-4.8.0-py3-none-any.whl (31 kB)\n",
            "Collecting websockets>=10.1 (from nni->monai[all])\n",
            "  Downloading websockets-12.0-cp310-cp310-manylinux_2_5_x86_64.manylinux1_x86_64.manylinux_2_17_x86_64.manylinux2014_x86_64.whl (130 kB)\n",
            "\u001b[2K     \u001b[90m━━━━━━━━━━━━━━━━━━━━━━━━━━━━━━━━━━━━━━━━\u001b[0m \u001b[32m130.2/130.2 kB\u001b[0m \u001b[31m15.3 MB/s\u001b[0m eta \u001b[36m0:00:00\u001b[0m\n",
            "\u001b[?25hCollecting coloredlogs (from onnxruntime->monai[all])\n",
            "  Downloading coloredlogs-15.0.1-py2.py3-none-any.whl (46 kB)\n",
            "\u001b[2K     \u001b[90m━━━━━━━━━━━━━━━━━━━━━━━━━━━━━━━━━━━━━━━━\u001b[0m \u001b[32m46.0/46.0 kB\u001b[0m \u001b[31m3.6 MB/s\u001b[0m eta \u001b[36m0:00:00\u001b[0m\n",
            "\u001b[?25hRequirement already satisfied: flatbuffers in /usr/local/lib/python3.10/dist-packages (from onnxruntime->monai[all]) (23.5.26)\n",
            "Collecting colorlog (from optuna->monai[all])\n",
            "  Downloading colorlog-6.7.0-py2.py3-none-any.whl (11 kB)\n",
            "Collecting nptyping (from pynrrd->monai[all])\n",
            "  Downloading nptyping-2.5.0-py3-none-any.whl (37 kB)\n",
            "Requirement already satisfied: absl-py>=0.4 in /usr/local/lib/python3.10/dist-packages (from tensorboard->monai[all]) (1.4.0)\n",
            "Requirement already satisfied: grpcio>=1.48.2 in /usr/local/lib/python3.10/dist-packages (from tensorboard->monai[all]) (1.59.2)\n",
            "Requirement already satisfied: google-auth<3,>=1.6.3 in /usr/local/lib/python3.10/dist-packages (from tensorboard->monai[all]) (2.17.3)\n",
            "Requirement already satisfied: google-auth-oauthlib<1.1,>=0.5 in /usr/local/lib/python3.10/dist-packages (from tensorboard->monai[all]) (1.0.0)\n",
            "Requirement already satisfied: tensorboard-data-server<0.8.0,>=0.7.0 in /usr/local/lib/python3.10/dist-packages (from tensorboard->monai[all]) (0.7.2)\n",
            "Requirement already satisfied: werkzeug>=1.0.1 in /usr/local/lib/python3.10/dist-packages (from tensorboard->monai[all]) (3.0.1)\n",
            "Collecting asciitree (from zarr->monai[all])\n",
            "  Downloading asciitree-0.3.3.tar.gz (4.0 kB)\n",
            "  Preparing metadata (setup.py) ... \u001b[?25l\u001b[?25hdone\n",
            "Collecting fasteners (from zarr->monai[all])\n",
            "  Downloading fasteners-0.19-py3-none-any.whl (18 kB)\n",
            "Collecting numcodecs>=0.10.0 (from zarr->monai[all])\n",
            "  Downloading numcodecs-0.12.1-cp310-cp310-manylinux_2_17_x86_64.manylinux2014_x86_64.whl (7.7 MB)\n",
            "\u001b[2K     \u001b[90m━━━━━━━━━━━━━━━━━━━━━━━━━━━━━━━━━━━━━━━━\u001b[0m \u001b[32m7.7/7.7 MB\u001b[0m \u001b[31m49.0 MB/s\u001b[0m eta \u001b[36m0:00:00\u001b[0m\n",
            "\u001b[?25hCollecting Mako (from alembic!=1.10.0,<2->mlflow>=1.28.0->monai[all])\n",
            "  Downloading Mako-1.3.0-py3-none-any.whl (78 kB)\n",
            "\u001b[2K     \u001b[90m━━━━━━━━━━━━━━━━━━━━━━━━━━━━━━━━━━━━━━━━\u001b[0m \u001b[32m78.6/78.6 kB\u001b[0m \u001b[31m11.9 MB/s\u001b[0m eta \u001b[36m0:00:00\u001b[0m\n",
            "\u001b[?25hRequirement already satisfied: oauthlib>=3.1.0 in /usr/local/lib/python3.10/dist-packages (from databricks-cli<1,>=0.8.7->mlflow>=1.28.0->monai[all]) (3.2.2)\n",
            "Requirement already satisfied: tabulate>=0.7.7 in /usr/local/lib/python3.10/dist-packages (from databricks-cli<1,>=0.8.7->mlflow>=1.28.0->monai[all]) (0.9.0)\n",
            "Requirement already satisfied: websocket-client>=0.32.0 in /usr/local/lib/python3.10/dist-packages (from docker<7,>=4.0.0->mlflow>=1.28.0->monai[all]) (1.6.4)\n",
            "Requirement already satisfied: itsdangerous>=2.0 in /usr/local/lib/python3.10/dist-packages (from Flask<4->mlflow>=1.28.0->monai[all]) (2.1.2)\n",
            "Collecting orderedmultidict>=1.0.1 (from furl>=2.0.0->clearml>=1.10.0rc0->monai[all])\n",
            "  Downloading orderedmultidict-1.0.1-py2.py3-none-any.whl (11 kB)\n",
            "Collecting gitdb<5,>=4.0.1 (from gitpython<4,>=2.1.0->mlflow>=1.28.0->monai[all])\n",
            "  Downloading gitdb-4.0.11-py3-none-any.whl (62 kB)\n",
            "\u001b[2K     \u001b[90m━━━━━━━━━━━━━━━━━━━━━━━━━━━━━━━━━━━━━━━━\u001b[0m \u001b[32m62.7/62.7 kB\u001b[0m \u001b[31m7.5 MB/s\u001b[0m eta \u001b[36m0:00:00\u001b[0m\n",
            "\u001b[?25hRequirement already satisfied: cachetools<6.0,>=2.0.0 in /usr/local/lib/python3.10/dist-packages (from google-auth<3,>=1.6.3->tensorboard->monai[all]) (5.3.2)\n",
            "Requirement already satisfied: pyasn1-modules>=0.2.1 in /usr/local/lib/python3.10/dist-packages (from google-auth<3,>=1.6.3->tensorboard->monai[all]) (0.3.0)\n",
            "Requirement already satisfied: rsa<5,>=3.1.4 in /usr/local/lib/python3.10/dist-packages (from google-auth<3,>=1.6.3->tensorboard->monai[all]) (4.9)\n",
            "Requirement already satisfied: requests-oauthlib>=0.7.0 in /usr/local/lib/python3.10/dist-packages (from google-auth-oauthlib<1.1,>=0.5->tensorboard->monai[all]) (1.3.1)\n",
            "Requirement already satisfied: zipp>=0.5 in /usr/local/lib/python3.10/dist-packages (from importlib-metadata!=4.7.0,<7,>=3.7.0->mlflow>=1.28.0->monai[all]) (3.17.0)\n",
            "Requirement already satisfied: MarkupSafe>=2.0 in /usr/local/lib/python3.10/dist-packages (from Jinja2<4,>=2.11->mlflow>=1.28.0->monai[all]) (2.1.3)\n",
            "Requirement already satisfied: charset-normalizer<4,>=2 in /usr/local/lib/python3.10/dist-packages (from requests>=2.20.0->clearml>=1.10.0rc0->monai[all]) (3.3.2)\n",
            "Requirement already satisfied: idna<4,>=2.5 in /usr/local/lib/python3.10/dist-packages (from requests>=2.20.0->clearml>=1.10.0rc0->monai[all]) (3.4)\n",
            "Requirement already satisfied: certifi>=2017.4.17 in /usr/local/lib/python3.10/dist-packages (from requests>=2.20.0->clearml>=1.10.0rc0->monai[all]) (2023.7.22)\n",
            "Requirement already satisfied: joblib>=1.1.1 in /usr/local/lib/python3.10/dist-packages (from scikit-learn<2->mlflow>=1.28.0->monai[all]) (1.3.2)\n",
            "Requirement already satisfied: threadpoolctl>=2.0.0 in /usr/local/lib/python3.10/dist-packages (from scikit-learn<2->mlflow>=1.28.0->monai[all]) (3.2.0)\n",
            "Requirement already satisfied: greenlet!=0.4.17 in /usr/local/lib/python3.10/dist-packages (from sqlalchemy<3,>=1.4.0->mlflow>=1.28.0->monai[all]) (3.0.1)\n",
            "Requirement already satisfied: soupsieve>1.2 in /usr/local/lib/python3.10/dist-packages (from beautifulsoup4->gdown>=4.4.0->monai[all]) (2.5)\n",
            "Collecting humanfriendly>=9.1 (from coloredlogs->onnxruntime->monai[all])\n",
            "  Downloading humanfriendly-10.0-py2.py3-none-any.whl (86 kB)\n",
            "\u001b[2K     \u001b[90m━━━━━━━━━━━━━━━━━━━━━━━━━━━━━━━━━━━━━━━━\u001b[0m \u001b[32m86.8/86.8 kB\u001b[0m \u001b[31m11.0 MB/s\u001b[0m eta \u001b[36m0:00:00\u001b[0m\n",
            "\u001b[?25hRequirement already satisfied: wcwidth in /usr/local/lib/python3.10/dist-packages (from prettytable->nni->monai[all]) (0.2.10)\n",
            "Collecting simplejson (from PythonWebHDFS->nni->monai[all])\n",
            "  Downloading simplejson-3.19.2-cp310-cp310-manylinux_2_5_x86_64.manylinux1_x86_64.manylinux_2_17_x86_64.manylinux2014_x86_64.whl (137 kB)\n",
            "\u001b[2K     \u001b[90m━━━━━━━━━━━━━━━━━━━━━━━━━━━━━━━━━━━━━━━━\u001b[0m \u001b[32m137.9/137.9 kB\u001b[0m \u001b[31m8.6 MB/s\u001b[0m eta \u001b[36m0:00:00\u001b[0m\n",
            "\u001b[?25hRequirement already satisfied: PySocks!=1.5.7,>=1.5.6 in /usr/local/lib/python3.10/dist-packages (from requests>=2.20.0->clearml>=1.10.0rc0->monai[all]) (1.7.1)\n",
            "Requirement already satisfied: contextlib2>=0.5.5 in /usr/local/lib/python3.10/dist-packages (from schema->nni->monai[all]) (21.6.0)\n",
            "Requirement already satisfied: mpmath>=0.19 in /usr/local/lib/python3.10/dist-packages (from sympy->torch>=1.9->monai[all]) (1.3.0)\n",
            "Collecting smmap<6,>=3.0.1 (from gitdb<5,>=4.0.1->gitpython<4,>=2.1.0->mlflow>=1.28.0->monai[all])\n",
            "  Downloading smmap-5.0.1-py3-none-any.whl (24 kB)\n",
            "Requirement already satisfied: pyasn1<0.6.0,>=0.4.6 in /usr/local/lib/python3.10/dist-packages (from pyasn1-modules>=0.2.1->google-auth<3,>=1.6.3->tensorboard->monai[all]) (0.5.0)\n",
            "Building wheels for collected packages: openslide-python, fire, asciitree\n",
            "  Building wheel for openslide-python (setup.py) ... \u001b[?25l\u001b[?25hdone\n",
            "  Created wheel for openslide-python: filename=openslide_python-1.1.2-cp310-cp310-linux_x86_64.whl size=22701 sha256=2420b1d8ebfcd9e5e1a6f90bc68d89c6bbb095547c72f19264610790e6457e6d\n",
            "  Stored in directory: /root/.cache/pip/wheels/93/ac/a7/517e63825943228057758b7f42d0c238290fc21e2a53b1043e\n",
            "  Building wheel for fire (setup.py) ... \u001b[?25l\u001b[?25hdone\n",
            "  Created wheel for fire: filename=fire-0.5.0-py2.py3-none-any.whl size=116933 sha256=bc520db90a691b3b1fd280c34806dfbca74d468de391a66def7514a8e3950b8b\n",
            "  Stored in directory: /root/.cache/pip/wheels/90/d4/f7/9404e5db0116bd4d43e5666eaa3e70ab53723e1e3ea40c9a95\n",
            "  Building wheel for asciitree (setup.py) ... \u001b[?25l\u001b[?25hdone\n",
            "  Created wheel for asciitree: filename=asciitree-0.3.3-py3-none-any.whl size=5034 sha256=ec44069b84f0e57136b453cd1362df67f7a4131ffab75c2dbabf56f8a33b63a2\n",
            "  Stored in directory: /root/.cache/pip/wheels/7f/4e/be/1171b40f43b918087657ec57cf3b81fa1a2e027d8755baa184\n",
            "Successfully built openslide-python fire asciitree\n",
            "Installing collected packages: tokenizers, nvidia-ml-py, ninja, lmdb, json-tricks, asciitree, websockets, typing-extensions, tensorboardX, smmap, simplejson, schema, querystring-parser, pyjwt, pydicom, pathlib2, orderedmultidict, openslide-python, onnx, numcodecs, nptyping, Mako, itk-core, imagecodecs, humanfriendly, gunicorn, fire, filelock, fasteners, einops, cucim, colorlog, colorama, astor, zarr, typeguard, responses, PythonWebHDFS, pynrrd, itk-numerics, itk-io, gitdb, furl, docker, databricks-cli, coloredlogs, transformers, onnxruntime, nni, itk-filtering, gitpython, alembic, pytorch-ignite, optuna, mlflow, itk-segmentation, itk-registration, clearml, lpips, itk\n",
            "  Attempting uninstall: tokenizers\n",
            "    Found existing installation: tokenizers 0.15.0\n",
            "    Uninstalling tokenizers-0.15.0:\n",
            "      Successfully uninstalled tokenizers-0.15.0\n",
            "  Attempting uninstall: typing-extensions\n",
            "    Found existing installation: typing_extensions 4.5.0\n",
            "    Uninstalling typing_extensions-4.5.0:\n",
            "      Successfully uninstalled typing_extensions-4.5.0\n",
            "  Attempting uninstall: pyjwt\n",
            "    Found existing installation: PyJWT 2.3.0\n",
            "    Uninstalling PyJWT-2.3.0:\n",
            "      Successfully uninstalled PyJWT-2.3.0\n",
            "  Attempting uninstall: filelock\n",
            "    Found existing installation: filelock 3.13.1\n",
            "    Uninstalling filelock-3.13.1:\n",
            "      Successfully uninstalled filelock-3.13.1\n",
            "  Attempting uninstall: transformers\n",
            "    Found existing installation: transformers 4.35.2\n",
            "    Uninstalling transformers-4.35.2:\n",
            "      Successfully uninstalled transformers-4.35.2\n",
            "\u001b[31mERROR: pip's dependency resolver does not currently take into account all the packages that are installed. This behaviour is the source of the following dependency conflicts.\n",
            "tensorflow-probability 0.22.0 requires typing-extensions<4.6.0, but you have typing-extensions 4.8.0 which is incompatible.\u001b[0m\u001b[31m\n",
            "\u001b[0mSuccessfully installed Mako-1.3.0 PythonWebHDFS-0.2.3 alembic-1.12.1 asciitree-0.3.3 astor-0.8.1 clearml-1.13.2 colorama-0.4.6 coloredlogs-15.0.1 colorlog-6.7.0 cucim-23.10.0 databricks-cli-0.18.0 docker-6.1.3 einops-0.7.0 fasteners-0.19 filelock-3.11.0 fire-0.5.0 furl-2.1.3 gitdb-4.0.11 gitpython-3.1.40 gunicorn-21.2.0 humanfriendly-10.0 imagecodecs-2023.9.18 itk-5.3.0 itk-core-5.3.0 itk-filtering-5.3.0 itk-io-5.3.0 itk-numerics-5.3.0 itk-registration-5.3.0 itk-segmentation-5.3.0 json-tricks-3.17.3 lmdb-1.4.1 lpips-0.1.4 mlflow-2.8.1 ninja-1.11.1.1 nni-3.0 nptyping-2.5.0 numcodecs-0.12.1 nvidia-ml-py-12.535.133 onnx-1.15.0 onnxruntime-1.16.3 openslide-python-1.1.2 optuna-3.4.0 orderedmultidict-1.0.1 pathlib2-2.3.7.post1 pydicom-2.4.3 pyjwt-2.8.0 pynrrd-1.0.0 pytorch-ignite-0.4.11 querystring-parser-1.2.4 responses-0.24.1 schema-0.7.5 simplejson-3.19.2 smmap-5.0.1 tensorboardX-2.6.2.2 tokenizers-0.12.1 transformers-4.21.3 typeguard-4.1.2 typing-extensions-4.8.0 websockets-12.0 zarr-2.16.1\n"
          ]
        }
      ]
    },
    {
      "cell_type": "code",
      "source": [
        "!pip install pynrrd # For 'import nrrd'"
      ],
      "metadata": {
        "colab": {
          "base_uri": "https://localhost:8080/"
        },
        "id": "BvXx8EoiXJtp",
        "outputId": "741ad0e6-3c2f-4bad-a7b0-d607ddc9e05c"
      },
      "execution_count": 4,
      "outputs": [
        {
          "output_type": "stream",
          "name": "stdout",
          "text": [
            "Requirement already satisfied: pynrrd in /usr/local/lib/python3.10/dist-packages (1.0.0)\n",
            "Requirement already satisfied: numpy>=1.11.1 in /usr/local/lib/python3.10/dist-packages (from pynrrd) (1.23.5)\n",
            "Requirement already satisfied: nptyping in /usr/local/lib/python3.10/dist-packages (from pynrrd) (2.5.0)\n",
            "Requirement already satisfied: typing-extensions in /usr/local/lib/python3.10/dist-packages (from pynrrd) (4.8.0)\n"
          ]
        }
      ]
    },
    {
      "cell_type": "code",
      "source": [
        "!pip install pydicom # E.g. for the TCIS dataset, which uses the DICOM format"
      ],
      "metadata": {
        "colab": {
          "base_uri": "https://localhost:8080/"
        },
        "id": "84Ckjo2XBX8f",
        "outputId": "95c9556e-3143-4d92-9da1-085aad1213c3"
      },
      "execution_count": 5,
      "outputs": [
        {
          "output_type": "stream",
          "name": "stdout",
          "text": [
            "Requirement already satisfied: pydicom in /usr/local/lib/python3.10/dist-packages (2.4.3)\n"
          ]
        }
      ]
    },
    {
      "cell_type": "code",
      "source": [
        "!python -c \"import monai\" || pip install -qU \"monai[ignite, nibabel, torchvision, tqdm]==1.1.0\""
      ],
      "metadata": {
        "colab": {
          "base_uri": "https://localhost:8080/"
        },
        "id": "vgYo2sqnIwpc",
        "outputId": "34e4f2a3-eec0-4f5a-b99c-0437b62784a3"
      },
      "execution_count": 6,
      "outputs": [
        {
          "output_type": "stream",
          "name": "stdout",
          "text": [
            "2023-11-27 15:17:18.550678: E tensorflow/compiler/xla/stream_executor/cuda/cuda_dnn.cc:9342] Unable to register cuDNN factory: Attempting to register factory for plugin cuDNN when one has already been registered\n",
            "2023-11-27 15:17:18.550727: E tensorflow/compiler/xla/stream_executor/cuda/cuda_fft.cc:609] Unable to register cuFFT factory: Attempting to register factory for plugin cuFFT when one has already been registered\n",
            "2023-11-27 15:17:18.550766: E tensorflow/compiler/xla/stream_executor/cuda/cuda_blas.cc:1518] Unable to register cuBLAS factory: Attempting to register factory for plugin cuBLAS when one has already been registered\n",
            "2023-11-27 15:17:18.558770: I tensorflow/core/platform/cpu_feature_guard.cc:182] This TensorFlow binary is optimized to use available CPU instructions in performance-critical operations.\n",
            "To enable the following instructions: AVX2 AVX512F FMA, in other operations, rebuild TensorFlow with the appropriate compiler flags.\n",
            "2023-11-27 15:17:19.559578: W tensorflow/compiler/tf2tensorrt/utils/py_utils.cc:38] TF-TRT Warning: Could not find TensorRT\n"
          ]
        }
      ]
    },
    {
      "cell_type": "markdown",
      "source": [
        "## Imports"
      ],
      "metadata": {
        "id": "LHHTNI2-NIyx"
      }
    },
    {
      "cell_type": "markdown",
      "source": [
        "### General"
      ],
      "metadata": {
        "id": "8KkponkcNSaS"
      }
    },
    {
      "cell_type": "code",
      "source": [
        "from typing import List, Dict, Set, Tuple, Any, Optional, Union, Callable\n",
        "import time\n",
        "import os\n",
        "from pathlib import Path\n",
        "import tempfile\n",
        "import numpy as np\n",
        "import pandas as pd\n",
        "from glob import glob\n",
        "\n",
        "import multiprocessing\n",
        "import resource\n",
        "import json\n",
        "\n",
        "import psutil\n",
        "import torch"
      ],
      "metadata": {
        "id": "SRZ6ru5FNSKJ"
      },
      "execution_count": 16,
      "outputs": []
    },
    {
      "cell_type": "markdown",
      "source": [
        "### Evaluation"
      ],
      "metadata": {
        "id": "NeS2XGh0NNjA"
      }
    },
    {
      "cell_type": "code",
      "source": [
        "import matplotlib.pyplot as plt\n",
        "plt.style.use('dark_background')\n",
        "import seaborn as sns\n",
        "import PIL\n",
        "from scipy import ndimage\n",
        "import skimage\n",
        "import nrrd"
      ],
      "metadata": {
        "id": "Zge2o1Y6NPj2"
      },
      "execution_count": 17,
      "outputs": []
    },
    {
      "cell_type": "markdown",
      "source": [
        "### Monai"
      ],
      "metadata": {
        "id": "EpIjTZLONLhF"
      }
    },
    {
      "cell_type": "code",
      "execution_count": 45,
      "metadata": {
        "id": "g46LHiZcMMO0"
      },
      "outputs": [],
      "source": [
        "from monai.apps import MedNISTDataset, download_and_extract\n",
        "from monai.apps.tcia import TCIA_LABEL_DICT\n",
        "from monai.config import print_config, KeysCollection\n",
        "from monai.data import (\n",
        "    decollate_batch,\n",
        "    partition_dataset_classes,\n",
        "    Dataset,\n",
        "    PersistentDataset,\n",
        "    DataLoader\n",
        ")\n",
        "from monai.engines import SupervisedTrainer, SupervisedEvaluator\n",
        "from monai.handlers import (\n",
        "    CheckpointSaver,\n",
        "    from_engine,\n",
        "    LrScheduleHandler,\n",
        "    MeanSquaredError,\n",
        "    MetricsSaver,\n",
        "    StatsHandler,\n",
        "    TensorBoardStatsHandler,\n",
        "    ValidationHandler\n",
        ")\n",
        "from monai.inferers import SimpleInferer\n",
        "from monai.metrics import ROCAUCMetric\n",
        "from monai.networks import eval_mode\n",
        "from monai.networks.nets import DenseNet121\n",
        "import monai.transforms as mt\n",
        "from monai.utils import set_determinism, first\n",
        "rseed = 42\n",
        "set_determinism(seed=rseed)"
      ]
    },
    {
      "cell_type": "code",
      "source": [
        "import nibabel as nib # For NIfTI Images"
      ],
      "metadata": {
        "id": "WX4AsJXOfQES"
      },
      "execution_count": 10,
      "outputs": []
    },
    {
      "cell_type": "markdown",
      "source": [
        "#### For evaluations"
      ],
      "metadata": {
        "id": "VuLNg8JgNj8c"
      }
    },
    {
      "cell_type": "code",
      "source": [
        "# Model evaluation using sklearn\n",
        "from sklearn.metrics import confusion_matrix\n",
        "from sklearn.metrics import f1_score\n",
        "from sklearn.metrics import accuracy_score\n",
        "from sklearn.metrics import classification_report\n",
        "from sklearn.metrics import roc_curve, roc_auc_score\n",
        "from sklearn.model_selection import cross_val_score"
      ],
      "metadata": {
        "id": "bO48RYslNn39"
      },
      "execution_count": 11,
      "outputs": []
    },
    {
      "cell_type": "code",
      "source": [
        "# Model evaluation using TSNE plots\n",
        "from sklearn.manifold import TSNE"
      ],
      "metadata": {
        "id": "wd1ep2NENsm9"
      },
      "execution_count": 12,
      "outputs": []
    },
    {
      "cell_type": "code",
      "source": [
        "print_config()"
      ],
      "metadata": {
        "colab": {
          "base_uri": "https://localhost:8080/"
        },
        "id": "-e0HgYNAdI46",
        "outputId": "caed7cb9-e010-485d-eb00-fb6dd87c5a28"
      },
      "execution_count": 13,
      "outputs": [
        {
          "output_type": "stream",
          "name": "stdout",
          "text": [
            "MONAI version: 1.3.0\n",
            "Numpy version: 1.23.5\n",
            "Pytorch version: 2.1.0+cu118\n",
            "MONAI flags: HAS_EXT = False, USE_COMPILED = False, USE_META_DICT = False\n",
            "MONAI rev id: 865972f7a791bf7b42efbcd87c8402bd865b329e\n",
            "MONAI __file__: /usr/local/lib/python3.10/dist-packages/monai/__init__.py\n",
            "\n",
            "Optional dependencies:\n",
            "Pytorch Ignite version: 0.4.11\n",
            "ITK version: 5.3.0\n",
            "Nibabel version: 4.0.2\n",
            "scikit-image version: 0.19.3\n",
            "scipy version: 1.11.3\n",
            "Pillow version: 9.4.0\n",
            "Tensorboard version: 2.14.1\n",
            "gdown version: 4.6.6\n",
            "TorchVision version: 0.16.0+cu118\n",
            "tqdm version: 4.66.1\n",
            "lmdb version: 1.4.1\n",
            "psutil version: 5.9.5\n",
            "pandas version: 1.5.3\n",
            "einops version: 0.7.0\n",
            "transformers version: 4.21.3\n",
            "mlflow version: 2.8.1\n",
            "pynrrd version: 1.0.0\n",
            "clearml version: 1.13.2\n",
            "\n",
            "For details about installing the optional dependencies, please visit:\n",
            "    https://docs.monai.io/en/latest/installation.html#installing-the-recommended-dependencies\n",
            "\n"
          ]
        }
      ]
    },
    {
      "cell_type": "markdown",
      "source": [
        "# Dataset Example: MedMNIST - Large-scale lightweight benchmark for 2D and 3D biomedical image classification\n",
        "- [MedMNIST Homepage](https://medmnist.com/)"
      ],
      "metadata": {
        "id": "k1Ln38Qu_dtO"
      }
    },
    {
      "cell_type": "code",
      "source": [
        "root_dir = tempfile.mkdtemp()\n",
        "print(root_dir)"
      ],
      "metadata": {
        "colab": {
          "base_uri": "https://localhost:8080/"
        },
        "id": "aEMmhrzgXNRL",
        "outputId": "91dae33f-6145-47f3-fe42-57a26c736014"
      },
      "execution_count": 21,
      "outputs": [
        {
          "output_type": "stream",
          "name": "stdout",
          "text": [
            "/tmp/tmpieh_g8n6\n"
          ]
        }
      ]
    },
    {
      "cell_type": "code",
      "source": [
        "# Download and save the dataset.\n",
        "resource = \"https://www.dropbox.com/s/5wwskxctvcxiuea/MedNIST.tar.gz?dl=1\"\n",
        "md5 = \"0bc7306e7427e00ad1c5526a6677552d\"\n",
        "\n",
        "path_ds_tar = os.path.join(root_dir, \"MedNIST.tar.gz\")\n",
        "path_ds = os.path.join(root_dir, \"MedNIST\")\n",
        "if not os.path.exists(path_ds):\n",
        "    download_and_extract(resource, path_ds_tar, root_dir, md5)"
      ],
      "metadata": {
        "colab": {
          "base_uri": "https://localhost:8080/"
        },
        "id": "ox_tqE4pXSiA",
        "outputId": "7075d61c-e5b8-4e65-edc9-0b4bf8c7eef4"
      },
      "execution_count": 22,
      "outputs": [
        {
          "output_type": "stream",
          "name": "stderr",
          "text": [
            "MedNIST.tar.gz: 59.0MB [00:04, 15.0MB/s]                            "
          ]
        },
        {
          "output_type": "stream",
          "name": "stdout",
          "text": [
            "2023-11-27 15:23:08,204 - INFO - Downloaded: /tmp/tmpieh_g8n6/MedNIST.tar.gz\n"
          ]
        },
        {
          "output_type": "stream",
          "name": "stderr",
          "text": [
            "\n"
          ]
        },
        {
          "output_type": "stream",
          "name": "stdout",
          "text": [
            "2023-11-27 15:23:08,318 - INFO - Verified 'MedNIST.tar.gz', md5: 0bc7306e7427e00ad1c5526a6677552d.\n",
            "2023-11-27 15:23:08,320 - INFO - Writing into directory: /tmp/tmpieh_g8n6.\n"
          ]
        }
      ]
    },
    {
      "cell_type": "code",
      "source": [
        "# List all subdirectories in the dir of the dataset. The subdirectories link to\n",
        "# data of specific classes.\n",
        "subdirs: List[str] = sorted(filter(os.path.isdir, glob(f\"{path_ds}/*\")))\n",
        "subdirs"
      ],
      "metadata": {
        "colab": {
          "base_uri": "https://localhost:8080/"
        },
        "id": "pwGbrby2aShC",
        "outputId": "dead07de-8eaf-4c9f-99b9-78a2f92e35c0"
      },
      "execution_count": 29,
      "outputs": [
        {
          "output_type": "execute_result",
          "data": {
            "text/plain": [
              "['/tmp/tmpieh_g8n6/MedNIST/AbdomenCT',\n",
              " '/tmp/tmpieh_g8n6/MedNIST/BreastMRI',\n",
              " '/tmp/tmpieh_g8n6/MedNIST/CXR',\n",
              " '/tmp/tmpieh_g8n6/MedNIST/ChestCT',\n",
              " '/tmp/tmpieh_g8n6/MedNIST/Hand',\n",
              " '/tmp/tmpieh_g8n6/MedNIST/HeadCT']"
            ]
          },
          "metadata": {},
          "execution_count": 29
        }
      ]
    },
    {
      "cell_type": "code",
      "source": [
        "# Get the basename (last name in the link) of all subdirs.\n",
        "# These are the names of the class to which the images belong.\n",
        "class_names: List[str] = list(map(os.path.basename, subdirs))\n",
        "num_class: int = len(class_names)\n",
        "class_names"
      ],
      "metadata": {
        "colab": {
          "base_uri": "https://localhost:8080/"
        },
        "id": "TCaIM4jVaUks",
        "outputId": "5ba1df66-a979-4287-f9b8-b088d16d4e2e"
      },
      "execution_count": 33,
      "outputs": [
        {
          "output_type": "execute_result",
          "data": {
            "text/plain": [
              "['AbdomenCT', 'BreastMRI', 'CXR', 'ChestCT', 'Hand', 'HeadCT']"
            ]
          },
          "metadata": {},
          "execution_count": 33
        }
      ]
    },
    {
      "cell_type": "code",
      "source": [
        "# Load the filenames of each image for each class separately.\n",
        "image_files: List[List[str]] = [sorted(glob(f\"{d}/*\")) for d in subdirs]\n",
        "num_each: List[int] = [len(image_files[i]) for i in range(num_class)]"
      ],
      "metadata": {
        "id": "v6vghEBOXu8D"
      },
      "execution_count": 34,
      "outputs": []
    },
    {
      "cell_type": "code",
      "source": [
        "# Concatenate all image file names into one list.\n",
        "image_files_list: List[str] = sum(image_files, [])"
      ],
      "metadata": {
        "id": "RacZHwYga9cO"
      },
      "execution_count": 37,
      "outputs": []
    },
    {
      "cell_type": "code",
      "source": [
        "# Construct a list of class, indicating for each image to which class it belongs to.\n",
        "image_class: List[int] = sum([[i] * n for i, n in enumerate(num_each)], [])\n",
        "\n",
        "num_total: int = len(image_class)\n",
        "image_width, image_height = PIL.Image.open(image_files_list[0]).size\n",
        "\n",
        "print(f\"Total image count:  {num_total}\")\n",
        "print(f\"Image dimensions:   {image_width} x {image_height}\")\n",
        "print(f\"Label names:        {class_names}\")\n",
        "print(f\"Label counts:       {num_each}\")"
      ],
      "metadata": {
        "colab": {
          "base_uri": "https://localhost:8080/"
        },
        "id": "EzhVY41mYQcO",
        "outputId": "5dc247cc-bae8-4cee-b0a8-ae7f0fbca543"
      },
      "execution_count": 39,
      "outputs": [
        {
          "output_type": "stream",
          "name": "stdout",
          "text": [
            "Total image count:  58954\n",
            "Image dimensions:   64 x 64\n",
            "Label names:        ['AbdomenCT', 'BreastMRI', 'CXR', 'ChestCT', 'Hand', 'HeadCT']\n",
            "Label counts:       [10000, 8954, 10000, 10000, 10000, 10000]\n"
          ]
        }
      ]
    },
    {
      "cell_type": "markdown",
      "source": [
        "### Data visualization"
      ],
      "metadata": {
        "id": "PFjYof7BcHGW"
      }
    },
    {
      "cell_type": "code",
      "source": [
        "rows = 2\n",
        "cols = 8\n",
        "plt.subplots(rows, cols, figsize=(cols*1.5, rows*1.5))\n",
        "for i, k in enumerate(np.random.randint(num_total, size=rows*cols)):\n",
        "    img = PIL.Image.open(image_files_list[k])\n",
        "    plt.subplot(rows, cols, i + 1)\n",
        "    plt.axis(\"off\")\n",
        "    plt.title(class_names[image_class[k]])\n",
        "    plt.imshow(np.array(img), cmap=\"gray\", vmin=0, vmax=255)"
      ],
      "metadata": {
        "id": "hSKWJLTH9DGL",
        "colab": {
          "base_uri": "https://localhost:8080/",
          "height": 284
        },
        "outputId": "4f43e8cd-ca77-4feb-9dab-7f76942d5984"
      },
      "execution_count": 44,
      "outputs": [
        {
          "output_type": "display_data",
          "data": {
            "text/plain": [
              "<Figure size 1200x300 with 16 Axes>"
            ],
            "image/png": "[encoded data removed]"
          },
          "metadata": {}
        }
      ]
    },
    {
      "cell_type": "markdown",
      "source": [
        "### Splitting the dataset into training, validation and test sets"
      ],
      "metadata": {
        "id": "60Wr_9t8czpM"
      }
    },
    {
      "cell_type": "code",
      "source": [
        "parts = partition_dataset_classes(\n",
        "    data = np.arange(len(image_files_list)),\n",
        "    classes = image_class,\n",
        "    ratios = (8, 1, 1),\n",
        "    shuffle = True,\n",
        "    seed = rseed\n",
        ")\n",
        "\n",
        "# According to the part splits, assemble the datasets.\n",
        "image_sets = [list(), list(), list()]\n",
        "label_sets = [list(), list(), list()]\n",
        "\n",
        "for i, part in enumerate(parts):\n",
        "    image_sets[i] = [image_files_list[idx] for idx in part]\n",
        "    label_sets[i] = [image_class[idx] for idx in part]\n",
        "\n",
        "train_x, val_x, test_x = image_sets\n",
        "train_y, val_y, test_y = label_sets\n",
        "\n",
        "print(f\"Training count: {len(train_x)}, Validation count: {len(val_x)}, Test count: {len(test_x)}\")"
      ],
      "metadata": {
        "colab": {
          "base_uri": "https://localhost:8080/"
        },
        "id": "5Ug1TbzDc3j_",
        "outputId": "079261a5-17e0-447a-8bea-e8ec6c2fa177"
      },
      "execution_count": 46,
      "outputs": [
        {
          "output_type": "stream",
          "name": "stdout",
          "text": [
            "Training count: 47163, Validation count: 5895, Test count: 5895\n"
          ]
        }
      ]
    },
    {
      "cell_type": "markdown",
      "source": [
        "### Transforms definitions"
      ],
      "metadata": {
        "id": "Jjn0CP7ceCO8"
      }
    },
    {
      "cell_type": "code",
      "source": [
        "# Defining the transforms.\n",
        "aug_prob: float = .5\n",
        "aug_transforms = mt.Compose([\n",
        "    mt.RandRotate(range_x=15, prob=aug_prob, keep_size=True).set_random_state(rseed),\n",
        "    mt.RandFlip(spatial_axis=0, prob=aug_prob).set_random_state(rseed),\n",
        "    mt.RandZoom(min_zoom=.9, max_zoom=1.1, prob=aug_prob).set_random_state(rseed),\n",
        "])\n",
        "\n",
        "loading_transforms = mt.Compose([\n",
        "    mt.LoadImage(image_only=True),\n",
        "    mt.EnsureChannelFirst(),\n",
        "    mt.ScaleIntensity(),\n",
        "    aug_transforms\n",
        "])\n",
        "\n",
        "train_transforms = mt.Compose([\n",
        "    loading_transforms,\n",
        "    aug_transforms\n",
        "])\n",
        "\n",
        "val_transforms = mt.Compose([loading_transforms])\n",
        "\n",
        "act = mt.Compose([mt.Activations(softmax=True)])\n",
        "to_onehot = mt.Compose([mt.AsDiscrete(to_onehot=num_class)])"
      ],
      "metadata": {
        "id": "1EGFqvx8Dyg4"
      },
      "execution_count": 49,
      "outputs": []
    },
    {
      "cell_type": "code",
      "source": [
        "# Test the fuctionality of the transforms.\n",
        "plt.subplots(1, 3, figsize=(4, 4))\n",
        "for i in range(0,3):\n",
        "    img = image_files_list[i]\n",
        "    test_output = train_transforms(img)\n",
        "    #test_output = val_transforms(img)\n",
        "\n",
        "    # Plot the transformed images.\n",
        "    arr = np.array(test_output[0])\n",
        "    plt.subplot(2, 3, i + 1)\n",
        "    plt.xlabel(class_names[image_class[i]])\n",
        "    plt.imshow(arr, cmap=\"gray\", vmin=0, vmax=1)\n",
        "plt.tight_layout()\n",
        "plt.show()"
      ],
      "metadata": {
        "colab": {
          "base_uri": "https://localhost:8080/",
          "height": 188
        },
        "id": "pzT9TjLMeNjL",
        "outputId": "9abf686a-092c-4428-f6e5-30520749f3c9"
      },
      "execution_count": 62,
      "outputs": [
        {
          "output_type": "stream",
          "name": "stderr",
          "text": [
            "Auto-removal of overlapping axes is deprecated since 3.6 and will be removed two minor releases later; explicitly call ax.remove() as needed.\n"
          ]
        },
        {
          "output_type": "display_data",
          "data": {
            "text/plain": [
              "<Figure size 400x400 with 3 Axes>"
            ],
            "image/png": "[encoded data removed]"
          },
          "metadata": {}
        }
      ]
    },
    {
      "cell_type": "markdown",
      "source": [
        "### Custom Dataset definition"
      ],
      "metadata": {
        "id": "hWeY5ATagiUU"
      }
    },
    {
      "cell_type": "code",
      "source": [
        "batch_size = 512\n",
        "num_workers = 2\n",
        "\n",
        "class MedNISTDataset(torch.utils.data.Dataset):\n",
        "    def __init__(self, image_files, labels, transforms):\n",
        "        self.image_files = image_files\n",
        "        self.labels = labels\n",
        "        self.transforms = transforms\n",
        "\n",
        "    def __len__(self):\n",
        "        return len(self.image_files)\n",
        "\n",
        "    def __getitem__(self, index):\n",
        "        return self.transforms(self.image_files[index]), self.labels[index]\n",
        "\n",
        "\n",
        "train_ds = MedNISTDataset(train_x, train_y, train_transforms)\n",
        "train_loader = DataLoader(train_ds, batch_size=batch_size, shuffle=True, num_workers=num_workers)\n",
        "\n",
        "val_ds = MedNISTDataset(val_x, val_y, val_transforms)\n",
        "val_loader = DataLoader(val_ds, batch_size=batch_size, num_workers=num_workers)\n",
        "\n",
        "test_ds = MedNISTDataset(test_x, test_y, val_transforms)\n",
        "test_loader = DataLoader(test_ds, batch_size=batch_size, num_workers=num_workers)"
      ],
      "metadata": {
        "id": "EE4ettalgZKn"
      },
      "execution_count": 70,
      "outputs": []
    },
    {
      "cell_type": "markdown",
      "source": [
        "## Training"
      ],
      "metadata": {
        "id": "NNM6u1WtgrMA"
      }
    },
    {
      "cell_type": "markdown",
      "source": [
        "### Training parameters"
      ],
      "metadata": {
        "id": "2b1kQYvbg5s8"
      }
    },
    {
      "cell_type": "code",
      "source": [
        "learning_rate: float = 1e-5\n",
        "device = torch.device(\"cuda:0\" if torch.cuda.is_available() else \"cpu\")\n",
        "\n",
        "net = DenseNet121(spatial_dims=2, in_channels=1, out_channels=num_class).to(device)\n",
        "loss_function = torch.nn.CrossEntropyLoss()\n",
        "optimizer = torch.optim.Adam(net.parameters(), learning_rate)"
      ],
      "metadata": {
        "id": "N5UfPYvR8ZVu"
      },
      "execution_count": 71,
      "outputs": []
    },
    {
      "cell_type": "code",
      "source": [
        "epoch_num: int = 4\n",
        "best_metric: float = -1\n",
        "best_metric_epoch: float = -1\n",
        "auc_metric = ROCAUCMetric()\n",
        "\n",
        "# Save some stats.\n",
        "epoch_loss_values = list()\n",
        "metric_values = list()"
      ],
      "metadata": {
        "id": "uBuYwVyRhCJm"
      },
      "execution_count": 72,
      "outputs": []
    },
    {
      "cell_type": "markdown",
      "source": [
        "### Network training"
      ],
      "metadata": {
        "id": "jRYNssZeg73y"
      }
    },
    {
      "cell_type": "code",
      "source": [
        "for epoch in range(epoch_num):\n",
        "    print(\"-\" * 10)\n",
        "    print(f\"epoch {epoch + 1}/{epoch_num}\")\n",
        "\n",
        "    epoch_loss: float = 0\n",
        "    step: int = 1\n",
        "\n",
        "    steps_per_epoch: int = len(train_ds) // train_loader.batch_size\n",
        "\n",
        "    # Put the network in train mode. This tells the network and its modules to\n",
        "    # enable training elements such as normalisation and dropout, where applicable.\n",
        "    net.train()\n",
        "    for batch_data in train_loader:\n",
        "        # Move the data to the GPU\n",
        "        inputs, labels = batch_data[0].to(device), batch_data[1].to(device)\n",
        "\n",
        "        # Prepare the gradients for this step's back propagation.\n",
        "        optimizer.zero_grad()\n",
        "\n",
        "        # Run the network forwards.\n",
        "        outputs = net(inputs)\n",
        "\n",
        "        # Run the loss function on the outputs.\n",
        "        loss = loss_function(outputs, labels)\n",
        "\n",
        "        # Compute the gradients.\n",
        "        loss.backward()\n",
        "\n",
        "        # Tell the optimizer to update the weights according to the gradients\n",
        "        # and its internal optimisation strategy.\n",
        "        optimizer.step()\n",
        "\n",
        "        # Save and print the loss for this item.\n",
        "        epoch_loss += loss.item()\n",
        "        print(f\"{step}/{len(train_ds) // train_loader.batch_size + 1}, training_loss: {loss.item():.4f}\")\n",
        "        step += 1\n",
        "\n",
        "    # Save and print the average loss in this batch.\n",
        "    epoch_loss /= step\n",
        "    epoch_loss_values.append(epoch_loss)\n",
        "    print(f\"epoch {epoch + 1} average loss: {epoch_loss:.4f}\")\n",
        "\n",
        "    # Evaluation:\n",
        "    # After each epoch, run the metrics to evaluate it, and, if they are an improvement,\n",
        "    # save the model out.\n",
        "\n",
        "    # Switch off training features of the network for the evaluation pass.\n",
        "    net.eval()\n",
        "\n",
        "    # 'with torch.no_grad()' switches off gradient calculation for the scope of its context.\n",
        "    with torch.no_grad():\n",
        "        # Create lists in which we will save the validation results.\n",
        "        preds = list()\n",
        "        labels = list()\n",
        "\n",
        "        # Iterate over each batch of images and run them through the network in evaluation mode.\n",
        "        for val_data in val_loader:\n",
        "            val_images, val_labels = val_data[0].to(device), val_data[1].to(device)\n",
        "\n",
        "            # Run the network.\n",
        "            val_pred = net(val_images)\n",
        "\n",
        "            preds.append(val_pred)\n",
        "            labels.append(val_labels)\n",
        "\n",
        "        # Concatenate the predicted labels with each other and the actual labels with each other.\n",
        "        y_pred = torch.cat(preds)\n",
        "        y = torch.cat(labels)\n",
        "\n",
        "        # Lets use the area under the receiver operating characteristic (ROC) curve to determine\n",
        "        # whether this epoch has improved the best performance of the network so far.\n",
        "        # If this is the case, we save the network in this state.\n",
        "        y_onehot = [to_onehot(i) for i in decollate_batch(y, detach=False)]\n",
        "        y_pred_act = [act(i) for i in decollate_batch(y_pred)]\n",
        "\n",
        "        auc_metric(y_pred_act, y_onehot)\n",
        "        auc_value = auc_metric.aggregate()\n",
        "        auc_metric.reset()\n",
        "        metric_values.append(auc_value)\n",
        "\n",
        "        acc_value = torch.eq(y_pred.argmax(dim=1), y)\n",
        "        acc_metric = acc_value.sum().item() / len(acc_value)\n",
        "\n",
        "        if auc_value > best_metric:\n",
        "            best_metric = auc_value\n",
        "            best_metric_epoch = epoch + 1\n",
        "            torch.save(net.state_dict(), os.path.join(root_dir, \"best_metric_model.pth\"))\n",
        "            print(\"Saved new best metric network!\")\n",
        "\n",
        "        print(\n",
        "            f\"Current epoch: {epoch + 1} / Current AUC: {auc_value:.4f} /\"\n",
        "            f\"Current accuracy: {acc_metric:.4f} / Best AUC: {best_metric:.4f} /\"\n",
        "            f\" at epoch: {best_metric_epoch}\"\n",
        "        )\n",
        "\n",
        "print(f\"Training completed:\\n\\tBest_metric: {best_metric:.4f} at epoch: {best_metric_epoch}.\")"
      ],
      "metadata": {
        "id": "AOsEtZfDNdEh",
        "colab": {
          "base_uri": "https://localhost:8080/"
        },
        "outputId": "690c732f-6d4a-4aa1-d6bb-1f2b95c5360f"
      },
      "execution_count": 73,
      "outputs": [
        {
          "output_type": "stream",
          "name": "stdout",
          "text": [
            "----------\n",
            "epoch 1/4\n",
            "1/93, training_loss: 1.7486\n",
            "2/93, training_loss: 1.7282\n",
            "3/93, training_loss: 1.6930\n",
            "4/93, training_loss: 1.6742\n",
            "5/93, training_loss: 1.6501\n",
            "6/93, training_loss: 1.6196\n",
            "7/93, training_loss: 1.5926\n",
            "8/93, training_loss: 1.5710\n",
            "9/93, training_loss: 1.5438\n",
            "10/93, training_loss: 1.5226\n",
            "11/93, training_loss: 1.4990\n",
            "12/93, training_loss: 1.4730\n",
            "13/93, training_loss: 1.4462\n",
            "14/93, training_loss: 1.4388\n",
            "15/93, training_loss: 1.4058\n",
            "16/93, training_loss: 1.3940\n",
            "17/93, training_loss: 1.3593\n",
            "18/93, training_loss: 1.3580\n",
            "19/93, training_loss: 1.3460\n",
            "20/93, training_loss: 1.3165\n",
            "21/93, training_loss: 1.3044\n",
            "22/93, training_loss: 1.3042\n",
            "23/93, training_loss: 1.2738\n",
            "24/93, training_loss: 1.2301\n",
            "25/93, training_loss: 1.2255\n",
            "26/93, training_loss: 1.2551\n",
            "27/93, training_loss: 1.1950\n",
            "28/93, training_loss: 1.1684\n",
            "29/93, training_loss: 1.1521\n",
            "30/93, training_loss: 1.1579\n",
            "31/93, training_loss: 1.1074\n",
            "32/93, training_loss: 1.1366\n",
            "33/93, training_loss: 1.1061\n",
            "34/93, training_loss: 1.0836\n",
            "35/93, training_loss: 1.1033\n",
            "36/93, training_loss: 1.0346\n",
            "37/93, training_loss: 1.0471\n",
            "38/93, training_loss: 1.0211\n",
            "39/93, training_loss: 1.0267\n",
            "40/93, training_loss: 1.0254\n",
            "41/93, training_loss: 0.9858\n",
            "42/93, training_loss: 0.9734\n",
            "43/93, training_loss: 0.9654\n",
            "44/93, training_loss: 0.9532\n",
            "45/93, training_loss: 0.9265\n",
            "46/93, training_loss: 0.9150\n",
            "47/93, training_loss: 0.9535\n",
            "48/93, training_loss: 0.9194\n",
            "49/93, training_loss: 0.8893\n",
            "50/93, training_loss: 0.9011\n",
            "51/93, training_loss: 0.8832\n",
            "52/93, training_loss: 0.8699\n",
            "53/93, training_loss: 0.8311\n",
            "54/93, training_loss: 0.8588\n",
            "55/93, training_loss: 0.8478\n",
            "56/93, training_loss: 0.8122\n",
            "57/93, training_loss: 0.8018\n",
            "58/93, training_loss: 0.8041\n",
            "59/93, training_loss: 0.8102\n",
            "60/93, training_loss: 0.7795\n",
            "61/93, training_loss: 0.7627\n",
            "62/93, training_loss: 0.7447\n",
            "63/93, training_loss: 0.7722\n",
            "64/93, training_loss: 0.7506\n",
            "65/93, training_loss: 0.7833\n",
            "66/93, training_loss: 0.7416\n",
            "67/93, training_loss: 0.7060\n",
            "68/93, training_loss: 0.6890\n",
            "69/93, training_loss: 0.6882\n",
            "70/93, training_loss: 0.6974\n",
            "71/93, training_loss: 0.7020\n",
            "72/93, training_loss: 0.6416\n",
            "73/93, training_loss: 0.6670\n",
            "74/93, training_loss: 0.6676\n",
            "75/93, training_loss: 0.6591\n",
            "76/93, training_loss: 0.6351\n",
            "77/93, training_loss: 0.6553\n",
            "78/93, training_loss: 0.6206\n",
            "79/93, training_loss: 0.6085\n",
            "80/93, training_loss: 0.6318\n",
            "81/93, training_loss: 0.5964\n",
            "82/93, training_loss: 0.6146\n",
            "83/93, training_loss: 0.6145\n",
            "84/93, training_loss: 0.5860\n",
            "85/93, training_loss: 0.5982\n",
            "86/93, training_loss: 0.5805\n",
            "87/93, training_loss: 0.5872\n",
            "88/93, training_loss: 0.5827\n",
            "89/93, training_loss: 0.5703\n",
            "90/93, training_loss: 0.5338\n",
            "91/93, training_loss: 0.5381\n",
            "92/93, training_loss: 0.5726\n",
            "93/93, training_loss: 0.4703\n",
            "epoch 1 average loss: 0.9818\n",
            "Saved new best metric network!\n",
            "Current epoch: 1 / Current AUC: 0.9912 /Current accuracy: 0.9113 / Best AUC: 0.9912 / at epoch: 1\n",
            "----------\n",
            "epoch 2/4\n",
            "1/93, training_loss: 0.5667\n",
            "2/93, training_loss: 0.5235\n",
            "3/93, training_loss: 0.5195\n",
            "4/93, training_loss: 0.5297\n",
            "5/93, training_loss: 0.5139\n",
            "6/93, training_loss: 0.5081\n",
            "7/93, training_loss: 0.4881\n",
            "8/93, training_loss: 0.4885\n",
            "9/93, training_loss: 0.5289\n",
            "10/93, training_loss: 0.4617\n",
            "11/93, training_loss: 0.4964\n",
            "12/93, training_loss: 0.4942\n",
            "13/93, training_loss: 0.4635\n",
            "14/93, training_loss: 0.4959\n",
            "15/93, training_loss: 0.4605\n",
            "16/93, training_loss: 0.4455\n",
            "17/93, training_loss: 0.4445\n",
            "18/93, training_loss: 0.4628\n",
            "19/93, training_loss: 0.4456\n",
            "20/93, training_loss: 0.4298\n",
            "21/93, training_loss: 0.4526\n",
            "22/93, training_loss: 0.4320\n",
            "23/93, training_loss: 0.4494\n",
            "24/93, training_loss: 0.4162\n",
            "25/93, training_loss: 0.4464\n",
            "26/93, training_loss: 0.4433\n",
            "27/93, training_loss: 0.3912\n",
            "28/93, training_loss: 0.4139\n",
            "29/93, training_loss: 0.3860\n",
            "30/93, training_loss: 0.3719\n",
            "31/93, training_loss: 0.3788\n",
            "32/93, training_loss: 0.3705\n",
            "33/93, training_loss: 0.4159\n",
            "34/93, training_loss: 0.4001\n",
            "35/93, training_loss: 0.3910\n",
            "36/93, training_loss: 0.4193\n",
            "37/93, training_loss: 0.3631\n",
            "38/93, training_loss: 0.3582\n",
            "39/93, training_loss: 0.3827\n",
            "40/93, training_loss: 0.3517\n",
            "41/93, training_loss: 0.3590\n",
            "42/93, training_loss: 0.3585\n",
            "43/93, training_loss: 0.3540\n",
            "44/93, training_loss: 0.3586\n",
            "45/93, training_loss: 0.3485\n",
            "46/93, training_loss: 0.3655\n",
            "47/93, training_loss: 0.3483\n",
            "48/93, training_loss: 0.3589\n",
            "49/93, training_loss: 0.2997\n",
            "50/93, training_loss: 0.3049\n",
            "51/93, training_loss: 0.2903\n",
            "52/93, training_loss: 0.3225\n",
            "53/93, training_loss: 0.3518\n",
            "54/93, training_loss: 0.3221\n",
            "55/93, training_loss: 0.3171\n",
            "56/93, training_loss: 0.3337\n",
            "57/93, training_loss: 0.3061\n",
            "58/93, training_loss: 0.3327\n",
            "59/93, training_loss: 0.3045\n",
            "60/93, training_loss: 0.3088\n",
            "61/93, training_loss: 0.3198\n",
            "62/93, training_loss: 0.3125\n",
            "63/93, training_loss: 0.3078\n",
            "64/93, training_loss: 0.2891\n",
            "65/93, training_loss: 0.2964\n",
            "66/93, training_loss: 0.2821\n",
            "67/93, training_loss: 0.2787\n",
            "68/93, training_loss: 0.2898\n",
            "69/93, training_loss: 0.3112\n",
            "70/93, training_loss: 0.2763\n",
            "71/93, training_loss: 0.3006\n",
            "72/93, training_loss: 0.2791\n",
            "73/93, training_loss: 0.2667\n",
            "74/93, training_loss: 0.2875\n",
            "75/93, training_loss: 0.2728\n",
            "76/93, training_loss: 0.2640\n",
            "77/93, training_loss: 0.2762\n",
            "78/93, training_loss: 0.2890\n",
            "79/93, training_loss: 0.2394\n",
            "80/93, training_loss: 0.2552\n",
            "81/93, training_loss: 0.2616\n",
            "82/93, training_loss: 0.2841\n",
            "83/93, training_loss: 0.2719\n",
            "84/93, training_loss: 0.2540\n",
            "85/93, training_loss: 0.2697\n",
            "86/93, training_loss: 0.2643\n",
            "87/93, training_loss: 0.2390\n",
            "88/93, training_loss: 0.2194\n",
            "89/93, training_loss: 0.2349\n",
            "90/93, training_loss: 0.2388\n",
            "91/93, training_loss: 0.2473\n",
            "92/93, training_loss: 0.2375\n",
            "93/93, training_loss: 0.2627\n",
            "epoch 2 average loss: 0.3556\n",
            "Saved new best metric network!\n",
            "Current epoch: 2 / Current AUC: 0.9973 /Current accuracy: 0.9630 / Best AUC: 0.9973 / at epoch: 2\n",
            "----------\n",
            "epoch 3/4\n",
            "1/93, training_loss: 0.2065\n",
            "2/93, training_loss: 0.2510\n",
            "3/93, training_loss: 0.2339\n",
            "4/93, training_loss: 0.2698\n",
            "5/93, training_loss: 0.2065\n",
            "6/93, training_loss: 0.2622\n",
            "7/93, training_loss: 0.2315\n",
            "8/93, training_loss: 0.2379\n",
            "9/93, training_loss: 0.2551\n",
            "10/93, training_loss: 0.2020\n",
            "11/93, training_loss: 0.2221\n",
            "12/93, training_loss: 0.2402\n",
            "13/93, training_loss: 0.2227\n",
            "14/93, training_loss: 0.2335\n",
            "15/93, training_loss: 0.2119\n",
            "16/93, training_loss: 0.2166\n",
            "17/93, training_loss: 0.2112\n",
            "18/93, training_loss: 0.2071\n",
            "19/93, training_loss: 0.2150\n",
            "20/93, training_loss: 0.1944\n",
            "21/93, training_loss: 0.2068\n",
            "22/93, training_loss: 0.2109\n",
            "23/93, training_loss: 0.1906\n",
            "24/93, training_loss: 0.1839\n",
            "25/93, training_loss: 0.2152\n",
            "26/93, training_loss: 0.1899\n",
            "27/93, training_loss: 0.1893\n",
            "28/93, training_loss: 0.2249\n",
            "29/93, training_loss: 0.1978\n",
            "30/93, training_loss: 0.1666\n",
            "31/93, training_loss: 0.1665\n",
            "32/93, training_loss: 0.1699\n",
            "33/93, training_loss: 0.1653\n",
            "34/93, training_loss: 0.1779\n",
            "35/93, training_loss: 0.1652\n",
            "36/93, training_loss: 0.1648\n",
            "37/93, training_loss: 0.1590\n",
            "38/93, training_loss: 0.1538\n",
            "39/93, training_loss: 0.1833\n",
            "40/93, training_loss: 0.2067\n",
            "41/93, training_loss: 0.1644\n",
            "42/93, training_loss: 0.1884\n",
            "43/93, training_loss: 0.1561\n",
            "44/93, training_loss: 0.1705\n",
            "45/93, training_loss: 0.1788\n",
            "46/93, training_loss: 0.1685\n",
            "47/93, training_loss: 0.1819\n",
            "48/93, training_loss: 0.1794\n",
            "49/93, training_loss: 0.1773\n",
            "50/93, training_loss: 0.1696\n",
            "51/93, training_loss: 0.1852\n",
            "52/93, training_loss: 0.1797\n",
            "53/93, training_loss: 0.1727\n",
            "54/93, training_loss: 0.1605\n",
            "55/93, training_loss: 0.1649\n",
            "56/93, training_loss: 0.1541\n",
            "57/93, training_loss: 0.1476\n",
            "58/93, training_loss: 0.1498\n",
            "59/93, training_loss: 0.1350\n",
            "60/93, training_loss: 0.1487\n",
            "61/93, training_loss: 0.1483\n",
            "62/93, training_loss: 0.1551\n",
            "63/93, training_loss: 0.1443\n",
            "64/93, training_loss: 0.1594\n",
            "65/93, training_loss: 0.1596\n",
            "66/93, training_loss: 0.1747\n",
            "67/93, training_loss: 0.1528\n",
            "68/93, training_loss: 0.1563\n",
            "69/93, training_loss: 0.1612\n",
            "70/93, training_loss: 0.1373\n",
            "71/93, training_loss: 0.1715\n",
            "72/93, training_loss: 0.1585\n",
            "73/93, training_loss: 0.1419\n",
            "74/93, training_loss: 0.1430\n",
            "75/93, training_loss: 0.1428\n",
            "76/93, training_loss: 0.1685\n",
            "77/93, training_loss: 0.1277\n",
            "78/93, training_loss: 0.1474\n",
            "79/93, training_loss: 0.1394\n",
            "80/93, training_loss: 0.1442\n",
            "81/93, training_loss: 0.1169\n",
            "82/93, training_loss: 0.1598\n",
            "83/93, training_loss: 0.1206\n",
            "84/93, training_loss: 0.1236\n",
            "85/93, training_loss: 0.1366\n",
            "86/93, training_loss: 0.1375\n",
            "87/93, training_loss: 0.1408\n",
            "88/93, training_loss: 0.1291\n",
            "89/93, training_loss: 0.1479\n",
            "90/93, training_loss: 0.1379\n",
            "91/93, training_loss: 0.1405\n",
            "92/93, training_loss: 0.1150\n",
            "93/93, training_loss: 0.2228\n",
            "epoch 3 average loss: 0.1746\n",
            "Saved new best metric network!\n",
            "Current epoch: 3 / Current AUC: 0.9990 /Current accuracy: 0.9761 / Best AUC: 0.9990 / at epoch: 3\n",
            "----------\n",
            "epoch 4/4\n",
            "1/93, training_loss: 0.1409\n",
            "2/93, training_loss: 0.1262\n",
            "3/93, training_loss: 0.1415\n",
            "4/93, training_loss: 0.1697\n",
            "5/93, training_loss: 0.1294\n",
            "6/93, training_loss: 0.1453\n",
            "7/93, training_loss: 0.1149\n",
            "8/93, training_loss: 0.1339\n",
            "9/93, training_loss: 0.1297\n",
            "10/93, training_loss: 0.1153\n",
            "11/93, training_loss: 0.1333\n",
            "12/93, training_loss: 0.1025\n",
            "13/93, training_loss: 0.1363\n",
            "14/93, training_loss: 0.1279\n",
            "15/93, training_loss: 0.1304\n",
            "16/93, training_loss: 0.1156\n",
            "17/93, training_loss: 0.1293\n",
            "18/93, training_loss: 0.1108\n",
            "19/93, training_loss: 0.1160\n",
            "20/93, training_loss: 0.1189\n",
            "21/93, training_loss: 0.1319\n",
            "22/93, training_loss: 0.1095\n",
            "23/93, training_loss: 0.1257\n",
            "24/93, training_loss: 0.1423\n",
            "25/93, training_loss: 0.0840\n",
            "26/93, training_loss: 0.1111\n",
            "27/93, training_loss: 0.1199\n",
            "28/93, training_loss: 0.1227\n",
            "29/93, training_loss: 0.0930\n",
            "30/93, training_loss: 0.1161\n",
            "31/93, training_loss: 0.1159\n",
            "32/93, training_loss: 0.1137\n",
            "33/93, training_loss: 0.0944\n",
            "34/93, training_loss: 0.1181\n",
            "35/93, training_loss: 0.1302\n",
            "36/93, training_loss: 0.1238\n",
            "37/93, training_loss: 0.1039\n",
            "38/93, training_loss: 0.1236\n",
            "39/93, training_loss: 0.1148\n",
            "40/93, training_loss: 0.1087\n",
            "41/93, training_loss: 0.1320\n",
            "42/93, training_loss: 0.0988\n",
            "43/93, training_loss: 0.0909\n",
            "44/93, training_loss: 0.1152\n",
            "45/93, training_loss: 0.0919\n",
            "46/93, training_loss: 0.1175\n",
            "47/93, training_loss: 0.1041\n",
            "48/93, training_loss: 0.1056\n",
            "49/93, training_loss: 0.0962\n",
            "50/93, training_loss: 0.1054\n",
            "51/93, training_loss: 0.1010\n",
            "52/93, training_loss: 0.0943\n",
            "53/93, training_loss: 0.1084\n",
            "54/93, training_loss: 0.0978\n",
            "55/93, training_loss: 0.0923\n",
            "56/93, training_loss: 0.1087\n",
            "57/93, training_loss: 0.1023\n",
            "58/93, training_loss: 0.0922\n",
            "59/93, training_loss: 0.1111\n",
            "60/93, training_loss: 0.0923\n",
            "61/93, training_loss: 0.1091\n",
            "62/93, training_loss: 0.0882\n",
            "63/93, training_loss: 0.1022\n",
            "64/93, training_loss: 0.0959\n",
            "65/93, training_loss: 0.1011\n",
            "66/93, training_loss: 0.0900\n",
            "67/93, training_loss: 0.0763\n",
            "68/93, training_loss: 0.0928\n",
            "69/93, training_loss: 0.0858\n",
            "70/93, training_loss: 0.0868\n",
            "71/93, training_loss: 0.1156\n",
            "72/93, training_loss: 0.0927\n",
            "73/93, training_loss: 0.0876\n",
            "74/93, training_loss: 0.1001\n",
            "75/93, training_loss: 0.0936\n",
            "76/93, training_loss: 0.0858\n",
            "77/93, training_loss: 0.0984\n",
            "78/93, training_loss: 0.0932\n",
            "79/93, training_loss: 0.0834\n",
            "80/93, training_loss: 0.1003\n",
            "81/93, training_loss: 0.0963\n",
            "82/93, training_loss: 0.0920\n",
            "83/93, training_loss: 0.0804\n",
            "84/93, training_loss: 0.1002\n",
            "85/93, training_loss: 0.0868\n",
            "86/93, training_loss: 0.0939\n",
            "87/93, training_loss: 0.0994\n",
            "88/93, training_loss: 0.0891\n",
            "89/93, training_loss: 0.0967\n",
            "90/93, training_loss: 0.0835\n",
            "91/93, training_loss: 0.0923\n",
            "92/93, training_loss: 0.0918\n",
            "93/93, training_loss: 0.0785\n",
            "epoch 4 average loss: 0.1063\n",
            "Saved new best metric network!\n",
            "Current epoch: 4 / Current AUC: 0.9994 /Current accuracy: 0.9854 / Best AUC: 0.9994 / at epoch: 4\n",
            "Training completed:\n",
            "\tBest_metric: 0.9994 at epoch: 4.\n"
          ]
        }
      ]
    },
    {
      "cell_type": "markdown",
      "source": [
        "# Evaluation"
      ],
      "metadata": {
        "id": "qezFpFzsvGxg"
      }
    },
    {
      "cell_type": "markdown",
      "source": [
        "### Plotting average loss and validation AUC"
      ],
      "metadata": {
        "id": "wB_mQK-Ivers"
      }
    },
    {
      "cell_type": "code",
      "source": [
        "# Since the metrics where saved to lists, we can simply plot them.\n",
        "plt.figure(\"train\", (12, 6))\n",
        "plt.subplot(1, 2, 1)\n",
        "# Plot the loss.\n",
        "plt.title(\"Epoch Average Loss\")\n",
        "x = [i + 1 for i in range(len(epoch_loss_values))]\n",
        "y = epoch_loss_values\n",
        "plt.xlabel(\"epoch\")\n",
        "plt.plot(x, y)\n",
        "plt.subplot(1, 2, 2)\n",
        "# Plot the validation AUC.\n",
        "plt.title(\"Val AUC\")\n",
        "x = [(i + 1) for i in range(len(metric_values))]\n",
        "y = metric_values\n",
        "plt.xlabel(\"epoch\")\n",
        "plt.plot(x, y)\n",
        "plt.show()"
      ],
      "metadata": {
        "colab": {
          "base_uri": "https://localhost:8080/",
          "height": 564
        },
        "id": "eQh1_bv9iunC",
        "outputId": "3b8e3c78-49d2-4fcd-cad2-f208a7ca15f7"
      },
      "execution_count": 74,
      "outputs": [
        {
          "output_type": "display_data",
          "data": {
            "text/plain": [
              "<Figure size 1200x600 with 2 Axes>"
            ],
            "image/png": "[encoded data removed]"
          },
          "metadata": {}
        }
      ]
    },
    {
      "cell_type": "markdown",
      "source": [
        "### Loading data from a checkpoint file and evaluating it"
      ],
      "metadata": {
        "id": "kyHKovRrvie7"
      }
    },
    {
      "cell_type": "code",
      "source": [],
      "metadata": {
        "id": "t0caQrKgvZMc"
      },
      "execution_count": null,
      "outputs": []
    }
  ]
}