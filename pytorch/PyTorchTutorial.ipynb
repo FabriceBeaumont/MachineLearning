{
  "cells": [
    {
      "cell_type": "markdown",
      "id": "a682a294-b26e-4e4d-b74b-4d9db1318307",
      "metadata": {
        "id": "a682a294-b26e-4e4d-b74b-4d9db1318307"
      },
      "source": [
        "# Deep Learning With PyTorch\n",
        "\n",
        "Using:\n",
        "* [Deep Learning With PyTorch - Full Course by Patrick Loeber](https://www.youtube.com/watch?v=c36lUUr864M&t=5s)"
      ]
    },
    {
      "cell_type": "markdown",
      "id": "ff2c5d3f-dd0e-4e88-a1f2-4ff27683c634",
      "metadata": {
        "jp-MarkdownHeadingCollapsed": true,
        "tags": [],
        "id": "ff2c5d3f-dd0e-4e88-a1f2-4ff27683c634"
      },
      "source": [
        "### Imports"
      ]
    },
    {
      "cell_type": "code",
      "execution_count": 1,
      "id": "339da0b6-4e5a-47dc-bbc1-26286c4be028",
      "metadata": {
        "id": "339da0b6-4e5a-47dc-bbc1-26286c4be028"
      },
      "outputs": [],
      "source": [
        "import torch\n",
        "import torch.nn as nn\n",
        "import numpy as np"
      ]
    },
    {
      "cell_type": "code",
      "execution_count": 2,
      "id": "ba0ea3d0-22a2-4fe5-96b6-aceb7abd2bbd",
      "metadata": {
        "id": "ba0ea3d0-22a2-4fe5-96b6-aceb7abd2bbd"
      },
      "outputs": [],
      "source": [
        "import timeit"
      ]
    },
    {
      "cell_type": "code",
      "source": [
        "%pip install torchviz"
      ],
      "metadata": {
        "id": "ojxSy-IU9vfV",
        "outputId": "62e99e3c-f691-4145-8854-82cbf2706ba7",
        "colab": {
          "base_uri": "https://localhost:8080/"
        }
      },
      "id": "ojxSy-IU9vfV",
      "execution_count": 3,
      "outputs": [
        {
          "output_type": "stream",
          "name": "stdout",
          "text": [
            "Collecting torchviz\n",
            "  Downloading torchviz-0.0.2.tar.gz (4.9 kB)\n",
            "  Preparing metadata (setup.py) ... \u001b[?25l\u001b[?25hdone\n",
            "Requirement already satisfied: torch in /usr/local/lib/python3.10/dist-packages (from torchviz) (2.1.0+cu121)\n",
            "Requirement already satisfied: graphviz in /usr/local/lib/python3.10/dist-packages (from torchviz) (0.20.1)\n",
            "Requirement already satisfied: filelock in /usr/local/lib/python3.10/dist-packages (from torch->torchviz) (3.13.1)\n",
            "Requirement already satisfied: typing-extensions in /usr/local/lib/python3.10/dist-packages (from torch->torchviz) (4.5.0)\n",
            "Requirement already satisfied: sympy in /usr/local/lib/python3.10/dist-packages (from torch->torchviz) (1.12)\n",
            "Requirement already satisfied: networkx in /usr/local/lib/python3.10/dist-packages (from torch->torchviz) (3.2.1)\n",
            "Requirement already satisfied: jinja2 in /usr/local/lib/python3.10/dist-packages (from torch->torchviz) (3.1.2)\n",
            "Requirement already satisfied: fsspec in /usr/local/lib/python3.10/dist-packages (from torch->torchviz) (2023.6.0)\n",
            "Requirement already satisfied: triton==2.1.0 in /usr/local/lib/python3.10/dist-packages (from torch->torchviz) (2.1.0)\n",
            "Requirement already satisfied: MarkupSafe>=2.0 in /usr/local/lib/python3.10/dist-packages (from jinja2->torch->torchviz) (2.1.3)\n",
            "Requirement already satisfied: mpmath>=0.19 in /usr/local/lib/python3.10/dist-packages (from sympy->torch->torchviz) (1.3.0)\n",
            "Building wheels for collected packages: torchviz\n",
            "  Building wheel for torchviz (setup.py) ... \u001b[?25l\u001b[?25hdone\n",
            "  Created wheel for torchviz: filename=torchviz-0.0.2-py3-none-any.whl size=4131 sha256=0322fd83e1ba745b22ef7f20da699a7cc2ad8dc1e166cb4ff1d81ee783f4fd93\n",
            "  Stored in directory: /root/.cache/pip/wheels/4c/97/88/a02973217949e0db0c9f4346d154085f4725f99c4f15a87094\n",
            "Successfully built torchviz\n",
            "Installing collected packages: torchviz\n",
            "Successfully installed torchviz-0.0.2\n"
          ]
        }
      ]
    },
    {
      "cell_type": "code",
      "execution_count": 4,
      "id": "27043aff-340f-444d-88f4-81fefbae3c2d",
      "metadata": {
        "id": "27043aff-340f-444d-88f4-81fefbae3c2d"
      },
      "outputs": [],
      "source": [
        "# For NN Visualization\n",
        "import torch\n",
        "from torchviz import make_dot"
      ]
    },
    {
      "cell_type": "markdown",
      "id": "12fa29c6-9dc7-4196-a378-f80fa0323454",
      "metadata": {
        "tags": [],
        "id": "12fa29c6-9dc7-4196-a378-f80fa0323454"
      },
      "source": [
        "# Chapter"
      ]
    },
    {
      "cell_type": "markdown",
      "id": "1878103b-f4f4-4d75-8425-62bc405932fe",
      "metadata": {
        "tags": [],
        "id": "1878103b-f4f4-4d75-8425-62bc405932fe"
      },
      "source": [
        "## Tensors"
      ]
    },
    {
      "cell_type": "markdown",
      "source": [
        "An empty tensor (1d-tensor) equals a scalar value."
      ],
      "metadata": {
        "id": "EjHrsOMReLAu"
      },
      "id": "EjHrsOMReLAu"
    },
    {
      "cell_type": "markdown",
      "id": "9003bf6d-6e6d-4f9d-ae4c-d212704869fd",
      "metadata": {
        "jp-MarkdownHeadingCollapsed": true,
        "tags": [],
        "id": "9003bf6d-6e6d-4f9d-ae4c-d212704869fd"
      },
      "source": [
        "### Basic tensor operations"
      ]
    },
    {
      "cell_type": "code",
      "execution_count": 14,
      "id": "c8e18ed3-2012-48ca-b42e-354b5d0e438a",
      "metadata": {
        "id": "c8e18ed3-2012-48ca-b42e-354b5d0e438a",
        "outputId": "01c75feb-89a6-49f6-bd9b-53cde156bf9e",
        "colab": {
          "base_uri": "https://localhost:8080/"
        }
      },
      "outputs": [
        {
          "output_type": "stream",
          "name": "stdout",
          "text": [
            "tensor([-3.0238e-18])\n",
            "\n",
            "tensor([-3.0238e-18,  4.3341e-41, -3.0238e-18,  4.3341e-41])\n",
            "\n",
            "tensor([[-1.8110e+17,  3.1608e-41],\n",
            "        [ 7.8268e-03,  0.0000e+00]])\n",
            "\n",
            "tensor([[[1., 1., 1.],\n",
            "         [1., 1., 1.]]], dtype=torch.float16)\n",
            "\n",
            "tensor([[0., 0., 0., 0., 0.],\n",
            "        [0., 0., 0., 0., 0.],\n",
            "        [0., 0., 0., 0., 0.]])\n",
            "\n"
          ]
        }
      ],
      "source": [
        "# Examples of tensors.\n",
        "examples = [\n",
        "    torch.empty(1),\n",
        "    torch.empty(4),\n",
        "    torch.empty(2, 2),\n",
        "    torch.ones(1, 2, 3, dtype=torch.float16),\n",
        "    torch.zeros(3, 5),\n",
        "]\n",
        "for x in examples:\n",
        "    print(x, end=\"\\n\\n\")"
      ]
    },
    {
      "cell_type": "markdown",
      "source": [
        "Whenever possible use the torch functions to operate on tensors, since they provied significant time benefits.\n",
        "\n",
        "Here a demonstration on addition:"
      ],
      "metadata": {
        "id": "jDdVYQGQfAcX"
      },
      "id": "jDdVYQGQfAcX"
    },
    {
      "cell_type": "code",
      "execution_count": 15,
      "id": "5ab12220-b277-410f-b389-b6b6a4695266",
      "metadata": {
        "id": "5ab12220-b277-410f-b389-b6b6a4695266"
      },
      "outputs": [],
      "source": [
        "# Generate random samples of tuples of two 2x2 tensors.\n",
        "samples = [(torch.rand(2,2), torch.rand(2,2)) for _ in range(1000)]"
      ]
    },
    {
      "cell_type": "code",
      "execution_count": 16,
      "id": "471f938e-24ae-49a9-82c9-84cac903b91c",
      "metadata": {
        "id": "471f938e-24ae-49a9-82c9-84cac903b91c",
        "outputId": "97aee007-b533-4e9e-d41c-2e9e357b0626",
        "colab": {
          "base_uri": "https://localhost:8080/"
        }
      },
      "outputs": [
        {
          "output_type": "stream",
          "name": "stdout",
          "text": [
            "2.2 ms ± 338 µs per loop (mean ± std. dev. of 7 runs, 1000 loops each)\n"
          ]
        }
      ],
      "source": [
        "%timeit for x, y in samples: x + y"
      ]
    },
    {
      "cell_type": "code",
      "execution_count": 17,
      "id": "4ee26b2c-0511-4a85-9910-a2c4389bf3bd",
      "metadata": {
        "id": "4ee26b2c-0511-4a85-9910-a2c4389bf3bd",
        "outputId": "0e15ec0a-4c6d-45b1-c565-154227e30b38",
        "colab": {
          "base_uri": "https://localhost:8080/"
        }
      },
      "outputs": [
        {
          "output_type": "stream",
          "name": "stdout",
          "text": [
            "2.19 ms ± 174 µs per loop (mean ± std. dev. of 7 runs, 100 loops each)\n"
          ]
        }
      ],
      "source": [
        "%timeit for x, y in samples: torch.add(x, y)"
      ]
    },
    {
      "cell_type": "markdown",
      "id": "3152c4cc-0662-4b72-a48b-92d9835135a3",
      "metadata": {
        "id": "3152c4cc-0662-4b72-a48b-92d9835135a3"
      },
      "source": [
        "Functions with a tailing underscore can be used to do inplace operations. E.g. `x.add_(y)` as `x += y` equivalent."
      ]
    },
    {
      "cell_type": "code",
      "execution_count": 18,
      "id": "706eb4ee-2a8c-418c-99b7-729b2bd6103c",
      "metadata": {
        "id": "706eb4ee-2a8c-418c-99b7-729b2bd6103c",
        "outputId": "3420502b-e695-4f6a-9c04-35903bbeb499",
        "colab": {
          "base_uri": "https://localhost:8080/"
        }
      },
      "outputs": [
        {
          "output_type": "stream",
          "name": "stdout",
          "text": [
            "1.27 ms ± 308 µs per loop (mean ± std. dev. of 7 runs, 1000 loops each)\n"
          ]
        }
      ],
      "source": [
        "%timeit for x, y in samples: x.add_(y)"
      ]
    },
    {
      "cell_type": "markdown",
      "id": "289321bc-4335-4db0-9e64-01c8eb3e7a40",
      "metadata": {
        "id": "289321bc-4335-4db0-9e64-01c8eb3e7a40"
      },
      "source": [
        "Overview of basic tensor functions:\n",
        "- `torch.rand()`\n",
        "- `torch.add()`\n",
        "- `torch.sub()`\n",
        "- `torch.mul()`"
      ]
    },
    {
      "cell_type": "markdown",
      "id": "15a4b16c-dc3e-4768-a463-5aeef4b86975",
      "metadata": {
        "jp-MarkdownHeadingCollapsed": true,
        "tags": [],
        "id": "15a4b16c-dc3e-4768-a463-5aeef4b86975"
      },
      "source": [
        "### Resizing tensors"
      ]
    },
    {
      "cell_type": "code",
      "execution_count": 20,
      "id": "76f45f0d-48d2-45a3-b20b-1b3826368bd6",
      "metadata": {
        "id": "76f45f0d-48d2-45a3-b20b-1b3826368bd6",
        "outputId": "764aff15-d033-439e-bd3c-a7d8c3246eaa",
        "colab": {
          "base_uri": "https://localhost:8080/"
        }
      },
      "outputs": [
        {
          "output_type": "stream",
          "name": "stdout",
          "text": [
            "tensor([[0.5909, 0.5356, 0.0767, 0.4340],\n",
            "        [0.0711, 0.6423, 0.0419, 0.9317],\n",
            "        [0.9207, 0.4962, 0.1566, 0.3799],\n",
            "        [0.8482, 0.6867, 0.8395, 0.6020]])\n"
          ]
        }
      ],
      "source": [
        "x = torch.rand(4,4)\n",
        "print(x)"
      ]
    },
    {
      "cell_type": "code",
      "execution_count": 22,
      "id": "3932eb66-030a-4851-a463-f8073631cdd5",
      "metadata": {
        "id": "3932eb66-030a-4851-a463-f8073631cdd5",
        "outputId": "5602d8e7-f91a-4ce0-d5bd-21db5b67725e",
        "colab": {
          "base_uri": "https://localhost:8080/"
        }
      },
      "outputs": [
        {
          "output_type": "stream",
          "name": "stdout",
          "text": [
            "tensor([0.5909, 0.5356, 0.0767, 0.4340, 0.0711, 0.6423, 0.0419, 0.9317, 0.9207,\n",
            "        0.4962, 0.1566, 0.3799, 0.8482, 0.6867, 0.8395, 0.6020])\n",
            "\n",
            "tensor([0.5909, 0.5356, 0.0767, 0.4340, 0.0711, 0.6423, 0.0419, 0.9317, 0.9207,\n",
            "        0.4962, 0.1566, 0.3799, 0.8482, 0.6867, 0.8395, 0.6020])\n"
          ]
        }
      ],
      "source": [
        "# Concatenate all rows to one 1D-tensor.\n",
        "y0 = x.view(16)\n",
        "print(y0, end=\"\\n\\n\")\n",
        "# This is the same as using `flatten()`.\n",
        "y1 = x.flatten()\n",
        "print(y1)"
      ]
    },
    {
      "cell_type": "code",
      "execution_count": 18,
      "id": "8bdcafe5-c96d-4f5f-b610-d3f2234f8835",
      "metadata": {
        "id": "8bdcafe5-c96d-4f5f-b610-d3f2234f8835",
        "outputId": "ea34572d-3208-4931-e4bd-451bb43c067f",
        "colab": {
          "base_uri": "https://localhost:8080/"
        }
      },
      "outputs": [
        {
          "output_type": "stream",
          "name": "stdout",
          "text": [
            "tensor([[0.0173, 0.5829, 0.3781, 0.1291, 0.9226, 0.2438, 0.1266, 0.0506],\n",
            "        [0.1893, 0.3049, 0.2081, 0.1130, 0.0461, 0.3080, 0.5791, 0.3032]])\n",
            "torch.Size([2, 8])\n"
          ]
        }
      ],
      "source": [
        "# One can use the dummy value '-1' to let pytorch determine the second dimension.\n",
        "y = x.view(-1, 8)\n",
        "print(y)\n",
        "print(y.size())"
      ]
    },
    {
      "cell_type": "markdown",
      "id": "c9de51b8-b0e0-43e1-8659-d3ac0108a185",
      "metadata": {
        "jp-MarkdownHeadingCollapsed": true,
        "tags": [],
        "id": "c9de51b8-b0e0-43e1-8659-d3ac0108a185"
      },
      "source": [
        "### Tensor conversions"
      ]
    },
    {
      "cell_type": "markdown",
      "id": "8f8ed506-3365-438c-9f3c-bc268f1c9019",
      "metadata": {
        "id": "8f8ed506-3365-438c-9f3c-bc268f1c9019"
      },
      "source": [
        "Note that if the tenor is stored on the CPU, this will be a shallow copy (a reference and not a true copy)."
      ]
    },
    {
      "cell_type": "code",
      "execution_count": 35,
      "id": "0191932f-e8d3-476f-b433-f57859c147ac",
      "metadata": {
        "id": "0191932f-e8d3-476f-b433-f57859c147ac",
        "outputId": "3be0ae15-4172-467e-c03d-179c18c26da9",
        "colab": {
          "base_uri": "https://localhost:8080/"
        }
      },
      "outputs": [
        {
          "output_type": "stream",
          "name": "stdout",
          "text": [
            "a = tensor([1., 1., 1., 1., 1.])\t<class 'torch.Tensor'>\n",
            "b = array([1., 1., 1., 1., 1.], dtype=float32)\t\t<class 'numpy.ndarray'>\n",
            "c = tensor([1., 1., 1., 1., 1.])\t<class 'torch.Tensor'>\n",
            "\n",
            "a = tensor([2., 2., 2., 2., 2.])\n",
            "b = array([2., 2., 2., 2., 2.], dtype=float32)\n",
            "c = tensor([2., 2., 2., 2., 2.])\n"
          ]
        }
      ],
      "source": [
        "# Instantiate a tensor on the cpu (default place).\n",
        "a = torch.ones(5)\n",
        "print(f\"{a = }\\t{type(a)}\")\n",
        "\n",
        "# Create a copy of a torch tensor by calling the numpy() function.\n",
        "b = a.numpy()\n",
        "print(f\"{b = }\\t\\t{type(b)}\")\n",
        "# Create a copy of the numpy array from_numpy() function.\n",
        "c = torch.from_numpy(b)\n",
        "print(f\"{c = }\\t{type(c)}\")\n",
        "\n",
        "print()\n",
        "\n",
        "# Changing the values in one variable, changes all since these are only a references.\n",
        "a.add_(1)\n",
        "print(f\"{a = }\")\n",
        "print(f\"{b = }\")\n",
        "print(f\"{c = }\")"
      ]
    },
    {
      "cell_type": "markdown",
      "id": "223e51c1-a3fd-463c-b276-aafcb6262915",
      "metadata": {
        "jp-MarkdownHeadingCollapsed": true,
        "tags": [],
        "id": "223e51c1-a3fd-463c-b276-aafcb6262915"
      },
      "source": [
        "### Using a GPU"
      ]
    },
    {
      "cell_type": "code",
      "execution_count": 29,
      "id": "2aa68cda-cad9-4f4c-8043-9ae2f15ce8c3",
      "metadata": {
        "id": "2aa68cda-cad9-4f4c-8043-9ae2f15ce8c3",
        "outputId": "6f67053f-810f-4f88-dc89-cba3ee10b361",
        "colab": {
          "base_uri": "https://localhost:8080/"
        }
      },
      "outputs": [
        {
          "output_type": "execute_result",
          "data": {
            "text/plain": [
              "device(type='cuda')"
            ]
          },
          "metadata": {},
          "execution_count": 29
        }
      ],
      "source": [
        "assert torch.cuda.is_available()\n",
        "\n",
        "# Initialize the GPU as cuda device.\n",
        "device = torch.device(\"cuda\")\n",
        "device"
      ]
    },
    {
      "cell_type": "markdown",
      "source": [
        "When storing a tensor on the GPU, copies of it will be deep copies (an independent instance, a true copy)."
      ],
      "metadata": {
        "id": "JrafGVkdikyi"
      },
      "id": "JrafGVkdikyi"
    },
    {
      "cell_type": "code",
      "source": [
        "# Instantiate a variable on the CPU and move it to be stored on the GPU.\n",
        "a = torch.ones(5).to(device)\n",
        "b = a.cpu().numpy()\n",
        "print(f\"{a = }\")\n",
        "print(f\"{b = }\")\n",
        "\n",
        "print()\n",
        "\n",
        "a.add_(torch.ones(5, device=device))\n",
        "# Print the variable values whild on GPU.\n",
        "print(f\"{a = }\")\n",
        "print(f\"{b = }\")\n",
        "# Print the variable values whild on CPU.\n",
        "print(f\"{a.cpu() = }\")"
      ],
      "metadata": {
        "id": "mPw_cb2AhOiI",
        "outputId": "a9b8a77e-05c4-4d64-af4b-44448629ecb7",
        "colab": {
          "base_uri": "https://localhost:8080/"
        }
      },
      "id": "mPw_cb2AhOiI",
      "execution_count": 39,
      "outputs": [
        {
          "output_type": "stream",
          "name": "stdout",
          "text": [
            "a = tensor([1., 1., 1., 1., 1.], device='cuda:0')\n",
            "b = array([1., 1., 1., 1., 1.], dtype=float32)\n",
            "\n",
            "a = tensor([2., 2., 2., 2., 2.], device='cuda:0')\n",
            "b = array([1., 1., 1., 1., 1.], dtype=float32)\n",
            "a.cpu() = tensor([2., 2., 2., 2., 2.])\n"
          ]
        }
      ]
    },
    {
      "cell_type": "markdown",
      "id": "ef3d110d-6ef8-4dc0-87f5-9a47f1cacbd7",
      "metadata": {
        "jp-MarkdownHeadingCollapsed": true,
        "tags": [],
        "id": "ef3d110d-6ef8-4dc0-87f5-9a47f1cacbd7"
      },
      "source": [
        "## Gradients with Autograd"
      ]
    },
    {
      "cell_type": "markdown",
      "id": "04bf5fa1-fa18-48dd-acd1-34637f7c3858",
      "metadata": {
        "id": "04bf5fa1-fa18-48dd-acd1-34637f7c3858"
      },
      "source": [
        "If needed later, one can specify that a gradient will need to be computed for a specific variable:"
      ]
    },
    {
      "cell_type": "code",
      "execution_count": 22,
      "id": "665ae51f-d746-449a-bd4a-441c58f02438",
      "metadata": {
        "id": "665ae51f-d746-449a-bd4a-441c58f02438",
        "outputId": "a4d1be21-bbb3-434e-f77d-92c99ffad78d",
        "colab": {
          "base_uri": "https://localhost:8080/"
        }
      },
      "outputs": [
        {
          "output_type": "execute_result",
          "data": {
            "text/plain": [
              "tensor([-0.6373,  0.1020,  0.0279, -0.2443,  1.7219], requires_grad=True)"
            ]
          },
          "metadata": {},
          "execution_count": 22
        }
      ],
      "source": [
        "x = torch.randn(5, requires_grad=True)\n",
        "x"
      ]
    },
    {
      "cell_type": "code",
      "execution_count": 23,
      "id": "5317c09e-01fc-4a64-9bd4-41121854e1a4",
      "metadata": {
        "id": "5317c09e-01fc-4a64-9bd4-41121854e1a4",
        "outputId": "7bb6b9bd-81b4-43dd-c83f-a57d7fbda189",
        "colab": {
          "base_uri": "https://localhost:8080/"
        }
      },
      "outputs": [
        {
          "output_type": "execute_result",
          "data": {
            "text/plain": [
              "tensor([1.3627, 2.1020, 2.0279, 1.7557, 3.7219], grad_fn=<AddBackward0>)"
            ]
          },
          "metadata": {},
          "execution_count": 23
        }
      ],
      "source": [
        "# Note that Pytorch tracs the required operations for the Backpropagation.\n",
        "y = x + 2\n",
        "y"
      ]
    },
    {
      "cell_type": "code",
      "execution_count": 24,
      "id": "51b8b071-1af3-44bd-88dd-9a522a10b41d",
      "metadata": {
        "id": "51b8b071-1af3-44bd-88dd-9a522a10b41d",
        "outputId": "7de73b4a-8421-4c79-ebce-a9110b2c0524",
        "colab": {
          "base_uri": "https://localhost:8080/"
        }
      },
      "outputs": [
        {
          "output_type": "execute_result",
          "data": {
            "text/plain": [
              "tensor([ 3.7141,  8.8370,  8.2251,  6.1648, 27.7045], grad_fn=<MulBackward0>)"
            ]
          },
          "metadata": {},
          "execution_count": 24
        }
      ],
      "source": [
        "z = y * y * 2\n",
        "z"
      ]
    },
    {
      "cell_type": "code",
      "execution_count": 25,
      "id": "4f0eb95b-d3bc-4ebf-be63-3f82d836b257",
      "metadata": {
        "id": "4f0eb95b-d3bc-4ebf-be63-3f82d836b257",
        "outputId": "a81a3705-739d-48de-c31a-8a56ca5e2eb4",
        "colab": {
          "base_uri": "https://localhost:8080/"
        }
      },
      "outputs": [
        {
          "output_type": "execute_result",
          "data": {
            "text/plain": [
              "tensor(10.9291, grad_fn=<MeanBackward0>)"
            ]
          },
          "metadata": {},
          "execution_count": 25
        }
      ],
      "source": [
        "z_scalar = z.mean()\n",
        "z_scalar"
      ]
    },
    {
      "cell_type": "code",
      "execution_count": 26,
      "id": "75d36da9-14f2-4a73-adb4-8b2d35205366",
      "metadata": {
        "id": "75d36da9-14f2-4a73-adb4-8b2d35205366",
        "outputId": "86481913-d6a1-4471-b724-55fed179a559",
        "colab": {
          "base_uri": "https://localhost:8080/"
        }
      },
      "outputs": [
        {
          "output_type": "stream",
          "name": "stdout",
          "text": [
            "None\n",
            "tensor([1.0902, 1.6816, 1.6224, 1.4045, 2.9775])\n"
          ]
        }
      ],
      "source": [
        "print(x.grad)\n",
        "# Trigger the backward pass by calling\n",
        "z_scalar.backward() # dz/dx\n",
        "# Now the gradient has been computed and can be used.\n",
        "print(x.grad)"
      ]
    },
    {
      "cell_type": "code",
      "execution_count": 27,
      "id": "1661790e-21b0-4fc2-bb75-67e0f14ff6cb",
      "metadata": {
        "id": "1661790e-21b0-4fc2-bb75-67e0f14ff6cb",
        "outputId": "6c593a3b-5049-4780-df95-4fb9f0914076",
        "colab": {
          "base_uri": "https://localhost:8080/"
        }
      },
      "outputs": [
        {
          "output_type": "stream",
          "name": "stdout",
          "text": [
            "tensor([0.3000, 3.0000, 0.0030])\n"
          ]
        }
      ],
      "source": [
        "x = torch.randn(3, requires_grad=True)\n",
        "z = x.add(2)\n",
        "z.mul_(3)\n",
        "\n",
        "# Now the output is not a scalar value but a vector. To trigger the backwards pass, another vector is needed.\n",
        "v = torch.tensor([.1, 1., .001], dtype=torch.float32)\n",
        "assert x.size() == v.size(), \"The vector must have the same dimension as the input dimension!\"\n",
        "\n",
        "z.backward(v) # dz/dx\n",
        "print(x.grad)"
      ]
    },
    {
      "cell_type": "markdown",
      "id": "3ade7332-a3e8-4488-8260-8fb148e5eab9",
      "metadata": {
        "id": "3ade7332-a3e8-4488-8260-8fb148e5eab9"
      },
      "source": [
        "There are several options to turn of the `requires_grad`-flag:\n",
        "* `x.requires_grad_(False)`\n",
        "* `x.detach()`\n",
        "* `with torch.no_grad()`"
      ]
    },
    {
      "cell_type": "code",
      "execution_count": 28,
      "id": "2caf031a-c342-4255-9f99-0ffd5792c95d",
      "metadata": {
        "id": "2caf031a-c342-4255-9f99-0ffd5792c95d",
        "outputId": "5a671935-486f-4dc6-ec27-9e73e169b103",
        "colab": {
          "base_uri": "https://localhost:8080/"
        }
      },
      "outputs": [
        {
          "output_type": "stream",
          "name": "stdout",
          "text": [
            "tensor([0.4007, 0.5235, 0.3513], requires_grad=True)\n",
            "tensor([0.4007, 0.5235, 0.3513])\n"
          ]
        }
      ],
      "source": [
        "x = torch.randn(3, requires_grad=True)\n",
        "print(x)\n",
        "x.requires_grad_(False)\n",
        "print(x)"
      ]
    },
    {
      "cell_type": "code",
      "execution_count": 29,
      "id": "da188e58-c7a4-4328-93d0-03cb31ad15a2",
      "metadata": {
        "id": "da188e58-c7a4-4328-93d0-03cb31ad15a2",
        "outputId": "e10ab1fa-5f17-44a1-f20c-4260cf92eac9",
        "colab": {
          "base_uri": "https://localhost:8080/"
        }
      },
      "outputs": [
        {
          "output_type": "stream",
          "name": "stdout",
          "text": [
            "tensor([ 1.3854,  1.1474, -0.5296], requires_grad=True)\n",
            "tensor([ 1.3854,  1.1474, -0.5296], requires_grad=True)\n",
            "tensor([ 1.3854,  1.1474, -0.5296])\n"
          ]
        }
      ],
      "source": [
        "x = torch.randn(3, requires_grad=True)\n",
        "print(x)\n",
        "y = x.detach()\n",
        "print(x)\n",
        "print(y)"
      ]
    },
    {
      "cell_type": "code",
      "execution_count": 40,
      "id": "6d065ce3-2a29-4fc7-ab42-b2da5071dc3e",
      "metadata": {
        "id": "6d065ce3-2a29-4fc7-ab42-b2da5071dc3e",
        "outputId": "e6239fab-6625-4246-ec5a-c879dd12d2dd",
        "colab": {
          "base_uri": "https://localhost:8080/"
        }
      },
      "outputs": [
        {
          "output_type": "stream",
          "name": "stdout",
          "text": [
            "tensor([-0.7027, -0.3157,  0.0259], requires_grad=True)\n",
            "torch.no_grad - x\ttensor([-0.7027, -0.3157,  0.0259], requires_grad=True)\n",
            "torch.no_grad - y\ttensor([1.2973, 1.6843, 2.0259])\n",
            "x\t\t\ttensor([-0.7027, -0.3157,  0.0259], requires_grad=True)\n",
            "z\t\t\ttensor([1.2973, 1.6843, 2.0259], grad_fn=<AddBackward0>)\n"
          ]
        }
      ],
      "source": [
        "x = torch.randn(3, requires_grad=True)\n",
        "print(x)\n",
        "with torch.no_grad():\n",
        "    y = x.add(2)\n",
        "    print(f\"torch.no_grad - x\\t{x}\")\n",
        "    print(f\"torch.no_grad - y\\t{y}\")\n",
        "\n",
        "z = x.add(2)\n",
        "print(f\"x\\t\\t\\t{x}\")\n",
        "print(f\"z\\t\\t\\t{z}\")"
      ]
    },
    {
      "cell_type": "markdown",
      "id": "8bb5a4fc-763d-4598-bb6c-cf6c3360c2d5",
      "metadata": {
        "id": "8bb5a4fc-763d-4598-bb6c-cf6c3360c2d5"
      },
      "source": [
        "## Tiny NN example"
      ]
    },
    {
      "cell_type": "markdown",
      "id": "04cef7c7-25da-4741-9198-1eeba4d11f2f",
      "metadata": {
        "jp-MarkdownHeadingCollapsed": true,
        "tags": [],
        "id": "04cef7c7-25da-4741-9198-1eeba4d11f2f"
      },
      "source": [
        "### Gradients by hand"
      ]
    },
    {
      "cell_type": "code",
      "execution_count": 51,
      "id": "364af106-e87c-4225-a20a-783fb9ed96b9",
      "metadata": {
        "id": "364af106-e87c-4225-a20a-783fb9ed96b9",
        "outputId": "fda1c8de-7378-42d2-e15c-66cb64157da5",
        "colab": {
          "base_uri": "https://localhost:8080/"
        }
      },
      "outputs": [
        {
          "output_type": "stream",
          "name": "stdout",
          "text": [
            "Prediction before training: f(5.0) = 0.000\n",
            "[Epoch 1/20]:\tw = 1.200,\tmse_loss = 30.00000000\n",
            "[Epoch 3/20]:\tw = 1.872,\tmse_loss = 0.76800019\n",
            "[Epoch 5/20]:\tw = 1.980,\tmse_loss = 0.01966083\n",
            "[Epoch 7/20]:\tw = 1.997,\tmse_loss = 0.00050332\n",
            "[Epoch 9/20]:\tw = 1.999,\tmse_loss = 0.00001288\n",
            "[Epoch 11/20]:\tw = 2.000,\tmse_loss = 0.00000033\n",
            "[Epoch 13/20]:\tw = 2.000,\tmse_loss = 0.00000001\n",
            "[Epoch 15/20]:\tw = 2.000,\tmse_loss = 0.00000000\n",
            "[Epoch 17/20]:\tw = 2.000,\tmse_loss = 0.00000000\n",
            "[Epoch 19/20]:\tw = 2.000,\tmse_loss = 0.00000000\n",
            "Prediction after training: f(5.0) = 10.000 (solution f(5.0)=10.0)\n"
          ]
        }
      ],
      "source": [
        "# f = w * x\n",
        "# f = 2 * x\n",
        "X_test: float = 5.\n",
        "Y_test: float = 2 * X_test\n",
        "X = torch.tensor([1, 2, 3, 4], dtype=torch.float32)\n",
        "Y = torch.tensor([2, 4, 6, 8], dtype=torch.float32)\n",
        "w = .0\n",
        "\n",
        "# Training\n",
        "learning_rate = 0.01\n",
        "nr_epochs = 20\n",
        "\n",
        "# Model prediction.\n",
        "def forward(x: torch.tensor) -> torch.tensor:\n",
        "    return torch.mul(x, w)\n",
        "\n",
        "# Loss function: MSE\n",
        "def loss_mse(y: torch.tensor, y_pred: torch.tensor) -> torch.tensor:\n",
        "    return ((torch.sub(y, y_pred))**2).mean()\n",
        "\n",
        "# Gradient.\n",
        "# MSE = 1/N * (w*x - y)**2\n",
        "# dJ/dw = 1/N 2x (x*w - y)\n",
        "def gradient(x: torch.tensor, y: torch.tensor, y_predicted: torch.tensor) -> torch.tensor:\n",
        "    return np.dot(torch.mul(x, 2), torch.sub(y_predicted, y)).mean()\n",
        "\n",
        "print(f\"Prediction before training: f({X_test}) = {forward(X_test):.3f}\")\n",
        "\n",
        "for epoch in range(nr_epochs):\n",
        "    # Prediction from the forward pass.\n",
        "    y_pred = forward(X)\n",
        "\n",
        "    # Loss computation.\n",
        "    l = loss_mse(Y, y_pred)\n",
        "\n",
        "    # Gradient computation.\n",
        "    dw = gradient(X, Y, y_pred)\n",
        "\n",
        "    # Update the weights.\n",
        "    w -= torch.mul(dw, learning_rate)\n",
        "\n",
        "    if epoch % (nr_epochs//10) == 0:\n",
        "        print(f\"[Epoch {epoch + 1}/{nr_epochs}]:\\tw = {w:.3f},\\tmse_loss = {l:.8f}\")\n",
        "\n",
        "\n",
        "print(f\"Prediction after training: f({X_test}) = {forward(X_test):.3f} (solution f({X_test})={Y_test})\")"
      ]
    },
    {
      "cell_type": "markdown",
      "id": "8dfe1e7e-e07f-4c9e-a2ed-9293714c6d98",
      "metadata": {
        "jp-MarkdownHeadingCollapsed": true,
        "tags": [],
        "id": "8dfe1e7e-e07f-4c9e-a2ed-9293714c6d98"
      },
      "source": [
        "### Gradients by Autograd"
      ]
    },
    {
      "cell_type": "code",
      "execution_count": 64,
      "id": "cad3939d-2596-49bf-a2ae-0bfb4b0283c9",
      "metadata": {
        "id": "cad3939d-2596-49bf-a2ae-0bfb4b0283c9",
        "outputId": "a45ce0c2-c54e-4d78-f8d5-2d71ea95443c",
        "colab": {
          "base_uri": "https://localhost:8080/"
        }
      },
      "outputs": [
        {
          "output_type": "stream",
          "name": "stdout",
          "text": [
            "Prediction before training: f(5.0) = 0.000\n",
            "[Epoch 1/100]:\tw = 0.300,\tmse-loss = 30.00000000\n",
            "[Epoch 11/100]:\tw = 1.665,\tmse-loss = 1.16278565\n",
            "[Epoch 21/100]:\tw = 1.934,\tmse-loss = 0.04506890\n",
            "[Epoch 31/100]:\tw = 1.987,\tmse-loss = 0.00174685\n",
            "[Epoch 41/100]:\tw = 1.997,\tmse-loss = 0.00006770\n",
            "[Epoch 51/100]:\tw = 1.999,\tmse-loss = 0.00000262\n",
            "[Epoch 61/100]:\tw = 2.000,\tmse-loss = 0.00000010\n",
            "[Epoch 71/100]:\tw = 2.000,\tmse-loss = 0.00000000\n",
            "[Epoch 81/100]:\tw = 2.000,\tmse-loss = 0.00000000\n",
            "[Epoch 91/100]:\tw = 2.000,\tmse-loss = 0.00000000\n",
            "Prediction after training: f(5.0) = 10.000 (solution f(5.0)=10.0)\n"
          ]
        }
      ],
      "source": [
        "# f = w * x\n",
        "# f = 2 * x\n",
        "X_test: float = 5.\n",
        "Y_test: float = 2 * X_test\n",
        "X = torch.tensor([1, 2, 3, 4], dtype=torch.float32)\n",
        "Y = torch.tensor([2, 4, 6, 8], dtype=torch.float32)\n",
        "\n",
        "w = torch.tensor(.0, dtype=torch.float32, requires_grad=True)\n",
        "\n",
        "# Training\n",
        "learning_rate = 0.01\n",
        "nr_epochs = 100\n",
        "\n",
        "# Model prediction.\n",
        "def forward(x: torch.tensor) -> torch.tensor:\n",
        "    return torch.mul(x, w)\n",
        "\n",
        "# Loss function: MSE\n",
        "def loss_mse(y: torch.tensor, y_pred: torch.tensor) -> torch.tensor:\n",
        "    return ((torch.sub(y, y_pred))**2).mean()\n",
        "\n",
        "print(f\"Prediction before training: f({X_test}) = {forward(X_test):.3f}\")\n",
        "\n",
        "for epoch in range(nr_epochs):\n",
        "    # Prediction from the forward pass.\n",
        "    y_pred = forward(X)\n",
        "\n",
        "    # Loss computation.\n",
        "    l = loss_mse(Y, y_pred)\n",
        "\n",
        "    # Gradient computation. Backward pass.\n",
        "    l.backward() # dl/dw\n",
        "\n",
        "    # Update the weights.\n",
        "    with torch.no_grad():\n",
        "        w -= torch.mul(w.grad, learning_rate)\n",
        "\n",
        "    # Reset the gradients.\n",
        "    w.grad.zero_()\n",
        "\n",
        "    if epoch % (nr_epochs // 10) == 0:\n",
        "        print(f\"[Epoch {epoch + 1}/{nr_epochs}]:\\tw = {w:.3f},\\tmse-loss = {l:.8f}\")\n",
        "\n",
        "\n",
        "print(f\"Prediction after training: f({X_test}) = {forward(X_test):.3f} (solution f({X_test})={Y_test})\")"
      ]
    },
    {
      "cell_type": "markdown",
      "id": "56a52e50-e6da-443c-a33a-dec1c34a89e1",
      "metadata": {
        "id": "56a52e50-e6da-443c-a33a-dec1c34a89e1"
      },
      "source": [
        "### Using Torch.NN"
      ]
    },
    {
      "cell_type": "code",
      "execution_count": 41,
      "id": "5506c9ed-0af1-4988-af3d-c8f41e9ce96e",
      "metadata": {
        "id": "5506c9ed-0af1-4988-af3d-c8f41e9ce96e"
      },
      "outputs": [],
      "source": [
        "# 1) Design the model (input, output size, forward pass)\n",
        "# 2) Construct the loss and optimizer\n",
        "# 3) Training loop:\n",
        "# - forward pass: compute prediction\n",
        "# - backward pass: gradients\n",
        "# - update weights"
      ]
    },
    {
      "cell_type": "code",
      "execution_count": 65,
      "id": "4a420f99-6929-417b-9491-794033a38d10",
      "metadata": {
        "id": "4a420f99-6929-417b-9491-794033a38d10",
        "outputId": "c8c94dee-6773-407e-dfbc-a3fb89821c46",
        "colab": {
          "base_uri": "https://localhost:8080/"
        }
      },
      "outputs": [
        {
          "output_type": "stream",
          "name": "stdout",
          "text": [
            "Prediction before training: f(tensor([5.])) = -0.130\n",
            "Epoch 1: w = 0.000, loss = 28.13534546\n",
            "Epoch 11: w = 0.000, loss = 0.97767603\n",
            "Epoch 21: w = 0.000, loss = 0.26050517\n",
            "Epoch 31: w = 0.000, loss = 0.22825977\n",
            "Epoch 41: w = 0.000, loss = 0.21453196\n",
            "Epoch 51: w = 0.000, loss = 0.20203356\n",
            "Epoch 61: w = 0.000, loss = 0.19027387\n",
            "Epoch 71: w = 0.000, loss = 0.17919886\n",
            "Epoch 81: w = 0.000, loss = 0.16876847\n",
            "Epoch 91: w = 0.000, loss = 0.15894532\n",
            "Prediction after training: f(tensor([5.])) = 9.337 (solution f(tensor([5.]))=tensor([10.]))\n"
          ]
        }
      ],
      "source": [
        "X_test: torch.tensor = torch.tensor([5], dtype=torch.float32)\n",
        "Y_test: torch.tensor = torch.mul(X_test, 2)\n",
        "X = torch.tensor([[1], [2], [3], [4]], dtype=torch.float32)\n",
        "Y = torch.tensor([[2], [4], [6], [8]], dtype=torch.float32)\n",
        "w = torch.tensor(0.0, dtype=torch.float32, requires_grad=True)\n",
        "\n",
        "n_samples, n_features = X.shape\n",
        "input_size  = n_features\n",
        "output_size = n_features\n",
        "\n",
        "# Hyperparameters.\n",
        "learning_rate = 0.01\n",
        "nr_epochs = 100\n",
        "\n",
        "# Model definition.\n",
        "model = nn.Linear(input_size, output_size)\n",
        "\n",
        "print(f\"Prediction before training: f({X_test}) = {model(X_test).item():.3f}\")\n",
        "\n",
        "# Loss definition.\n",
        "loss = nn.MSELoss()\n",
        "# Optimizer definition.\n",
        "optimizer = torch.optim.SGD(model.parameters(), lr=learning_rate)\n",
        "\n",
        "for epoch in range(nr_epochs):\n",
        "    # Prediction from the forward pass.\n",
        "    y_pred = model(X)\n",
        "\n",
        "    # Loss computation.\n",
        "    l = loss(Y, y_pred)\n",
        "\n",
        "    # Gradient computation. Backward pass.\n",
        "    l.backward() # dl/dw\n",
        "\n",
        "    # Update the weights.\n",
        "    optimizer.step()\n",
        "\n",
        "    # Reset the gradients.\n",
        "    optimizer.zero_grad()\n",
        "\n",
        "    if epoch % (nr_epochs // 10) == 0:\n",
        "        print(f\"Epoch {epoch + 1}: w = {w:.3f}, loss = {l:.8f}\")\n",
        "\n",
        "print(f\"Prediction after training: f({X_test}) = {model(X_test).item():.3f} (solution f({X_test})={Y_test})\")"
      ]
    },
    {
      "cell_type": "markdown",
      "source": [
        "MIN: 1:24:06"
      ],
      "metadata": {
        "id": "LDa_EXT23StC"
      },
      "id": "LDa_EXT23StC"
    },
    {
      "cell_type": "markdown",
      "id": "53d2c86f-b74c-4d60-a1bb-7fdc40fd06e7",
      "metadata": {
        "id": "53d2c86f-b74c-4d60-a1bb-7fdc40fd06e7"
      },
      "source": [
        "# NEXT CHAPTER ..."
      ]
    },
    {
      "cell_type": "code",
      "execution_count": null,
      "id": "d6442857-0048-423d-aa13-aff2ea77d608",
      "metadata": {
        "id": "d6442857-0048-423d-aa13-aff2ea77d608"
      },
      "outputs": [],
      "source": [
        "model_graph = draw_graph(resnet18(), input_size=(1,3,224,224), expand_nested=True)\n",
        "model_graph.visual_graph"
      ]
    },
    {
      "cell_type": "code",
      "execution_count": null,
      "id": "9c8a4082-21bc-4ab1-a10a-068fe9d4465f",
      "metadata": {
        "id": "9c8a4082-21bc-4ab1-a10a-068fe9d4465f"
      },
      "outputs": [],
      "source": [
        "# CONTINUE WITH: https://youtu.be/c36lUUr864M?si=Ed3ezOjp2TDZD6Ev&t=4899\n"
      ]
    }
  ],
  "metadata": {
    "kernelspec": {
      "display_name": "Python 3",
      "name": "python3"
    },
    "language_info": {
      "codemirror_mode": {
        "name": "ipython",
        "version": 3
      },
      "file_extension": ".py",
      "mimetype": "text/x-python",
      "name": "python",
      "nbconvert_exporter": "python",
      "pygments_lexer": "ipython3",
      "version": "3.10.9"
    },
    "toc-autonumbering": true,
    "toc-showmarkdowntxt": true,
    "colab": {
      "provenance": [],
      "toc_visible": true,
      "gpuType": "T4"
    },
    "accelerator": "GPU"
  },
  "nbformat": 4,
  "nbformat_minor": 5
}