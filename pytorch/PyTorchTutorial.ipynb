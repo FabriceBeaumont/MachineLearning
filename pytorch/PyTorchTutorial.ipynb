{
  "cells": [
    {
      "cell_type": "markdown",
      "metadata": {
        "id": "view-in-github",
        "colab_type": "text"
      },
      "source": [
        "<a href=\"https://colab.research.google.com/github/FabriceBeaumont/MachineLearning/blob/main/pytorch/PyTorchTutorial.ipynb\" target=\"_parent\"><img src=\"https://colab.research.google.com/assets/colab-badge.svg\" alt=\"Open In Colab\"/></a>"
      ]
    },
    {
      "cell_type": "markdown",
      "id": "a682a294-b26e-4e4d-b74b-4d9db1318307",
      "metadata": {
        "id": "a682a294-b26e-4e4d-b74b-4d9db1318307"
      },
      "source": [
        "# Deep Learning With PyTorch\n",
        "\n",
        "Using:\n",
        "* [Deep Learning With PyTorch - Full Course by Patrick Loeber](https://www.youtube.com/watch?v=c36lUUr864M&t=5s)"
      ]
    },
    {
      "cell_type": "markdown",
      "id": "ff2c5d3f-dd0e-4e88-a1f2-4ff27683c634",
      "metadata": {
        "jp-MarkdownHeadingCollapsed": true,
        "tags": [],
        "id": "ff2c5d3f-dd0e-4e88-a1f2-4ff27683c634"
      },
      "source": [
        "### Imports"
      ]
    },
    {
      "cell_type": "code",
      "execution_count": 26,
      "id": "339da0b6-4e5a-47dc-bbc1-26286c4be028",
      "metadata": {
        "id": "339da0b6-4e5a-47dc-bbc1-26286c4be028"
      },
      "outputs": [],
      "source": [
        "from typing import List, Set, Tuple, Any, Union\n",
        "import torch\n",
        "import torch.nn as nn\n",
        "import torchvision\n",
        "import numpy as np"
      ]
    },
    {
      "cell_type": "code",
      "source": [
        "from matplotlib.colors import ListedColormap\n",
        "import matplotlib.pyplot as plt\n",
        "import matplotlib.gridspec as gridspec\n",
        "plt.style.use('dark_background')\n",
        "import seaborn as sns"
      ],
      "metadata": {
        "id": "4J2jf4ALUQyy"
      },
      "id": "4J2jf4ALUQyy",
      "execution_count": 27,
      "outputs": []
    },
    {
      "cell_type": "code",
      "execution_count": 28,
      "id": "ba0ea3d0-22a2-4fe5-96b6-aceb7abd2bbd",
      "metadata": {
        "id": "ba0ea3d0-22a2-4fe5-96b6-aceb7abd2bbd"
      },
      "outputs": [],
      "source": [
        "import timeit"
      ]
    },
    {
      "cell_type": "code",
      "source": [
        "%pip install torchviz"
      ],
      "metadata": {
        "colab": {
          "base_uri": "https://localhost:8080/"
        },
        "id": "ojxSy-IU9vfV",
        "outputId": "5a099948-0b03-48a1-9d95-186b273b872b"
      },
      "id": "ojxSy-IU9vfV",
      "execution_count": 29,
      "outputs": [
        {
          "output_type": "stream",
          "name": "stdout",
          "text": [
            "Collecting torchviz\n",
            "  Downloading torchviz-0.0.2.tar.gz (4.9 kB)\n",
            "  Preparing metadata (setup.py) ... \u001b[?25l\u001b[?25hdone\n",
            "Requirement already satisfied: torch in /usr/local/lib/python3.10/dist-packages (from torchviz) (2.1.0+cu121)\n",
            "Requirement already satisfied: graphviz in /usr/local/lib/python3.10/dist-packages (from torchviz) (0.20.1)\n",
            "Requirement already satisfied: filelock in /usr/local/lib/python3.10/dist-packages (from torch->torchviz) (3.13.1)\n",
            "Requirement already satisfied: typing-extensions in /usr/local/lib/python3.10/dist-packages (from torch->torchviz) (4.5.0)\n",
            "Requirement already satisfied: sympy in /usr/local/lib/python3.10/dist-packages (from torch->torchviz) (1.12)\n",
            "Requirement already satisfied: networkx in /usr/local/lib/python3.10/dist-packages (from torch->torchviz) (3.2.1)\n",
            "Requirement already satisfied: jinja2 in /usr/local/lib/python3.10/dist-packages (from torch->torchviz) (3.1.2)\n",
            "Requirement already satisfied: fsspec in /usr/local/lib/python3.10/dist-packages (from torch->torchviz) (2023.6.0)\n",
            "Requirement already satisfied: triton==2.1.0 in /usr/local/lib/python3.10/dist-packages (from torch->torchviz) (2.1.0)\n",
            "Requirement already satisfied: MarkupSafe>=2.0 in /usr/local/lib/python3.10/dist-packages (from jinja2->torch->torchviz) (2.1.3)\n",
            "Requirement already satisfied: mpmath>=0.19 in /usr/local/lib/python3.10/dist-packages (from sympy->torch->torchviz) (1.3.0)\n",
            "Building wheels for collected packages: torchviz\n",
            "  Building wheel for torchviz (setup.py) ... \u001b[?25l\u001b[?25hdone\n",
            "  Created wheel for torchviz: filename=torchviz-0.0.2-py3-none-any.whl size=4131 sha256=d43d0a600229b5b601d0f12047c51a2e90e4d34d5887b8296aaff7d1e0bbe3e3\n",
            "  Stored in directory: /root/.cache/pip/wheels/4c/97/88/a02973217949e0db0c9f4346d154085f4725f99c4f15a87094\n",
            "Successfully built torchviz\n",
            "Installing collected packages: torchviz\n",
            "Successfully installed torchviz-0.0.2\n"
          ]
        }
      ]
    },
    {
      "cell_type": "code",
      "execution_count": 30,
      "id": "27043aff-340f-444d-88f4-81fefbae3c2d",
      "metadata": {
        "id": "27043aff-340f-444d-88f4-81fefbae3c2d"
      },
      "outputs": [],
      "source": [
        "# For NN Visualization\n",
        "from torchviz import make_dot"
      ]
    },
    {
      "cell_type": "markdown",
      "id": "12fa29c6-9dc7-4196-a378-f80fa0323454",
      "metadata": {
        "tags": [],
        "id": "12fa29c6-9dc7-4196-a378-f80fa0323454"
      },
      "source": [
        "# Introduction"
      ]
    },
    {
      "cell_type": "markdown",
      "id": "1878103b-f4f4-4d75-8425-62bc405932fe",
      "metadata": {
        "tags": [],
        "id": "1878103b-f4f4-4d75-8425-62bc405932fe"
      },
      "source": [
        "## Tensors"
      ]
    },
    {
      "cell_type": "markdown",
      "source": [
        "An empty tensor (1d-tensor) equals a scalar value."
      ],
      "metadata": {
        "id": "EjHrsOMReLAu"
      },
      "id": "EjHrsOMReLAu"
    },
    {
      "cell_type": "markdown",
      "id": "9003bf6d-6e6d-4f9d-ae4c-d212704869fd",
      "metadata": {
        "jp-MarkdownHeadingCollapsed": true,
        "tags": [],
        "id": "9003bf6d-6e6d-4f9d-ae4c-d212704869fd"
      },
      "source": [
        "### Basic tensor operations"
      ]
    },
    {
      "cell_type": "code",
      "execution_count": 31,
      "id": "c8e18ed3-2012-48ca-b42e-354b5d0e438a",
      "metadata": {
        "colab": {
          "base_uri": "https://localhost:8080/"
        },
        "id": "c8e18ed3-2012-48ca-b42e-354b5d0e438a",
        "outputId": "b2cdb12a-6069-44e3-961b-f90965b25d12"
      },
      "outputs": [
        {
          "output_type": "stream",
          "name": "stdout",
          "text": [
            "tensor([1.1639e-41])\n",
            "\n",
            "tensor([-6.4167e+25,  4.3905e-41, -2.1771e+24,  4.3907e-41])\n",
            "\n",
            "tensor([[-3.3976e-17,  1.9443e+00],\n",
            "        [-6.3511e+25,  4.3905e-41]])\n",
            "\n",
            "tensor([[[1., 1., 1.],\n",
            "         [1., 1., 1.]]], dtype=torch.float16)\n",
            "\n",
            "tensor([[0., 0., 0., 0., 0.],\n",
            "        [0., 0., 0., 0., 0.],\n",
            "        [0., 0., 0., 0., 0.]])\n",
            "\n"
          ]
        }
      ],
      "source": [
        "# Examples of tensors.\n",
        "examples = [\n",
        "    torch.empty(1),\n",
        "    torch.empty(4),\n",
        "    torch.empty(2, 2),\n",
        "    torch.ones(1, 2, 3, dtype=torch.float16),\n",
        "    torch.zeros(3, 5),\n",
        "]\n",
        "for x in examples:\n",
        "    print(x, end=\"\\n\\n\")"
      ]
    },
    {
      "cell_type": "markdown",
      "source": [
        "Whenever possible use the torch functions to operate on tensors, since they provied significant time benefits.\n",
        "\n",
        "Here a demonstration on addition:"
      ],
      "metadata": {
        "id": "jDdVYQGQfAcX"
      },
      "id": "jDdVYQGQfAcX"
    },
    {
      "cell_type": "code",
      "execution_count": 32,
      "id": "5ab12220-b277-410f-b389-b6b6a4695266",
      "metadata": {
        "id": "5ab12220-b277-410f-b389-b6b6a4695266"
      },
      "outputs": [],
      "source": [
        "# Generate random samples of tuples of two 2x2 tensors.\n",
        "samples = [(torch.rand(2,2), torch.rand(2,2)) for _ in range(1000)]"
      ]
    },
    {
      "cell_type": "code",
      "execution_count": 33,
      "id": "471f938e-24ae-49a9-82c9-84cac903b91c",
      "metadata": {
        "colab": {
          "base_uri": "https://localhost:8080/"
        },
        "id": "471f938e-24ae-49a9-82c9-84cac903b91c",
        "outputId": "5c43a343-bb11-4f01-a302-ac0c06c7bb90"
      },
      "outputs": [
        {
          "output_type": "stream",
          "name": "stdout",
          "text": [
            "3.52 ms ± 1.23 ms per loop (mean ± std. dev. of 7 runs, 100 loops each)\n"
          ]
        }
      ],
      "source": [
        "%timeit for x, y in samples: x + y"
      ]
    },
    {
      "cell_type": "code",
      "execution_count": 34,
      "id": "4ee26b2c-0511-4a85-9910-a2c4389bf3bd",
      "metadata": {
        "colab": {
          "base_uri": "https://localhost:8080/"
        },
        "id": "4ee26b2c-0511-4a85-9910-a2c4389bf3bd",
        "outputId": "ddc62fa9-275c-43c9-83a2-d64697dbe216"
      },
      "outputs": [
        {
          "output_type": "stream",
          "name": "stdout",
          "text": [
            "3.39 ms ± 512 µs per loop (mean ± std. dev. of 7 runs, 100 loops each)\n"
          ]
        }
      ],
      "source": [
        "%timeit for x, y in samples: torch.add(x, y)"
      ]
    },
    {
      "cell_type": "markdown",
      "id": "3152c4cc-0662-4b72-a48b-92d9835135a3",
      "metadata": {
        "id": "3152c4cc-0662-4b72-a48b-92d9835135a3"
      },
      "source": [
        "Functions with a tailing underscore can be used to do inplace operations. E.g. `x.add_(y)` as `x += y` equivalent."
      ]
    },
    {
      "cell_type": "code",
      "execution_count": 35,
      "id": "706eb4ee-2a8c-418c-99b7-729b2bd6103c",
      "metadata": {
        "colab": {
          "base_uri": "https://localhost:8080/"
        },
        "id": "706eb4ee-2a8c-418c-99b7-729b2bd6103c",
        "outputId": "4b03b545-65e0-44c2-938d-568492732f11"
      },
      "outputs": [
        {
          "output_type": "stream",
          "name": "stdout",
          "text": [
            "4.47 ms ± 548 µs per loop (mean ± std. dev. of 7 runs, 1000 loops each)\n"
          ]
        }
      ],
      "source": [
        "%timeit for x, y in samples: x.add_(y)"
      ]
    },
    {
      "cell_type": "markdown",
      "id": "289321bc-4335-4db0-9e64-01c8eb3e7a40",
      "metadata": {
        "id": "289321bc-4335-4db0-9e64-01c8eb3e7a40"
      },
      "source": [
        "Overview of basic tensor functions:\n",
        "- `torch.rand()`\n",
        "- `torch.add()`\n",
        "- `torch.sub()`\n",
        "- `torch.mul()`\n",
        "- `torch.pow()`"
      ]
    },
    {
      "cell_type": "markdown",
      "id": "15a4b16c-dc3e-4768-a463-5aeef4b86975",
      "metadata": {
        "jp-MarkdownHeadingCollapsed": true,
        "tags": [],
        "id": "15a4b16c-dc3e-4768-a463-5aeef4b86975"
      },
      "source": [
        "### Resizing tensors"
      ]
    },
    {
      "cell_type": "code",
      "execution_count": 36,
      "id": "76f45f0d-48d2-45a3-b20b-1b3826368bd6",
      "metadata": {
        "colab": {
          "base_uri": "https://localhost:8080/"
        },
        "id": "76f45f0d-48d2-45a3-b20b-1b3826368bd6",
        "outputId": "b6b8bcd3-9ed6-4ced-da89-bda02f4a736b"
      },
      "outputs": [
        {
          "output_type": "stream",
          "name": "stdout",
          "text": [
            "tensor([[0.9241, 0.7340, 0.5471, 0.0352],\n",
            "        [0.9451, 0.1350, 0.8274, 0.0687],\n",
            "        [0.6647, 0.5089, 0.2082, 0.6935],\n",
            "        [0.0738, 0.3538, 0.8004, 0.4440]])\n"
          ]
        }
      ],
      "source": [
        "x = torch.rand(4,4)\n",
        "print(x)"
      ]
    },
    {
      "cell_type": "code",
      "execution_count": 37,
      "id": "3932eb66-030a-4851-a463-f8073631cdd5",
      "metadata": {
        "colab": {
          "base_uri": "https://localhost:8080/"
        },
        "id": "3932eb66-030a-4851-a463-f8073631cdd5",
        "outputId": "a72a8666-2461-46a9-cfe4-269f1cd1e258"
      },
      "outputs": [
        {
          "output_type": "stream",
          "name": "stdout",
          "text": [
            "tensor([0.9241, 0.7340, 0.5471, 0.0352, 0.9451, 0.1350, 0.8274, 0.0687, 0.6647,\n",
            "        0.5089, 0.2082, 0.6935, 0.0738, 0.3538, 0.8004, 0.4440])\n",
            "\n",
            "tensor([0.9241, 0.7340, 0.5471, 0.0352, 0.9451, 0.1350, 0.8274, 0.0687, 0.6647,\n",
            "        0.5089, 0.2082, 0.6935, 0.0738, 0.3538, 0.8004, 0.4440])\n"
          ]
        }
      ],
      "source": [
        "# Concatenate all rows to one 1D-tensor.\n",
        "y0 = x.view(16)\n",
        "print(y0, end=\"\\n\\n\")\n",
        "# This is the same as using `flatten()`.\n",
        "y1 = x.flatten()\n",
        "print(y1)"
      ]
    },
    {
      "cell_type": "code",
      "execution_count": 38,
      "id": "8bdcafe5-c96d-4f5f-b610-d3f2234f8835",
      "metadata": {
        "colab": {
          "base_uri": "https://localhost:8080/"
        },
        "id": "8bdcafe5-c96d-4f5f-b610-d3f2234f8835",
        "outputId": "1882c1f4-3576-4b3f-a682-d5546bac03b0"
      },
      "outputs": [
        {
          "output_type": "stream",
          "name": "stdout",
          "text": [
            "tensor([[0.9241, 0.7340, 0.5471, 0.0352, 0.9451, 0.1350, 0.8274, 0.0687],\n",
            "        [0.6647, 0.5089, 0.2082, 0.6935, 0.0738, 0.3538, 0.8004, 0.4440]])\n",
            "torch.Size([2, 8])\n"
          ]
        }
      ],
      "source": [
        "# One can use the dummy value '-1' to let pytorch determine the second dimension.\n",
        "y = x.view(-1, 8)\n",
        "print(y)\n",
        "print(y.size())"
      ]
    },
    {
      "cell_type": "markdown",
      "id": "c9de51b8-b0e0-43e1-8659-d3ac0108a185",
      "metadata": {
        "jp-MarkdownHeadingCollapsed": true,
        "tags": [],
        "id": "c9de51b8-b0e0-43e1-8659-d3ac0108a185"
      },
      "source": [
        "### Tensor conversions"
      ]
    },
    {
      "cell_type": "markdown",
      "id": "8f8ed506-3365-438c-9f3c-bc268f1c9019",
      "metadata": {
        "id": "8f8ed506-3365-438c-9f3c-bc268f1c9019"
      },
      "source": [
        "Note that if the tenor is stored on the CPU, this will be a shallow copy (a reference and not a true copy)."
      ]
    },
    {
      "cell_type": "code",
      "execution_count": 39,
      "id": "0191932f-e8d3-476f-b433-f57859c147ac",
      "metadata": {
        "colab": {
          "base_uri": "https://localhost:8080/"
        },
        "id": "0191932f-e8d3-476f-b433-f57859c147ac",
        "outputId": "8ebe51a4-388d-43fc-c2fa-537dc646b1d0"
      },
      "outputs": [
        {
          "output_type": "stream",
          "name": "stdout",
          "text": [
            "a = tensor([1., 1., 1., 1., 1.])\t<class 'torch.Tensor'>\n",
            "b = array([1., 1., 1., 1., 1.], dtype=float32)\t\t<class 'numpy.ndarray'>\n",
            "c = tensor([1., 1., 1., 1., 1.])\t<class 'torch.Tensor'>\n",
            "\n",
            "a = tensor([2., 2., 2., 2., 2.])\n",
            "b = array([2., 2., 2., 2., 2.], dtype=float32)\n",
            "c = tensor([2., 2., 2., 2., 2.])\n"
          ]
        }
      ],
      "source": [
        "# Instantiate a tensor on the cpu (default place).\n",
        "a = torch.ones(5)\n",
        "print(f\"{a = }\\t{type(a)}\")\n",
        "\n",
        "# Create a copy of a torch tensor by calling the numpy() function.\n",
        "b = a.numpy()\n",
        "print(f\"{b = }\\t\\t{type(b)}\")\n",
        "# Create a copy of the numpy array from_numpy() function.\n",
        "c = torch.from_numpy(b)\n",
        "print(f\"{c = }\\t{type(c)}\")\n",
        "\n",
        "print()\n",
        "\n",
        "# Changing the values in one variable, changes all since these are only a references.\n",
        "a.add_(1)\n",
        "print(f\"{a = }\")\n",
        "print(f\"{b = }\")\n",
        "print(f\"{c = }\")"
      ]
    },
    {
      "cell_type": "markdown",
      "id": "223e51c1-a3fd-463c-b276-aafcb6262915",
      "metadata": {
        "jp-MarkdownHeadingCollapsed": true,
        "tags": [],
        "id": "223e51c1-a3fd-463c-b276-aafcb6262915"
      },
      "source": [
        "### Using a GPU"
      ]
    },
    {
      "cell_type": "code",
      "execution_count": 43,
      "id": "2aa68cda-cad9-4f4c-8043-9ae2f15ce8c3",
      "metadata": {
        "colab": {
          "base_uri": "https://localhost:8080/"
        },
        "id": "2aa68cda-cad9-4f4c-8043-9ae2f15ce8c3",
        "outputId": "0d0dac8a-ee56-4448-c2ec-3b9eacd7d393"
      },
      "outputs": [
        {
          "output_type": "execute_result",
          "data": {
            "text/plain": [
              "device(type='cpu')"
            ]
          },
          "metadata": {},
          "execution_count": 43
        }
      ],
      "source": [
        "# Initialize the GPU as cuda device.\n",
        "device = torch.device('cuda' if torch.cuda.is_available() else 'cpu')\n",
        "device"
      ]
    },
    {
      "cell_type": "markdown",
      "source": [
        "When storing a tensor on the GPU, copies of it will be deep copies (an independent instance, a true copy)."
      ],
      "metadata": {
        "id": "JrafGVkdikyi"
      },
      "id": "JrafGVkdikyi"
    },
    {
      "cell_type": "code",
      "source": [
        "# Instantiate a variable on the CPU and move it to be stored on the GPU.\n",
        "a = torch.ones(5).to(device)\n",
        "b = a.cpu().numpy()\n",
        "print(f\"{a = }\")\n",
        "print(f\"{b = }\")\n",
        "\n",
        "print()\n",
        "\n",
        "a.add_(torch.ones(5, device=device))\n",
        "# Print the variable values whild on GPU.\n",
        "print(f\"{a = }\")\n",
        "print(f\"{b = }\")\n",
        "# Print the variable values whild on CPU.\n",
        "print(f\"{a.cpu() = }\")"
      ],
      "metadata": {
        "colab": {
          "base_uri": "https://localhost:8080/"
        },
        "id": "mPw_cb2AhOiI",
        "outputId": "e089ff98-38e8-4684-fa47-60e68125a015"
      },
      "id": "mPw_cb2AhOiI",
      "execution_count": 44,
      "outputs": [
        {
          "output_type": "stream",
          "name": "stdout",
          "text": [
            "a = tensor([1., 1., 1., 1., 1.])\n",
            "b = array([1., 1., 1., 1., 1.], dtype=float32)\n",
            "\n",
            "a = tensor([2., 2., 2., 2., 2.])\n",
            "b = array([2., 2., 2., 2., 2.], dtype=float32)\n",
            "a.cpu() = tensor([2., 2., 2., 2., 2.])\n"
          ]
        }
      ]
    },
    {
      "cell_type": "markdown",
      "id": "ef3d110d-6ef8-4dc0-87f5-9a47f1cacbd7",
      "metadata": {
        "jp-MarkdownHeadingCollapsed": true,
        "tags": [],
        "id": "ef3d110d-6ef8-4dc0-87f5-9a47f1cacbd7"
      },
      "source": [
        "## Gradients with Autograd"
      ]
    },
    {
      "cell_type": "markdown",
      "id": "04bf5fa1-fa18-48dd-acd1-34637f7c3858",
      "metadata": {
        "id": "04bf5fa1-fa18-48dd-acd1-34637f7c3858"
      },
      "source": [
        "If needed later, one can specify that a gradient will need to be computed for a specific variable:"
      ]
    },
    {
      "cell_type": "code",
      "execution_count": 45,
      "id": "665ae51f-d746-449a-bd4a-441c58f02438",
      "metadata": {
        "colab": {
          "base_uri": "https://localhost:8080/"
        },
        "id": "665ae51f-d746-449a-bd4a-441c58f02438",
        "outputId": "fd26efb9-2efa-4881-d690-c05f0b1476f7"
      },
      "outputs": [
        {
          "output_type": "execute_result",
          "data": {
            "text/plain": [
              "tensor([ 0.8661,  0.5185, -1.4285, -3.0223, -0.9230], requires_grad=True)"
            ]
          },
          "metadata": {},
          "execution_count": 45
        }
      ],
      "source": [
        "x = torch.randn(5, requires_grad=True)\n",
        "x"
      ]
    },
    {
      "cell_type": "code",
      "execution_count": 46,
      "id": "5317c09e-01fc-4a64-9bd4-41121854e1a4",
      "metadata": {
        "colab": {
          "base_uri": "https://localhost:8080/"
        },
        "id": "5317c09e-01fc-4a64-9bd4-41121854e1a4",
        "outputId": "9ca9063c-bc38-4928-becd-4988f38f849d"
      },
      "outputs": [
        {
          "output_type": "execute_result",
          "data": {
            "text/plain": [
              "tensor([ 2.8661,  2.5185,  0.5715, -1.0223,  1.0770], grad_fn=<AddBackward0>)"
            ]
          },
          "metadata": {},
          "execution_count": 46
        }
      ],
      "source": [
        "# Note that Pytorch tracs the required operations for the Backpropagation.\n",
        "y = x + 2\n",
        "y"
      ]
    },
    {
      "cell_type": "code",
      "execution_count": 47,
      "id": "51b8b071-1af3-44bd-88dd-9a522a10b41d",
      "metadata": {
        "colab": {
          "base_uri": "https://localhost:8080/"
        },
        "id": "51b8b071-1af3-44bd-88dd-9a522a10b41d",
        "outputId": "08e7abb5-aef9-4806-913f-93110f92cebe"
      },
      "outputs": [
        {
          "output_type": "execute_result",
          "data": {
            "text/plain": [
              "tensor([16.4286, 12.6858,  0.6532,  2.0904,  2.3197], grad_fn=<MulBackward0>)"
            ]
          },
          "metadata": {},
          "execution_count": 47
        }
      ],
      "source": [
        "z = y * y * 2\n",
        "z"
      ]
    },
    {
      "cell_type": "code",
      "execution_count": 48,
      "id": "4f0eb95b-d3bc-4ebf-be63-3f82d836b257",
      "metadata": {
        "colab": {
          "base_uri": "https://localhost:8080/"
        },
        "id": "4f0eb95b-d3bc-4ebf-be63-3f82d836b257",
        "outputId": "4dc302d4-4e5d-4c26-85cd-91b1d4103472"
      },
      "outputs": [
        {
          "output_type": "execute_result",
          "data": {
            "text/plain": [
              "tensor(6.8356, grad_fn=<MeanBackward0>)"
            ]
          },
          "metadata": {},
          "execution_count": 48
        }
      ],
      "source": [
        "z_scalar = z.mean()\n",
        "z_scalar"
      ]
    },
    {
      "cell_type": "code",
      "execution_count": 49,
      "id": "75d36da9-14f2-4a73-adb4-8b2d35205366",
      "metadata": {
        "colab": {
          "base_uri": "https://localhost:8080/"
        },
        "id": "75d36da9-14f2-4a73-adb4-8b2d35205366",
        "outputId": "a7f4c83c-38ea-47e7-80be-e3e56ad67988"
      },
      "outputs": [
        {
          "output_type": "stream",
          "name": "stdout",
          "text": [
            "None\n",
            "tensor([ 2.2929,  2.0148,  0.4572, -0.8179,  0.8616])\n"
          ]
        }
      ],
      "source": [
        "print(x.grad)\n",
        "# Trigger the backward pass by calling\n",
        "z_scalar.backward() # dz/dx\n",
        "# Now the gradient has been computed and can be used.\n",
        "print(x.grad)"
      ]
    },
    {
      "cell_type": "code",
      "execution_count": 50,
      "id": "1661790e-21b0-4fc2-bb75-67e0f14ff6cb",
      "metadata": {
        "colab": {
          "base_uri": "https://localhost:8080/"
        },
        "id": "1661790e-21b0-4fc2-bb75-67e0f14ff6cb",
        "outputId": "0f7cbd89-30a4-4457-ea3d-96deda0140f4"
      },
      "outputs": [
        {
          "output_type": "stream",
          "name": "stdout",
          "text": [
            "tensor([0.3000, 3.0000, 0.0030])\n"
          ]
        }
      ],
      "source": [
        "x = torch.randn(3, requires_grad=True)\n",
        "z = x.add(2)\n",
        "z.mul_(3)\n",
        "\n",
        "# Now the output is not a scalar value but a vector. To trigger the backwards pass, another vector is needed.\n",
        "v = torch.tensor([.1, 1., .001], dtype=torch.float32)\n",
        "assert x.size() == v.size(), \"The vector must have the same dimension as the input dimension!\"\n",
        "\n",
        "z.backward(v) # dz/dx\n",
        "print(x.grad)"
      ]
    },
    {
      "cell_type": "markdown",
      "id": "3ade7332-a3e8-4488-8260-8fb148e5eab9",
      "metadata": {
        "id": "3ade7332-a3e8-4488-8260-8fb148e5eab9"
      },
      "source": [
        "There are several options to turn of the `requires_grad`-flag:\n",
        "* `x.requires_grad_(False)`\n",
        "* `x.detach()`\n",
        "* `with torch.no_grad()`"
      ]
    },
    {
      "cell_type": "code",
      "execution_count": 51,
      "id": "2caf031a-c342-4255-9f99-0ffd5792c95d",
      "metadata": {
        "colab": {
          "base_uri": "https://localhost:8080/"
        },
        "id": "2caf031a-c342-4255-9f99-0ffd5792c95d",
        "outputId": "7e4c1fe8-9131-4fe6-923a-0eec954aa96e"
      },
      "outputs": [
        {
          "output_type": "stream",
          "name": "stdout",
          "text": [
            "tensor([-0.4572, -1.8894,  0.6343], requires_grad=True)\n",
            "tensor([-0.4572, -1.8894,  0.6343])\n"
          ]
        }
      ],
      "source": [
        "x = torch.randn(3, requires_grad=True)\n",
        "print(x)\n",
        "x.requires_grad_(False)\n",
        "print(x)"
      ]
    },
    {
      "cell_type": "code",
      "execution_count": 52,
      "id": "da188e58-c7a4-4328-93d0-03cb31ad15a2",
      "metadata": {
        "colab": {
          "base_uri": "https://localhost:8080/"
        },
        "id": "da188e58-c7a4-4328-93d0-03cb31ad15a2",
        "outputId": "29470b6e-2734-403f-9926-44b1d46fdb46"
      },
      "outputs": [
        {
          "output_type": "stream",
          "name": "stdout",
          "text": [
            "tensor([-0.3808, -0.5597, -2.3898], requires_grad=True)\n",
            "tensor([-0.3808, -0.5597, -2.3898], requires_grad=True)\n",
            "tensor([-0.3808, -0.5597, -2.3898])\n"
          ]
        }
      ],
      "source": [
        "x = torch.randn(3, requires_grad=True)\n",
        "print(x)\n",
        "y = x.detach()\n",
        "print(x)\n",
        "print(y)"
      ]
    },
    {
      "cell_type": "code",
      "execution_count": 53,
      "id": "6d065ce3-2a29-4fc7-ab42-b2da5071dc3e",
      "metadata": {
        "colab": {
          "base_uri": "https://localhost:8080/"
        },
        "id": "6d065ce3-2a29-4fc7-ab42-b2da5071dc3e",
        "outputId": "8dd68ccb-6696-463b-ae4d-936e407cf51f"
      },
      "outputs": [
        {
          "output_type": "stream",
          "name": "stdout",
          "text": [
            "tensor([-0.4527,  1.2431, -0.4775], requires_grad=True)\n",
            "torch.no_grad - x\ttensor([-0.4527,  1.2431, -0.4775], requires_grad=True)\n",
            "torch.no_grad - y\ttensor([1.5473, 3.2431, 1.5225])\n",
            "x\t\t\ttensor([-0.4527,  1.2431, -0.4775], requires_grad=True)\n",
            "z\t\t\ttensor([1.5473, 3.2431, 1.5225], grad_fn=<AddBackward0>)\n"
          ]
        }
      ],
      "source": [
        "x = torch.randn(3, requires_grad=True)\n",
        "print(x)\n",
        "with torch.no_grad():\n",
        "    y = x.add(2)\n",
        "    print(f\"torch.no_grad - x\\t{x}\")\n",
        "    print(f\"torch.no_grad - y\\t{y}\")\n",
        "\n",
        "z = x.add(2)\n",
        "print(f\"x\\t\\t\\t{x}\")\n",
        "print(f\"z\\t\\t\\t{z}\")"
      ]
    },
    {
      "cell_type": "markdown",
      "id": "8bb5a4fc-763d-4598-bb6c-cf6c3360c2d5",
      "metadata": {
        "id": "8bb5a4fc-763d-4598-bb6c-cf6c3360c2d5"
      },
      "source": [
        "## Model definition step-by-step from scratch to using `torch`-framework"
      ]
    },
    {
      "cell_type": "markdown",
      "id": "04cef7c7-25da-4741-9198-1eeba4d11f2f",
      "metadata": {
        "jp-MarkdownHeadingCollapsed": true,
        "tags": [],
        "id": "04cef7c7-25da-4741-9198-1eeba4d11f2f"
      },
      "source": [
        "### Gradients by hand"
      ]
    },
    {
      "cell_type": "code",
      "execution_count": 54,
      "id": "364af106-e87c-4225-a20a-783fb9ed96b9",
      "metadata": {
        "colab": {
          "base_uri": "https://localhost:8080/"
        },
        "id": "364af106-e87c-4225-a20a-783fb9ed96b9",
        "outputId": "c4c52422-5692-4ccf-feb6-44519c7470df"
      },
      "outputs": [
        {
          "output_type": "stream",
          "name": "stdout",
          "text": [
            "Prediction before training: f(5.0) = 0.000\n",
            "[Epoch 2/20]:\tw = 1.680,\tmse_loss = 4.80000067\n",
            "[Epoch 4/20]:\tw = 1.949,\tmse_loss = 0.12288000\n",
            "[Epoch 6/20]:\tw = 1.992,\tmse_loss = 0.00314574\n",
            "[Epoch 8/20]:\tw = 1.999,\tmse_loss = 0.00008053\n",
            "[Epoch 10/20]:\tw = 2.000,\tmse_loss = 0.00000206\n",
            "[Epoch 12/20]:\tw = 2.000,\tmse_loss = 0.00000005\n",
            "[Epoch 14/20]:\tw = 2.000,\tmse_loss = 0.00000000\n",
            "[Epoch 16/20]:\tw = 2.000,\tmse_loss = 0.00000000\n",
            "[Epoch 18/20]:\tw = 2.000,\tmse_loss = 0.00000000\n",
            "[Epoch 20/20]:\tw = 2.000,\tmse_loss = 0.00000000\n",
            "\n",
            "Prediction after training: f(5.0) = 10.000 (solution f(5.0)=10.0)\n"
          ]
        }
      ],
      "source": [
        "# f = w * x\n",
        "# f = 2 * x\n",
        "X_test: float = 5.\n",
        "Y_test: float = 2 * X_test\n",
        "X = torch.tensor([1, 2, 3, 4], dtype=torch.float32)\n",
        "Y = torch.tensor([2, 4, 6, 8], dtype=torch.float32)\n",
        "w = .0\n",
        "\n",
        "# Training\n",
        "learning_rate = 0.01\n",
        "num_epochs = 20\n",
        "\n",
        "# Model prediction.\n",
        "def forward(x: torch.tensor) -> torch.tensor:\n",
        "    return torch.mul(x, w)\n",
        "\n",
        "# Loss function: MSE\n",
        "def loss_mse(y: torch.tensor, y_pred: torch.tensor) -> torch.tensor:\n",
        "    return torch.pow(torch.sub(y, y_pred), 2).mean()\n",
        "\n",
        "# Gradient.\n",
        "# MSE = 1/N * (w*x - y)**2\n",
        "# dJ/dw = 1/N 2x (x*w - y)\n",
        "def gradient(x: torch.tensor, y: torch.tensor, y_predicted: torch.tensor) -> torch.tensor:\n",
        "    return np.dot(torch.mul(x, 2), torch.sub(y_predicted, y)).mean()\n",
        "\n",
        "print(f\"Prediction before training: f({X_test}) = {forward(X_test):.3f}\")\n",
        "\n",
        "for epoch in range(1, num_epochs + 1):\n",
        "    # Prediction from the forward pass.\n",
        "    y_pred = forward(X)\n",
        "\n",
        "    # Loss computation.\n",
        "    l = loss_mse(Y, y_pred)\n",
        "\n",
        "    # Gradient computation.\n",
        "    dw = gradient(X, Y, y_pred)\n",
        "\n",
        "    # Update the weights.\n",
        "    w -= torch.mul(dw, learning_rate)\n",
        "\n",
        "    if epoch % (num_epochs//10) == 0:\n",
        "        print(f\"[Epoch {epoch}/{num_epochs}]:\\tw = {w:.3f},\\tmse_loss = {l:.8f}\")\n",
        "\n",
        "\n",
        "print(f\"\\nPrediction after training: f({X_test}) = {forward(X_test):.3f} (solution f({X_test})={Y_test})\")"
      ]
    },
    {
      "cell_type": "markdown",
      "id": "8dfe1e7e-e07f-4c9e-a2ed-9293714c6d98",
      "metadata": {
        "jp-MarkdownHeadingCollapsed": true,
        "tags": [],
        "id": "8dfe1e7e-e07f-4c9e-a2ed-9293714c6d98"
      },
      "source": [
        "### Gradients by Autograd"
      ]
    },
    {
      "cell_type": "code",
      "execution_count": 55,
      "id": "cad3939d-2596-49bf-a2ae-0bfb4b0283c9",
      "metadata": {
        "colab": {
          "base_uri": "https://localhost:8080/"
        },
        "id": "cad3939d-2596-49bf-a2ae-0bfb4b0283c9",
        "outputId": "de9c3397-62b7-46c5-fdca-d21ac35accfd"
      },
      "outputs": [
        {
          "output_type": "stream",
          "name": "stdout",
          "text": [
            "Prediction before training: f(5.0) = 0.000\n",
            "[Epoch 10/100]:\tw = 1.606,\tmse-loss = 1.60939169\n",
            "[Epoch 20/100]:\tw = 1.922,\tmse-loss = 0.06237914\n",
            "[Epoch 30/100]:\tw = 1.985,\tmse-loss = 0.00241778\n",
            "[Epoch 40/100]:\tw = 1.997,\tmse-loss = 0.00009371\n",
            "[Epoch 50/100]:\tw = 1.999,\tmse-loss = 0.00000363\n",
            "[Epoch 60/100]:\tw = 2.000,\tmse-loss = 0.00000014\n",
            "[Epoch 70/100]:\tw = 2.000,\tmse-loss = 0.00000001\n",
            "[Epoch 80/100]:\tw = 2.000,\tmse-loss = 0.00000000\n",
            "[Epoch 90/100]:\tw = 2.000,\tmse-loss = 0.00000000\n",
            "[Epoch 100/100]:\tw = 2.000,\tmse-loss = 0.00000000\n",
            "\n",
            "Prediction after training: f(5.0) = 10.000 (solution f(5.0)=10.0)\n"
          ]
        }
      ],
      "source": [
        "# f = w * x\n",
        "# f = 2 * x\n",
        "X_test: float = 5.\n",
        "Y_test: float = 2 * X_test\n",
        "X = torch.tensor([1, 2, 3, 4], dtype=torch.float32)\n",
        "Y = torch.tensor([2, 4, 6, 8], dtype=torch.float32)\n",
        "\n",
        "w = torch.tensor(.0, dtype=torch.float32, requires_grad=True)\n",
        "\n",
        "# Training\n",
        "learning_rate = 0.01\n",
        "num_epochs = 100\n",
        "\n",
        "# Model prediction.\n",
        "def forward(x: torch.tensor) -> torch.tensor:\n",
        "    return torch.mul(x, w)\n",
        "\n",
        "# Loss function: MSE\n",
        "def loss_mse(y: torch.tensor, y_pred: torch.tensor) -> torch.tensor:\n",
        "    return torch.pow(torch.sub(y, y_pred), 2).mean()\n",
        "\n",
        "print(f\"Prediction before training: f({X_test}) = {forward(X_test):.3f}\")\n",
        "\n",
        "for epoch in range(1, num_epochs + 1):\n",
        "    # Prediction from the forward pass.\n",
        "    y_pred = forward(X)\n",
        "\n",
        "    # Loss computation.\n",
        "    l = loss_mse(Y, y_pred)\n",
        "\n",
        "    # Gradient computation. Backward pass.\n",
        "    l.backward() # dl/dw\n",
        "\n",
        "    # Update the weights.\n",
        "    with torch.no_grad():\n",
        "        w -= torch.mul(w.grad, learning_rate)\n",
        "\n",
        "    # Reset the gradients.\n",
        "    w.grad.zero_()\n",
        "\n",
        "    if epoch % (num_epochs // 10) == 0:\n",
        "        print(f\"[Epoch {epoch}/{num_epochs}]:\\tw = {w:.3f},\\tmse-loss = {l:.8f}\")\n",
        "\n",
        "\n",
        "print(f\"\\nPrediction after training: f({X_test}) = {forward(X_test):.3f} (solution f({X_test})={Y_test})\")"
      ]
    },
    {
      "cell_type": "markdown",
      "id": "56a52e50-e6da-443c-a33a-dec1c34a89e1",
      "metadata": {
        "id": "56a52e50-e6da-443c-a33a-dec1c34a89e1"
      },
      "source": [
        "### Using `torch.nn`"
      ]
    },
    {
      "cell_type": "code",
      "execution_count": 56,
      "id": "5506c9ed-0af1-4988-af3d-c8f41e9ce96e",
      "metadata": {
        "id": "5506c9ed-0af1-4988-af3d-c8f41e9ce96e"
      },
      "outputs": [],
      "source": [
        "# 1) Design the model (input, output size, forward pass)\n",
        "# 2) Construct the loss and optimizer\n",
        "# 3) Training loop:\n",
        "# - forward pass: compute prediction\n",
        "# - backward pass: gradients\n",
        "# - update weights"
      ]
    },
    {
      "cell_type": "code",
      "execution_count": 57,
      "id": "4a420f99-6929-417b-9491-794033a38d10",
      "metadata": {
        "colab": {
          "base_uri": "https://localhost:8080/"
        },
        "id": "4a420f99-6929-417b-9491-794033a38d10",
        "outputId": "5f681d5f-d349-4189-d526-0d216ec1959c"
      },
      "outputs": [
        {
          "output_type": "stream",
          "name": "stdout",
          "text": [
            "Prediction before training: f(tensor([5.])) = 2.544\n",
            "[Epoch 10/100]:\tw = 0.000,\tloss = 0.66409701,\tmy mse = 0.66409701\n",
            "[Epoch 20/100]:\tw = 0.000,\tloss = 0.07883577,\tmy mse = 0.07883577\n",
            "[Epoch 30/100]:\tw = 0.000,\tloss = 0.06010496,\tmy mse = 0.06010496\n",
            "[Epoch 40/100]:\tw = 0.000,\tloss = 0.05624063,\tmy mse = 0.05624063\n",
            "[Epoch 50/100]:\tw = 0.000,\tloss = 0.05295770,\tmy mse = 0.05295770\n",
            "[Epoch 60/100]:\tw = 0.000,\tloss = 0.04987501,\tmy mse = 0.04987501\n",
            "[Epoch 70/100]:\tw = 0.000,\tloss = 0.04697203,\tmy mse = 0.04697203\n",
            "[Epoch 80/100]:\tw = 0.000,\tloss = 0.04423805,\tmy mse = 0.04423805\n",
            "[Epoch 90/100]:\tw = 0.000,\tloss = 0.04166310,\tmy mse = 0.04166310\n",
            "[Epoch 100/100]:\tw = 0.000,\tloss = 0.03923812,\tmy mse = 0.03923812\n",
            "\n",
            "Prediction after training: f(tensor([5.])) = 9.661 (solution f(tensor([5.]))=tensor([10.]))\n"
          ]
        }
      ],
      "source": [
        "X_test: torch.tensor = torch.tensor([5], dtype=torch.float32)\n",
        "Y_test: torch.tensor = torch.mul(X_test, 2)\n",
        "X = torch.tensor([[1], [2], [3], [4]], dtype=torch.float32)\n",
        "Y = torch.tensor([[2], [4], [6], [8]], dtype=torch.float32)\n",
        "w = torch.tensor(0.0, dtype=torch.float32, requires_grad=True)\n",
        "\n",
        "n_samples, n_features = X.shape\n",
        "input_size  = n_features\n",
        "output_size = n_features\n",
        "\n",
        "# Hyperparameters.\n",
        "learning_rate = 0.01\n",
        "num_epochs = 100\n",
        "\n",
        "# Model definition.\n",
        "model = nn.Linear(input_size, output_size)\n",
        "\n",
        "print(f\"Prediction before training: f({X_test}) = {model(X_test).item():.3f}\")\n",
        "\n",
        "# Loss definition.\n",
        "loss = nn.MSELoss()\n",
        "# Optimizer definition.\n",
        "optimizer = torch.optim.SGD(model.parameters(), lr=learning_rate)\n",
        "\n",
        "for epoch in range(1, num_epochs + 1):\n",
        "    # Prediction from the forward pass.\n",
        "    y_pred = model(X)\n",
        "\n",
        "    # Loss computation.\n",
        "    l = loss(Y, y_pred)\n",
        "    mse = torch.pow(torch.sub(Y, y_pred), 2).mean()\n",
        "\n",
        "    # Gradient computation. Backward pass.\n",
        "    l.backward() # dl/dw\n",
        "\n",
        "    # Update the weights.\n",
        "    optimizer.step()\n",
        "\n",
        "    # Reset the gradients.\n",
        "    optimizer.zero_grad()\n",
        "\n",
        "    if epoch % (num_epochs // 10) == 0:\n",
        "        print(f\"[Epoch {epoch}/{num_epochs}]:\\tw = {w:.3f},\\tloss = {l:.8f},\\tmy mse = {mse:.8f}\")\n",
        "\n",
        "print(f\"\\nPrediction after training: f({X_test}) = {model(X_test).item():.3f} (solution f({X_test})={Y_test})\")"
      ]
    },
    {
      "cell_type": "markdown",
      "source": [
        "### Custom module definition"
      ],
      "metadata": {
        "id": "VX1ijyd3J73m"
      },
      "id": "VX1ijyd3J73m"
    },
    {
      "cell_type": "code",
      "source": [
        "X_test: torch.tensor = torch.tensor([5], dtype=torch.float32)\n",
        "Y_test: torch.tensor = torch.mul(X_test, 2)\n",
        "X = torch.tensor([[1], [2], [3], [4]], dtype=torch.float32)\n",
        "Y = torch.tensor([[2], [4], [6], [8]], dtype=torch.float32)\n",
        "w = torch.tensor(0.0, dtype=torch.float32, requires_grad=True)\n",
        "\n",
        "n_samples, n_features = X.shape\n",
        "input_size  = n_features\n",
        "output_size = n_features\n",
        "\n",
        "# Hyperparameters.\n",
        "learning_rate = 0.01\n",
        "num_epochs = 100\n",
        "\n",
        "# Model definition.\n",
        "class MyLinearRegression(nn.Module):\n",
        "    def __init__(self, input_dim, output_dim):\n",
        "        super(MyLinearRegression, self).__init__()\n",
        "\n",
        "        # Layer definitions.\n",
        "        self.lin = nn.Linear(input_dim, output_dim)\n",
        "\n",
        "    def forward(self, x):\n",
        "        return self.lin(x)\n",
        "\n",
        "\n",
        "module = MyLinearRegression(input_size, output_size)\n",
        "\n",
        "print(f\"Prediction before training: f({X_test}) = {model(X_test).item():.3f}\")\n",
        "\n",
        "# Loss definition.\n",
        "loss = nn.MSELoss()\n",
        "# Optimizer definition.\n",
        "optimizer = torch.optim.SGD(model.parameters(), lr=learning_rate)\n",
        "\n",
        "for epoch in range(1, num_epochs + 1):\n",
        "    # Prediction from the forward pass.\n",
        "    y_pred = model(X)\n",
        "\n",
        "    # Loss computation.\n",
        "    l = loss(Y, y_pred)\n",
        "\n",
        "    # Gradient computation. Backward pass.\n",
        "    l.backward() # dl/dw\n",
        "\n",
        "    # Update the weights.\n",
        "    optimizer.step()\n",
        "\n",
        "    # Reset the gradients.\n",
        "    optimizer.zero_grad()\n",
        "\n",
        "    if epoch % (num_epochs // 10) == 0:\n",
        "        print(f\"[Epoch {epoch}/{num_epochs}]:\\tw = {w:.3f},\\tloss = {l:.8f}\")\n",
        "\n",
        "print(f\"\\nPrediction after training: f({X_test}) = {model(X_test).item():.3f} (solution f({X_test})={Y_test})\")"
      ],
      "metadata": {
        "colab": {
          "base_uri": "https://localhost:8080/"
        },
        "id": "NlctSB1ZKCgm",
        "outputId": "ccd5307d-d630-42c5-c493-cfd124e4f581"
      },
      "id": "NlctSB1ZKCgm",
      "execution_count": 58,
      "outputs": [
        {
          "output_type": "stream",
          "name": "stdout",
          "text": [
            "Prediction before training: f(tensor([5.])) = 9.661\n",
            "[Epoch 10/100]:\tw = 0.000,\tloss = 0.03695425\n",
            "[Epoch 20/100]:\tw = 0.000,\tloss = 0.03480332\n",
            "[Epoch 30/100]:\tw = 0.000,\tloss = 0.03277760\n",
            "[Epoch 40/100]:\tw = 0.000,\tloss = 0.03086976\n",
            "[Epoch 50/100]:\tw = 0.000,\tloss = 0.02907300\n",
            "[Epoch 60/100]:\tw = 0.000,\tloss = 0.02738077\n",
            "[Epoch 70/100]:\tw = 0.000,\tloss = 0.02578708\n",
            "[Epoch 80/100]:\tw = 0.000,\tloss = 0.02428614\n",
            "[Epoch 90/100]:\tw = 0.000,\tloss = 0.02287254\n",
            "[Epoch 100/100]:\tw = 0.000,\tloss = 0.02154126\n",
            "\n",
            "Prediction after training: f(tensor([5.])) = 9.749 (solution f(tensor([5.]))=tensor([10.]))\n"
          ]
        }
      ]
    },
    {
      "cell_type": "markdown",
      "source": [
        "# Example models"
      ],
      "metadata": {
        "id": "Qr3pxwuLkaR7"
      },
      "id": "Qr3pxwuLkaR7"
    },
    {
      "cell_type": "markdown",
      "source": [
        "## Regression"
      ],
      "metadata": {
        "id": "F7_bC4V4kbuN"
      },
      "id": "F7_bC4V4kbuN"
    },
    {
      "cell_type": "markdown",
      "source": [
        "### Linear Regression"
      ],
      "metadata": {
        "id": "96GlYQF_OTlx"
      },
      "id": "96GlYQF_OTlx"
    },
    {
      "cell_type": "code",
      "source": [
        "import torch\n",
        "import torch.nn as nn\n",
        "import numpy as np\n",
        "from sklearn import datasets\n",
        "import matplotlib.pyplot as plt\n",
        "\n",
        "# 0) Data preparation.\n",
        "noise = 20\n",
        "X_numpy, y_numpy = datasets.make_regression(n_samples=100, n_features=1, noise=noise, random_state=42)\n",
        "X = torch.from_numpy(X_numpy.astype(np.float32))\n",
        "y = torch.from_numpy(y_numpy.astype(np.float32))\n",
        "# Reshape the tensor as flat tensor.\n",
        "y = y.view(y.shape[0], 1)\n",
        "\n",
        "n_samples, n_features = X.shape\n",
        "\n",
        "# 1) Model definition.\n",
        "input_size: int = n_features\n",
        "output_size: int = 1\n",
        "model = nn.Linear(in_features=input_size, out_features=output_size)\n",
        "\n",
        "# 2) Loss and optimizer.\n",
        "learning_rate: float = .01\n",
        "criterion = nn.MSELoss()\n",
        "optimizer = torch.optim.SGD(model.parameters(), lr=learning_rate)\n",
        "\n",
        "# 3) Training Loop. (Forward pass, backward pass, weight update.)\n",
        "num_epochs = 100\n",
        "for epoch in range(1, num_epochs + 1):\n",
        "    # Forward pass.\n",
        "    y_predicted = model(X)\n",
        "\n",
        "    # Loss computation.\n",
        "    loss = criterion(y_predicted, y)\n",
        "\n",
        "    # Backward pass.\n",
        "    loss.backward()\n",
        "\n",
        "    # Weight update.\n",
        "    optimizer.step()\n",
        "\n",
        "    # Empty the gradients.\n",
        "    optimizer.zero_grad()\n",
        "\n",
        "    # Print information.\n",
        "    if epoch % 10 == 0:\n",
        "        print(f\"[Epoch: {epoch}/{num_epochs}]:\\tLoss = {loss.item():.4f}\")"
      ],
      "metadata": {
        "colab": {
          "base_uri": "https://localhost:8080/"
        },
        "id": "PW2xqAiSOXa6",
        "outputId": "a3c90110-cf3f-42ce-8de9-e0cc77d656c3"
      },
      "id": "PW2xqAiSOXa6",
      "execution_count": 59,
      "outputs": [
        {
          "output_type": "stream",
          "name": "stdout",
          "text": [
            "[Epoch: 10/100]:\tLoss = 1697.9500\n",
            "[Epoch: 20/100]:\tLoss = 1306.4099\n",
            "[Epoch: 30/100]:\tLoss = 1026.6476\n",
            "[Epoch: 40/100]:\tLoss = 826.3743\n",
            "[Epoch: 50/100]:\tLoss = 682.7519\n",
            "[Epoch: 60/100]:\tLoss = 579.5865\n",
            "[Epoch: 70/100]:\tLoss = 505.3692\n",
            "[Epoch: 80/100]:\tLoss = 451.9020\n",
            "[Epoch: 90/100]:\tLoss = 413.3337\n",
            "[Epoch: 100/100]:\tLoss = 385.4795\n"
          ]
        }
      ]
    },
    {
      "cell_type": "code",
      "source": [
        "# Plot the loss development\n",
        "predicted = model(X).detach().numpy()\n",
        "plt.plot(X_numpy, y_numpy, 'ro', label=f'True values (noise = {noise})')\n",
        "plt.plot(X_numpy, predicted, 'b', label='Model prediction')\n",
        "plt.legend()\n",
        "plt.show()"
      ],
      "metadata": {
        "colab": {
          "base_uri": "https://localhost:8080/",
          "height": 430
        },
        "id": "MTxDwUPNeTb_",
        "outputId": "c19de96c-3a4f-4d07-d36f-02d91a6783c3"
      },
      "id": "MTxDwUPNeTb_",
      "execution_count": 60,
      "outputs": [
        {
          "output_type": "display_data",
          "data": {
            "text/plain": [
              "<Figure size 640x480 with 1 Axes>"
            ],
            "image/png": "[encoded data removed]"
          },
          "metadata": {}
        }
      ]
    },
    {
      "cell_type": "markdown",
      "id": "53d2c86f-b74c-4d60-a1bb-7fdc40fd06e7",
      "metadata": {
        "id": "53d2c86f-b74c-4d60-a1bb-7fdc40fd06e7"
      },
      "source": [
        "### Logistic Regression"
      ]
    },
    {
      "cell_type": "code",
      "source": [
        "from sklearn import datasets\n",
        "from sklearn.preprocessing import StandardScaler\n",
        "from sklearn.model_selection import train_test_split\n",
        "\n",
        "### 0) Data preparation.\n",
        "dataset = datasets.load_breast_cancer()\n",
        "X, y = dataset.data, dataset.target\n",
        "n_samples, n_features = X.shape\n",
        "\n",
        "# Split the data in training and testing samples.\n",
        "X_train, X_test, y_train, y_test = train_test_split(X, y, test_size=.2, random_state=42)\n",
        "\n",
        "# Adjust the scaling of the features to have zero mean and zero variance.\n",
        "sc = StandardScaler()\n",
        "X_train = sc.fit_transform(X_train)\n",
        "X_test  = sc.transform(X_test)\n",
        "\n",
        "# Convert the data to torch.tensor.\n",
        "X_train = torch.from_numpy(X_train.astype(np.float32))\n",
        "X_test  = torch.from_numpy(X_test.astype(np.float32))\n",
        "y_train = torch.from_numpy(y_train.astype(np.float32))\n",
        "y_test  = torch.from_numpy(y_test.astype(np.float32))\n",
        "\n",
        "# Reshape the target tensor to a column vector.\n",
        "y_train = y_train.view(y_train.shape[0], 1)\n",
        "y_test  = y_test.view(y_test.shape[0], 1)\n",
        "\n",
        "### 1) Model definition.\n",
        "class LogisticRegression(nn.Module):\n",
        "    def __init__(self, n_input_features):\n",
        "        super(LogisticRegression, self).__init__()\n",
        "        self.linear = nn.Linear(n_input_features, 1)\n",
        "\n",
        "    def forward(self, x: torch.Tensor) -> torch.Tensor:\n",
        "        y_predicted = torch.sigmoid(self.linear(x))\n",
        "        return y_predicted\n",
        "\n",
        "input_size: int = n_features\n",
        "output_size: int = 1\n",
        "model = LogisticRegression(n_input_features=n_features)\n",
        "\n",
        "### 2) Loss and optimizer.\n",
        "learning_rate: float = .01\n",
        "criterion = nn.BCELoss()\n",
        "optimizer = torch.optim.SGD(model.parameters(), lr=learning_rate)\n",
        "\n",
        "### 3) Training Loop. (Forward pass, backward pass, weight update.)\n",
        "num_epochs = 100\n",
        "for epoch in range(1, num_epochs + 1):\n",
        "    # Forward pass.\n",
        "    y_predicted = model(X_train)\n",
        "\n",
        "    # Loss computation.\n",
        "    loss = criterion(y_predicted, y_train)\n",
        "\n",
        "    # Backward pass.\n",
        "    loss.backward()\n",
        "\n",
        "    # Weight update.\n",
        "    optimizer.step()\n",
        "\n",
        "    # Empty the gradients.\n",
        "    optimizer.zero_grad()\n",
        "\n",
        "    # Print information.\n",
        "    if epoch % 10 == 0:\n",
        "        print(f\"[Epoch: {epoch}/{num_epochs}]:\\tLoss = {loss.item():.4f}\")\n",
        "\n",
        "### 4) Evaluation\n",
        "with torch.no_grad():\n",
        "    y_test_pred = model(X_test)\n",
        "    # Round the class predictions to classes [0, 1]\n",
        "    y_test_pred_classes = y_test_pred.round()\n",
        "    num_classes: int = len(set(y_train.flatten().numpy()))\n",
        "\n",
        "    acc = y_test_pred_classes.eq(y_test).sum() / float(y_test.shape[0])\n",
        "    print(f\"Accuracy = {acc*100:.2f} %\")"
      ],
      "metadata": {
        "id": "p3-JQi3QkRNc",
        "colab": {
          "base_uri": "https://localhost:8080/"
        },
        "outputId": "9d94643c-81e2-423e-879d-813b1671f491"
      },
      "id": "p3-JQi3QkRNc",
      "execution_count": 61,
      "outputs": [
        {
          "output_type": "stream",
          "name": "stdout",
          "text": [
            "[Epoch: 10/100]:\tLoss = 0.5727\n",
            "[Epoch: 20/100]:\tLoss = 0.4862\n",
            "[Epoch: 30/100]:\tLoss = 0.4291\n",
            "[Epoch: 40/100]:\tLoss = 0.3884\n",
            "[Epoch: 50/100]:\tLoss = 0.3576\n",
            "[Epoch: 60/100]:\tLoss = 0.3334\n",
            "[Epoch: 70/100]:\tLoss = 0.3137\n",
            "[Epoch: 80/100]:\tLoss = 0.2973\n",
            "[Epoch: 90/100]:\tLoss = 0.2834\n",
            "[Epoch: 100/100]:\tLoss = 0.2714\n",
            "Accuracy = 97.37 %\n"
          ]
        }
      ]
    },
    {
      "cell_type": "markdown",
      "source": [
        "#### PCA"
      ],
      "metadata": {
        "id": "J8lpwuTlhT7T"
      },
      "id": "J8lpwuTlhT7T"
    },
    {
      "cell_type": "code",
      "source": [
        "from sklearn.decomposition import PCA\n",
        "from sklearn.manifold import TSNE\n",
        "from mpl_toolkits.mplot3d import Axes3D\n",
        "import pandas as pd"
      ],
      "metadata": {
        "id": "G6xl8h_DaGo-"
      },
      "id": "G6xl8h_DaGo-",
      "execution_count": 62,
      "outputs": []
    },
    {
      "cell_type": "code",
      "source": [
        "# Define column names.\n",
        "feat_cols: List[str] = ['Feature'+str(i) for i in range(X_test.shape[1]) ]\n",
        "df = pd.DataFrame(X_test, columns=feat_cols)\n",
        "# Save the data to the DataFrame.\n",
        "df['y']      = y_test\n",
        "df['y_pred'] = y_test_pred_classes\n",
        "# Save the categorical string representation of the numerical labels.\n",
        "df['label']      = df['y'].apply(lambda i: str(i))\n",
        "df['label_pred'] = df['y_pred'].apply(lambda i: str(i))\n",
        "\n",
        "print('Size of the dataframe: {}'.format(df.shape))\n",
        "df.head()"
      ],
      "metadata": {
        "colab": {
          "base_uri": "https://localhost:8080/",
          "height": 273
        },
        "id": "BIT2xE7WZigX",
        "outputId": "1950f8ec-bc1c-4512-d3d7-9befa7c87df8"
      },
      "id": "BIT2xE7WZigX",
      "execution_count": 63,
      "outputs": [
        {
          "output_type": "stream",
          "name": "stdout",
          "text": [
            "Size of the dataframe: (114, 34)\n"
          ]
        },
        {
          "output_type": "execute_result",
          "data": {
            "text/plain": [
              "   Feature0  Feature1  Feature2  Feature3  Feature4  Feature5  Feature6  \\\n",
              "0 -0.466497 -0.137289 -0.444211 -0.486465  0.280850  0.041606 -0.111465   \n",
              "1  1.365363  0.498665  1.305511  1.341471 -0.406539 -0.013724  0.240637   \n",
              "2  0.380066  0.069220  0.404101  0.266596  0.967520  0.356414  0.726902   \n",
              "3 -0.486317 -0.353185 -0.428570 -0.526233  0.694290  0.533852 -0.144722   \n",
              "4 -0.729810 -1.113514 -0.709283 -0.709281  0.294512  0.159898 -0.271202   \n",
              "\n",
              "   Feature7  Feature8  Feature9  ...  Feature24  Feature25  Feature26  \\\n",
              "0 -0.264869  0.415241  0.135137  ...   0.480019  -0.096496  -0.035830   \n",
              "1  0.821449 -0.833981 -1.131215  ...  -0.530514  -0.123620  -0.028181   \n",
              "2  0.857221  0.437094 -0.666053  ...   1.000466  -0.086163   0.499625   \n",
              "3 -0.533686  0.000048  1.147386  ...   0.584109   0.065603  -0.163957   \n",
              "4 -0.587608  0.025542  0.703052  ...   0.128718  -0.264407  -0.453677   \n",
              "\n",
              "   Feature27  Feature28  Feature29    y  y_pred  label  label_pred  \n",
              "0  -0.194351   0.172757   0.203730  1.0     1.0    1.0         1.0  \n",
              "1   0.991779  -0.561211  -1.008389  0.0     0.0    0.0         0.0  \n",
              "2   0.570350  -0.107831  -0.206293  0.0     0.0    0.0         0.0  \n",
              "3  -0.620377  -0.553285   0.545322  1.0     1.0    1.0         1.0  \n",
              "4  -0.689644  -0.913135  -0.141789  1.0     1.0    1.0         1.0  \n",
              "\n",
              "[5 rows x 34 columns]"
            ],
            "text/html": [
              "\n",
              "  <div id=\"df-a101f3ef-33d7-4404-b961-2546d87f8b9c\" class=\"colab-df-container\">\n",
              "    <div>\n",
              "<style scoped>\n",
              "    .dataframe tbody tr th:only-of-type {\n",
              "        vertical-align: middle;\n",
              "    }\n",
              "\n",
              "    .dataframe tbody tr th {\n",
              "        vertical-align: top;\n",
              "    }\n",
              "\n",
              "    .dataframe thead th {\n",
              "        text-align: right;\n",
              "    }\n",
              "</style>\n",
              "<table border=\"1\" class=\"dataframe\">\n",
              "  <thead>\n",
              "    <tr style=\"text-align: right;\">\n",
              "      <th></th>\n",
              "      <th>Feature0</th>\n",
              "      <th>Feature1</th>\n",
              "      <th>Feature2</th>\n",
              "      <th>Feature3</th>\n",
              "      <th>Feature4</th>\n",
              "      <th>Feature5</th>\n",
              "      <th>Feature6</th>\n",
              "      <th>Feature7</th>\n",
              "      <th>Feature8</th>\n",
              "      <th>Feature9</th>\n",
              "      <th>...</th>\n",
              "      <th>Feature24</th>\n",
              "      <th>Feature25</th>\n",
              "      <th>Feature26</th>\n",
              "      <th>Feature27</th>\n",
              "      <th>Feature28</th>\n",
              "      <th>Feature29</th>\n",
              "      <th>y</th>\n",
              "      <th>y_pred</th>\n",
              "      <th>label</th>\n",
              "      <th>label_pred</th>\n",
              "    </tr>\n",
              "  </thead>\n",
              "  <tbody>\n",
              "    <tr>\n",
              "      <th>0</th>\n",
              "      <td>-0.466497</td>\n",
              "      <td>-0.137289</td>\n",
              "      <td>-0.444211</td>\n",
              "      <td>-0.486465</td>\n",
              "      <td>0.280850</td>\n",
              "      <td>0.041606</td>\n",
              "      <td>-0.111465</td>\n",
              "      <td>-0.264869</td>\n",
              "      <td>0.415241</td>\n",
              "      <td>0.135137</td>\n",
              "      <td>...</td>\n",
              "      <td>0.480019</td>\n",
              "      <td>-0.096496</td>\n",
              "      <td>-0.035830</td>\n",
              "      <td>-0.194351</td>\n",
              "      <td>0.172757</td>\n",
              "      <td>0.203730</td>\n",
              "      <td>1.0</td>\n",
              "      <td>1.0</td>\n",
              "      <td>1.0</td>\n",
              "      <td>1.0</td>\n",
              "    </tr>\n",
              "    <tr>\n",
              "      <th>1</th>\n",
              "      <td>1.365363</td>\n",
              "      <td>0.498665</td>\n",
              "      <td>1.305511</td>\n",
              "      <td>1.341471</td>\n",
              "      <td>-0.406539</td>\n",
              "      <td>-0.013724</td>\n",
              "      <td>0.240637</td>\n",
              "      <td>0.821449</td>\n",
              "      <td>-0.833981</td>\n",
              "      <td>-1.131215</td>\n",
              "      <td>...</td>\n",
              "      <td>-0.530514</td>\n",
              "      <td>-0.123620</td>\n",
              "      <td>-0.028181</td>\n",
              "      <td>0.991779</td>\n",
              "      <td>-0.561211</td>\n",
              "      <td>-1.008389</td>\n",
              "      <td>0.0</td>\n",
              "      <td>0.0</td>\n",
              "      <td>0.0</td>\n",
              "      <td>0.0</td>\n",
              "    </tr>\n",
              "    <tr>\n",
              "      <th>2</th>\n",
              "      <td>0.380066</td>\n",
              "      <td>0.069220</td>\n",
              "      <td>0.404101</td>\n",
              "      <td>0.266596</td>\n",
              "      <td>0.967520</td>\n",
              "      <td>0.356414</td>\n",
              "      <td>0.726902</td>\n",
              "      <td>0.857221</td>\n",
              "      <td>0.437094</td>\n",
              "      <td>-0.666053</td>\n",
              "      <td>...</td>\n",
              "      <td>1.000466</td>\n",
              "      <td>-0.086163</td>\n",
              "      <td>0.499625</td>\n",
              "      <td>0.570350</td>\n",
              "      <td>-0.107831</td>\n",
              "      <td>-0.206293</td>\n",
              "      <td>0.0</td>\n",
              "      <td>0.0</td>\n",
              "      <td>0.0</td>\n",
              "      <td>0.0</td>\n",
              "    </tr>\n",
              "    <tr>\n",
              "      <th>3</th>\n",
              "      <td>-0.486317</td>\n",
              "      <td>-0.353185</td>\n",
              "      <td>-0.428570</td>\n",
              "      <td>-0.526233</td>\n",
              "      <td>0.694290</td>\n",
              "      <td>0.533852</td>\n",
              "      <td>-0.144722</td>\n",
              "      <td>-0.533686</td>\n",
              "      <td>0.000048</td>\n",
              "      <td>1.147386</td>\n",
              "      <td>...</td>\n",
              "      <td>0.584109</td>\n",
              "      <td>0.065603</td>\n",
              "      <td>-0.163957</td>\n",
              "      <td>-0.620377</td>\n",
              "      <td>-0.553285</td>\n",
              "      <td>0.545322</td>\n",
              "      <td>1.0</td>\n",
              "      <td>1.0</td>\n",
              "      <td>1.0</td>\n",
              "      <td>1.0</td>\n",
              "    </tr>\n",
              "    <tr>\n",
              "      <th>4</th>\n",
              "      <td>-0.729810</td>\n",
              "      <td>-1.113514</td>\n",
              "      <td>-0.709283</td>\n",
              "      <td>-0.709281</td>\n",
              "      <td>0.294512</td>\n",
              "      <td>0.159898</td>\n",
              "      <td>-0.271202</td>\n",
              "      <td>-0.587608</td>\n",
              "      <td>0.025542</td>\n",
              "      <td>0.703052</td>\n",
              "      <td>...</td>\n",
              "      <td>0.128718</td>\n",
              "      <td>-0.264407</td>\n",
              "      <td>-0.453677</td>\n",
              "      <td>-0.689644</td>\n",
              "      <td>-0.913135</td>\n",
              "      <td>-0.141789</td>\n",
              "      <td>1.0</td>\n",
              "      <td>1.0</td>\n",
              "      <td>1.0</td>\n",
              "      <td>1.0</td>\n",
              "    </tr>\n",
              "  </tbody>\n",
              "</table>\n",
              "<p>5 rows × 34 columns</p>\n",
              "</div>\n",
              "    <div class=\"colab-df-buttons\">\n",
              "\n",
              "  <div class=\"colab-df-container\">\n",
              "    <button class=\"colab-df-convert\" onclick=\"convertToInteractive('df-a101f3ef-33d7-4404-b961-2546d87f8b9c')\"\n",
              "            title=\"Convert this dataframe to an interactive table.\"\n",
              "            style=\"display:none;\">\n",
              "\n",
              "  <svg xmlns=\"http://www.w3.org/2000/svg\" height=\"24px\" viewBox=\"0 -960 960 960\">\n",
              "    <path d=\"M120-120v-720h720v720H120Zm60-500h600v-160H180v160Zm220 220h160v-160H400v160Zm0 220h160v-160H400v160ZM180-400h160v-160H180v160Zm440 0h160v-160H620v160ZM180-180h160v-160H180v160Zm440 0h160v-160H620v160Z\"/>\n",
              "  </svg>\n",
              "    </button>\n",
              "\n",
              "  <style>\n",
              "    .colab-df-container {\n",
              "      display:flex;\n",
              "      gap: 12px;\n",
              "    }\n",
              "\n",
              "    .colab-df-convert {\n",
              "      background-color: #E8F0FE;\n",
              "      border: none;\n",
              "      border-radius: 50%;\n",
              "      cursor: pointer;\n",
              "      display: none;\n",
              "      fill: #1967D2;\n",
              "      height: 32px;\n",
              "      padding: 0 0 0 0;\n",
              "      width: 32px;\n",
              "    }\n",
              "\n",
              "    .colab-df-convert:hover {\n",
              "      background-color: #E2EBFA;\n",
              "      box-shadow: 0px 1px 2px rgba(60, 64, 67, 0.3), 0px 1px 3px 1px rgba(60, 64, 67, 0.15);\n",
              "      fill: #174EA6;\n",
              "    }\n",
              "\n",
              "    .colab-df-buttons div {\n",
              "      margin-bottom: 4px;\n",
              "    }\n",
              "\n",
              "    [theme=dark] .colab-df-convert {\n",
              "      background-color: #3B4455;\n",
              "      fill: #D2E3FC;\n",
              "    }\n",
              "\n",
              "    [theme=dark] .colab-df-convert:hover {\n",
              "      background-color: #434B5C;\n",
              "      box-shadow: 0px 1px 3px 1px rgba(0, 0, 0, 0.15);\n",
              "      filter: drop-shadow(0px 1px 2px rgba(0, 0, 0, 0.3));\n",
              "      fill: #FFFFFF;\n",
              "    }\n",
              "  </style>\n",
              "\n",
              "    <script>\n",
              "      const buttonEl =\n",
              "        document.querySelector('#df-a101f3ef-33d7-4404-b961-2546d87f8b9c button.colab-df-convert');\n",
              "      buttonEl.style.display =\n",
              "        google.colab.kernel.accessAllowed ? 'block' : 'none';\n",
              "\n",
              "      async function convertToInteractive(key) {\n",
              "        const element = document.querySelector('#df-a101f3ef-33d7-4404-b961-2546d87f8b9c');\n",
              "        const dataTable =\n",
              "          await google.colab.kernel.invokeFunction('convertToInteractive',\n",
              "                                                    [key], {});\n",
              "        if (!dataTable) return;\n",
              "\n",
              "        const docLinkHtml = 'Like what you see? Visit the ' +\n",
              "          '<a target=\"_blank\" href=https://colab.research.google.com/notebooks/data_table.ipynb>data table notebook</a>'\n",
              "          + ' to learn more about interactive tables.';\n",
              "        element.innerHTML = '';\n",
              "        dataTable['output_type'] = 'display_data';\n",
              "        await google.colab.output.renderOutput(dataTable, element);\n",
              "        const docLink = document.createElement('div');\n",
              "        docLink.innerHTML = docLinkHtml;\n",
              "        element.appendChild(docLink);\n",
              "      }\n",
              "    </script>\n",
              "  </div>\n",
              "\n",
              "\n",
              "<div id=\"df-c2cf65ba-5b5b-458c-8b32-6ca8c6c56e74\">\n",
              "  <button class=\"colab-df-quickchart\" onclick=\"quickchart('df-c2cf65ba-5b5b-458c-8b32-6ca8c6c56e74')\"\n",
              "            title=\"Suggest charts\"\n",
              "            style=\"display:none;\">\n",
              "\n",
              "<svg xmlns=\"http://www.w3.org/2000/svg\" height=\"24px\"viewBox=\"0 0 24 24\"\n",
              "     width=\"24px\">\n",
              "    <g>\n",
              "        <path d=\"M19 3H5c-1.1 0-2 .9-2 2v14c0 1.1.9 2 2 2h14c1.1 0 2-.9 2-2V5c0-1.1-.9-2-2-2zM9 17H7v-7h2v7zm4 0h-2V7h2v10zm4 0h-2v-4h2v4z\"/>\n",
              "    </g>\n",
              "</svg>\n",
              "  </button>\n",
              "\n",
              "<style>\n",
              "  .colab-df-quickchart {\n",
              "      --bg-color: #E8F0FE;\n",
              "      --fill-color: #1967D2;\n",
              "      --hover-bg-color: #E2EBFA;\n",
              "      --hover-fill-color: #174EA6;\n",
              "      --disabled-fill-color: #AAA;\n",
              "      --disabled-bg-color: #DDD;\n",
              "  }\n",
              "\n",
              "  [theme=dark] .colab-df-quickchart {\n",
              "      --bg-color: #3B4455;\n",
              "      --fill-color: #D2E3FC;\n",
              "      --hover-bg-color: #434B5C;\n",
              "      --hover-fill-color: #FFFFFF;\n",
              "      --disabled-bg-color: #3B4455;\n",
              "      --disabled-fill-color: #666;\n",
              "  }\n",
              "\n",
              "  .colab-df-quickchart {\n",
              "    background-color: var(--bg-color);\n",
              "    border: none;\n",
              "    border-radius: 50%;\n",
              "    cursor: pointer;\n",
              "    display: none;\n",
              "    fill: var(--fill-color);\n",
              "    height: 32px;\n",
              "    padding: 0;\n",
              "    width: 32px;\n",
              "  }\n",
              "\n",
              "  .colab-df-quickchart:hover {\n",
              "    background-color: var(--hover-bg-color);\n",
              "    box-shadow: 0 1px 2px rgba(60, 64, 67, 0.3), 0 1px 3px 1px rgba(60, 64, 67, 0.15);\n",
              "    fill: var(--button-hover-fill-color);\n",
              "  }\n",
              "\n",
              "  .colab-df-quickchart-complete:disabled,\n",
              "  .colab-df-quickchart-complete:disabled:hover {\n",
              "    background-color: var(--disabled-bg-color);\n",
              "    fill: var(--disabled-fill-color);\n",
              "    box-shadow: none;\n",
              "  }\n",
              "\n",
              "  .colab-df-spinner {\n",
              "    border: 2px solid var(--fill-color);\n",
              "    border-color: transparent;\n",
              "    border-bottom-color: var(--fill-color);\n",
              "    animation:\n",
              "      spin 1s steps(1) infinite;\n",
              "  }\n",
              "\n",
              "  @keyframes spin {\n",
              "    0% {\n",
              "      border-color: transparent;\n",
              "      border-bottom-color: var(--fill-color);\n",
              "      border-left-color: var(--fill-color);\n",
              "    }\n",
              "    20% {\n",
              "      border-color: transparent;\n",
              "      border-left-color: var(--fill-color);\n",
              "      border-top-color: var(--fill-color);\n",
              "    }\n",
              "    30% {\n",
              "      border-color: transparent;\n",
              "      border-left-color: var(--fill-color);\n",
              "      border-top-color: var(--fill-color);\n",
              "      border-right-color: var(--fill-color);\n",
              "    }\n",
              "    40% {\n",
              "      border-color: transparent;\n",
              "      border-right-color: var(--fill-color);\n",
              "      border-top-color: var(--fill-color);\n",
              "    }\n",
              "    60% {\n",
              "      border-color: transparent;\n",
              "      border-right-color: var(--fill-color);\n",
              "    }\n",
              "    80% {\n",
              "      border-color: transparent;\n",
              "      border-right-color: var(--fill-color);\n",
              "      border-bottom-color: var(--fill-color);\n",
              "    }\n",
              "    90% {\n",
              "      border-color: transparent;\n",
              "      border-bottom-color: var(--fill-color);\n",
              "    }\n",
              "  }\n",
              "</style>\n",
              "\n",
              "  <script>\n",
              "    async function quickchart(key) {\n",
              "      const quickchartButtonEl =\n",
              "        document.querySelector('#' + key + ' button');\n",
              "      quickchartButtonEl.disabled = true;  // To prevent multiple clicks.\n",
              "      quickchartButtonEl.classList.add('colab-df-spinner');\n",
              "      try {\n",
              "        const charts = await google.colab.kernel.invokeFunction(\n",
              "            'suggestCharts', [key], {});\n",
              "      } catch (error) {\n",
              "        console.error('Error during call to suggestCharts:', error);\n",
              "      }\n",
              "      quickchartButtonEl.classList.remove('colab-df-spinner');\n",
              "      quickchartButtonEl.classList.add('colab-df-quickchart-complete');\n",
              "    }\n",
              "    (() => {\n",
              "      let quickchartButtonEl =\n",
              "        document.querySelector('#df-c2cf65ba-5b5b-458c-8b32-6ca8c6c56e74 button');\n",
              "      quickchartButtonEl.style.display =\n",
              "        google.colab.kernel.accessAllowed ? 'block' : 'none';\n",
              "    })();\n",
              "  </script>\n",
              "</div>\n",
              "    </div>\n",
              "  </div>\n"
            ]
          },
          "metadata": {},
          "execution_count": 63
        }
      ]
    },
    {
      "cell_type": "code",
      "source": [
        "# Only consider a subset of the dataset for plotting.\n",
        "# Therefore consider randomly permutate the rows of the DataFrame.\n",
        "np.random.seed(42)\n",
        "random_permutation = np.random.permutation(df.shape[0])"
      ],
      "metadata": {
        "id": "euKuiUw8Zl1P"
      },
      "id": "euKuiUw8Zl1P",
      "execution_count": 64,
      "outputs": []
    },
    {
      "cell_type": "code",
      "source": [
        "n_components: int = 4\n",
        "\n",
        "pca = PCA(n_components=n_components)\n",
        "# Apply PCA to the DataFrame.\n",
        "pca_result = pca.fit_transform(df[feat_cols].values)\n",
        "\n",
        "# Save the analysis in new columns for each component.\n",
        "component_name_pattern: str = \"pca-{}\"\n",
        "for i in range(n_components):\n",
        "    df[component_name_pattern.format(i)] = pca_result[:,i]\n",
        "\n",
        "# Get the components with the highest evaluation.\n",
        "pc_ratios = [x for x in pca.explained_variance_ratio_]\n",
        "print(f'Explained variation explained by each principal component:')\n",
        "for i in range(n_components):\n",
        "    print(f\"{component_name_pattern.format(i)}:\\t{pc_ratios[i]*100:.2f}\\t%\")\n",
        "\n",
        "df.head()"
      ],
      "metadata": {
        "colab": {
          "base_uri": "https://localhost:8080/",
          "height": 342
        },
        "id": "r10wot2JbAbc",
        "outputId": "4a2ba341-3bde-4798-fc91-64b3b295044c"
      },
      "id": "r10wot2JbAbc",
      "execution_count": 65,
      "outputs": [
        {
          "output_type": "stream",
          "name": "stdout",
          "text": [
            "Explained variation explained by each principal component:\n",
            "pca-0:\t49.32\t%\n",
            "pca-1:\t16.86\t%\n",
            "pca-2:\t9.33\t%\n",
            "pca-3:\t7.98\t%\n"
          ]
        },
        {
          "output_type": "execute_result",
          "data": {
            "text/plain": [
              "   Feature0  Feature1  Feature2  Feature3  Feature4  Feature5  Feature6  \\\n",
              "0 -0.466497 -0.137289 -0.444211 -0.486465  0.280850  0.041606 -0.111465   \n",
              "1  1.365363  0.498665  1.305511  1.341471 -0.406539 -0.013724  0.240637   \n",
              "2  0.380066  0.069220  0.404101  0.266596  0.967520  0.356414  0.726902   \n",
              "3 -0.486317 -0.353185 -0.428570 -0.526233  0.694290  0.533852 -0.144722   \n",
              "4 -0.729810 -1.113514 -0.709283 -0.709281  0.294512  0.159898 -0.271202   \n",
              "\n",
              "   Feature7  Feature8  Feature9  ...  Feature28  Feature29    y  y_pred  \\\n",
              "0 -0.264869  0.415241  0.135137  ...   0.172757   0.203730  1.0     1.0   \n",
              "1  0.821449 -0.833981 -1.131215  ...  -0.561211  -1.008389  0.0     0.0   \n",
              "2  0.857221  0.437094 -0.666053  ...  -0.107831  -0.206293  0.0     0.0   \n",
              "3 -0.533686  0.000048  1.147386  ...  -0.553285   0.545322  1.0     1.0   \n",
              "4 -0.587608  0.025542  0.703052  ...  -0.913135  -0.141789  1.0     1.0   \n",
              "\n",
              "   label  label_pred     pca-0     pca-1     pca-2     pca-3  \n",
              "0    1.0         1.0 -0.912695  0.678834 -0.589601  0.203657  \n",
              "1    0.0         0.0  2.852681 -4.166322 -0.764559 -1.015197  \n",
              "2    0.0         0.0  1.427427 -0.659277 -1.256862 -0.212558  \n",
              "3    1.0         1.0 -1.171947  2.198449  0.207094  0.176720  \n",
              "4    1.0         1.0 -2.002476  1.897065  0.346958 -0.764893  \n",
              "\n",
              "[5 rows x 38 columns]"
            ],
            "text/html": [
              "\n",
              "  <div id=\"df-2eba36e8-eee3-4e92-8369-b0da261f6000\" class=\"colab-df-container\">\n",
              "    <div>\n",
              "<style scoped>\n",
              "    .dataframe tbody tr th:only-of-type {\n",
              "        vertical-align: middle;\n",
              "    }\n",
              "\n",
              "    .dataframe tbody tr th {\n",
              "        vertical-align: top;\n",
              "    }\n",
              "\n",
              "    .dataframe thead th {\n",
              "        text-align: right;\n",
              "    }\n",
              "</style>\n",
              "<table border=\"1\" class=\"dataframe\">\n",
              "  <thead>\n",
              "    <tr style=\"text-align: right;\">\n",
              "      <th></th>\n",
              "      <th>Feature0</th>\n",
              "      <th>Feature1</th>\n",
              "      <th>Feature2</th>\n",
              "      <th>Feature3</th>\n",
              "      <th>Feature4</th>\n",
              "      <th>Feature5</th>\n",
              "      <th>Feature6</th>\n",
              "      <th>Feature7</th>\n",
              "      <th>Feature8</th>\n",
              "      <th>Feature9</th>\n",
              "      <th>...</th>\n",
              "      <th>Feature28</th>\n",
              "      <th>Feature29</th>\n",
              "      <th>y</th>\n",
              "      <th>y_pred</th>\n",
              "      <th>label</th>\n",
              "      <th>label_pred</th>\n",
              "      <th>pca-0</th>\n",
              "      <th>pca-1</th>\n",
              "      <th>pca-2</th>\n",
              "      <th>pca-3</th>\n",
              "    </tr>\n",
              "  </thead>\n",
              "  <tbody>\n",
              "    <tr>\n",
              "      <th>0</th>\n",
              "      <td>-0.466497</td>\n",
              "      <td>-0.137289</td>\n",
              "      <td>-0.444211</td>\n",
              "      <td>-0.486465</td>\n",
              "      <td>0.280850</td>\n",
              "      <td>0.041606</td>\n",
              "      <td>-0.111465</td>\n",
              "      <td>-0.264869</td>\n",
              "      <td>0.415241</td>\n",
              "      <td>0.135137</td>\n",
              "      <td>...</td>\n",
              "      <td>0.172757</td>\n",
              "      <td>0.203730</td>\n",
              "      <td>1.0</td>\n",
              "      <td>1.0</td>\n",
              "      <td>1.0</td>\n",
              "      <td>1.0</td>\n",
              "      <td>-0.912695</td>\n",
              "      <td>0.678834</td>\n",
              "      <td>-0.589601</td>\n",
              "      <td>0.203657</td>\n",
              "    </tr>\n",
              "    <tr>\n",
              "      <th>1</th>\n",
              "      <td>1.365363</td>\n",
              "      <td>0.498665</td>\n",
              "      <td>1.305511</td>\n",
              "      <td>1.341471</td>\n",
              "      <td>-0.406539</td>\n",
              "      <td>-0.013724</td>\n",
              "      <td>0.240637</td>\n",
              "      <td>0.821449</td>\n",
              "      <td>-0.833981</td>\n",
              "      <td>-1.131215</td>\n",
              "      <td>...</td>\n",
              "      <td>-0.561211</td>\n",
              "      <td>-1.008389</td>\n",
              "      <td>0.0</td>\n",
              "      <td>0.0</td>\n",
              "      <td>0.0</td>\n",
              "      <td>0.0</td>\n",
              "      <td>2.852681</td>\n",
              "      <td>-4.166322</td>\n",
              "      <td>-0.764559</td>\n",
              "      <td>-1.015197</td>\n",
              "    </tr>\n",
              "    <tr>\n",
              "      <th>2</th>\n",
              "      <td>0.380066</td>\n",
              "      <td>0.069220</td>\n",
              "      <td>0.404101</td>\n",
              "      <td>0.266596</td>\n",
              "      <td>0.967520</td>\n",
              "      <td>0.356414</td>\n",
              "      <td>0.726902</td>\n",
              "      <td>0.857221</td>\n",
              "      <td>0.437094</td>\n",
              "      <td>-0.666053</td>\n",
              "      <td>...</td>\n",
              "      <td>-0.107831</td>\n",
              "      <td>-0.206293</td>\n",
              "      <td>0.0</td>\n",
              "      <td>0.0</td>\n",
              "      <td>0.0</td>\n",
              "      <td>0.0</td>\n",
              "      <td>1.427427</td>\n",
              "      <td>-0.659277</td>\n",
              "      <td>-1.256862</td>\n",
              "      <td>-0.212558</td>\n",
              "    </tr>\n",
              "    <tr>\n",
              "      <th>3</th>\n",
              "      <td>-0.486317</td>\n",
              "      <td>-0.353185</td>\n",
              "      <td>-0.428570</td>\n",
              "      <td>-0.526233</td>\n",
              "      <td>0.694290</td>\n",
              "      <td>0.533852</td>\n",
              "      <td>-0.144722</td>\n",
              "      <td>-0.533686</td>\n",
              "      <td>0.000048</td>\n",
              "      <td>1.147386</td>\n",
              "      <td>...</td>\n",
              "      <td>-0.553285</td>\n",
              "      <td>0.545322</td>\n",
              "      <td>1.0</td>\n",
              "      <td>1.0</td>\n",
              "      <td>1.0</td>\n",
              "      <td>1.0</td>\n",
              "      <td>-1.171947</td>\n",
              "      <td>2.198449</td>\n",
              "      <td>0.207094</td>\n",
              "      <td>0.176720</td>\n",
              "    </tr>\n",
              "    <tr>\n",
              "      <th>4</th>\n",
              "      <td>-0.729810</td>\n",
              "      <td>-1.113514</td>\n",
              "      <td>-0.709283</td>\n",
              "      <td>-0.709281</td>\n",
              "      <td>0.294512</td>\n",
              "      <td>0.159898</td>\n",
              "      <td>-0.271202</td>\n",
              "      <td>-0.587608</td>\n",
              "      <td>0.025542</td>\n",
              "      <td>0.703052</td>\n",
              "      <td>...</td>\n",
              "      <td>-0.913135</td>\n",
              "      <td>-0.141789</td>\n",
              "      <td>1.0</td>\n",
              "      <td>1.0</td>\n",
              "      <td>1.0</td>\n",
              "      <td>1.0</td>\n",
              "      <td>-2.002476</td>\n",
              "      <td>1.897065</td>\n",
              "      <td>0.346958</td>\n",
              "      <td>-0.764893</td>\n",
              "    </tr>\n",
              "  </tbody>\n",
              "</table>\n",
              "<p>5 rows × 38 columns</p>\n",
              "</div>\n",
              "    <div class=\"colab-df-buttons\">\n",
              "\n",
              "  <div class=\"colab-df-container\">\n",
              "    <button class=\"colab-df-convert\" onclick=\"convertToInteractive('df-2eba36e8-eee3-4e92-8369-b0da261f6000')\"\n",
              "            title=\"Convert this dataframe to an interactive table.\"\n",
              "            style=\"display:none;\">\n",
              "\n",
              "  <svg xmlns=\"http://www.w3.org/2000/svg\" height=\"24px\" viewBox=\"0 -960 960 960\">\n",
              "    <path d=\"M120-120v-720h720v720H120Zm60-500h600v-160H180v160Zm220 220h160v-160H400v160Zm0 220h160v-160H400v160ZM180-400h160v-160H180v160Zm440 0h160v-160H620v160ZM180-180h160v-160H180v160Zm440 0h160v-160H620v160Z\"/>\n",
              "  </svg>\n",
              "    </button>\n",
              "\n",
              "  <style>\n",
              "    .colab-df-container {\n",
              "      display:flex;\n",
              "      gap: 12px;\n",
              "    }\n",
              "\n",
              "    .colab-df-convert {\n",
              "      background-color: #E8F0FE;\n",
              "      border: none;\n",
              "      border-radius: 50%;\n",
              "      cursor: pointer;\n",
              "      display: none;\n",
              "      fill: #1967D2;\n",
              "      height: 32px;\n",
              "      padding: 0 0 0 0;\n",
              "      width: 32px;\n",
              "    }\n",
              "\n",
              "    .colab-df-convert:hover {\n",
              "      background-color: #E2EBFA;\n",
              "      box-shadow: 0px 1px 2px rgba(60, 64, 67, 0.3), 0px 1px 3px 1px rgba(60, 64, 67, 0.15);\n",
              "      fill: #174EA6;\n",
              "    }\n",
              "\n",
              "    .colab-df-buttons div {\n",
              "      margin-bottom: 4px;\n",
              "    }\n",
              "\n",
              "    [theme=dark] .colab-df-convert {\n",
              "      background-color: #3B4455;\n",
              "      fill: #D2E3FC;\n",
              "    }\n",
              "\n",
              "    [theme=dark] .colab-df-convert:hover {\n",
              "      background-color: #434B5C;\n",
              "      box-shadow: 0px 1px 3px 1px rgba(0, 0, 0, 0.15);\n",
              "      filter: drop-shadow(0px 1px 2px rgba(0, 0, 0, 0.3));\n",
              "      fill: #FFFFFF;\n",
              "    }\n",
              "  </style>\n",
              "\n",
              "    <script>\n",
              "      const buttonEl =\n",
              "        document.querySelector('#df-2eba36e8-eee3-4e92-8369-b0da261f6000 button.colab-df-convert');\n",
              "      buttonEl.style.display =\n",
              "        google.colab.kernel.accessAllowed ? 'block' : 'none';\n",
              "\n",
              "      async function convertToInteractive(key) {\n",
              "        const element = document.querySelector('#df-2eba36e8-eee3-4e92-8369-b0da261f6000');\n",
              "        const dataTable =\n",
              "          await google.colab.kernel.invokeFunction('convertToInteractive',\n",
              "                                                    [key], {});\n",
              "        if (!dataTable) return;\n",
              "\n",
              "        const docLinkHtml = 'Like what you see? Visit the ' +\n",
              "          '<a target=\"_blank\" href=https://colab.research.google.com/notebooks/data_table.ipynb>data table notebook</a>'\n",
              "          + ' to learn more about interactive tables.';\n",
              "        element.innerHTML = '';\n",
              "        dataTable['output_type'] = 'display_data';\n",
              "        await google.colab.output.renderOutput(dataTable, element);\n",
              "        const docLink = document.createElement('div');\n",
              "        docLink.innerHTML = docLinkHtml;\n",
              "        element.appendChild(docLink);\n",
              "      }\n",
              "    </script>\n",
              "  </div>\n",
              "\n",
              "\n",
              "<div id=\"df-d6ed53b9-cf35-4aa0-b6c9-7da3d76c415a\">\n",
              "  <button class=\"colab-df-quickchart\" onclick=\"quickchart('df-d6ed53b9-cf35-4aa0-b6c9-7da3d76c415a')\"\n",
              "            title=\"Suggest charts\"\n",
              "            style=\"display:none;\">\n",
              "\n",
              "<svg xmlns=\"http://www.w3.org/2000/svg\" height=\"24px\"viewBox=\"0 0 24 24\"\n",
              "     width=\"24px\">\n",
              "    <g>\n",
              "        <path d=\"M19 3H5c-1.1 0-2 .9-2 2v14c0 1.1.9 2 2 2h14c1.1 0 2-.9 2-2V5c0-1.1-.9-2-2-2zM9 17H7v-7h2v7zm4 0h-2V7h2v10zm4 0h-2v-4h2v4z\"/>\n",
              "    </g>\n",
              "</svg>\n",
              "  </button>\n",
              "\n",
              "<style>\n",
              "  .colab-df-quickchart {\n",
              "      --bg-color: #E8F0FE;\n",
              "      --fill-color: #1967D2;\n",
              "      --hover-bg-color: #E2EBFA;\n",
              "      --hover-fill-color: #174EA6;\n",
              "      --disabled-fill-color: #AAA;\n",
              "      --disabled-bg-color: #DDD;\n",
              "  }\n",
              "\n",
              "  [theme=dark] .colab-df-quickchart {\n",
              "      --bg-color: #3B4455;\n",
              "      --fill-color: #D2E3FC;\n",
              "      --hover-bg-color: #434B5C;\n",
              "      --hover-fill-color: #FFFFFF;\n",
              "      --disabled-bg-color: #3B4455;\n",
              "      --disabled-fill-color: #666;\n",
              "  }\n",
              "\n",
              "  .colab-df-quickchart {\n",
              "    background-color: var(--bg-color);\n",
              "    border: none;\n",
              "    border-radius: 50%;\n",
              "    cursor: pointer;\n",
              "    display: none;\n",
              "    fill: var(--fill-color);\n",
              "    height: 32px;\n",
              "    padding: 0;\n",
              "    width: 32px;\n",
              "  }\n",
              "\n",
              "  .colab-df-quickchart:hover {\n",
              "    background-color: var(--hover-bg-color);\n",
              "    box-shadow: 0 1px 2px rgba(60, 64, 67, 0.3), 0 1px 3px 1px rgba(60, 64, 67, 0.15);\n",
              "    fill: var(--button-hover-fill-color);\n",
              "  }\n",
              "\n",
              "  .colab-df-quickchart-complete:disabled,\n",
              "  .colab-df-quickchart-complete:disabled:hover {\n",
              "    background-color: var(--disabled-bg-color);\n",
              "    fill: var(--disabled-fill-color);\n",
              "    box-shadow: none;\n",
              "  }\n",
              "\n",
              "  .colab-df-spinner {\n",
              "    border: 2px solid var(--fill-color);\n",
              "    border-color: transparent;\n",
              "    border-bottom-color: var(--fill-color);\n",
              "    animation:\n",
              "      spin 1s steps(1) infinite;\n",
              "  }\n",
              "\n",
              "  @keyframes spin {\n",
              "    0% {\n",
              "      border-color: transparent;\n",
              "      border-bottom-color: var(--fill-color);\n",
              "      border-left-color: var(--fill-color);\n",
              "    }\n",
              "    20% {\n",
              "      border-color: transparent;\n",
              "      border-left-color: var(--fill-color);\n",
              "      border-top-color: var(--fill-color);\n",
              "    }\n",
              "    30% {\n",
              "      border-color: transparent;\n",
              "      border-left-color: var(--fill-color);\n",
              "      border-top-color: var(--fill-color);\n",
              "      border-right-color: var(--fill-color);\n",
              "    }\n",
              "    40% {\n",
              "      border-color: transparent;\n",
              "      border-right-color: var(--fill-color);\n",
              "      border-top-color: var(--fill-color);\n",
              "    }\n",
              "    60% {\n",
              "      border-color: transparent;\n",
              "      border-right-color: var(--fill-color);\n",
              "    }\n",
              "    80% {\n",
              "      border-color: transparent;\n",
              "      border-right-color: var(--fill-color);\n",
              "      border-bottom-color: var(--fill-color);\n",
              "    }\n",
              "    90% {\n",
              "      border-color: transparent;\n",
              "      border-bottom-color: var(--fill-color);\n",
              "    }\n",
              "  }\n",
              "</style>\n",
              "\n",
              "  <script>\n",
              "    async function quickchart(key) {\n",
              "      const quickchartButtonEl =\n",
              "        document.querySelector('#' + key + ' button');\n",
              "      quickchartButtonEl.disabled = true;  // To prevent multiple clicks.\n",
              "      quickchartButtonEl.classList.add('colab-df-spinner');\n",
              "      try {\n",
              "        const charts = await google.colab.kernel.invokeFunction(\n",
              "            'suggestCharts', [key], {});\n",
              "      } catch (error) {\n",
              "        console.error('Error during call to suggestCharts:', error);\n",
              "      }\n",
              "      quickchartButtonEl.classList.remove('colab-df-spinner');\n",
              "      quickchartButtonEl.classList.add('colab-df-quickchart-complete');\n",
              "    }\n",
              "    (() => {\n",
              "      let quickchartButtonEl =\n",
              "        document.querySelector('#df-d6ed53b9-cf35-4aa0-b6c9-7da3d76c415a button');\n",
              "      quickchartButtonEl.style.display =\n",
              "        google.colab.kernel.accessAllowed ? 'block' : 'none';\n",
              "    })();\n",
              "  </script>\n",
              "</div>\n",
              "    </div>\n",
              "  </div>\n"
            ]
          },
          "metadata": {},
          "execution_count": 65
        }
      ]
    },
    {
      "cell_type": "code",
      "source": [
        "# Get all samples, where the true label and the prediction do not match.\n",
        "false_predicted = df.loc[df['y'] != df['y_pred']]\n",
        "false_predicted_tuples: List[Tuple] = list(false_predicted[[component_name_pattern.format(0), component_name_pattern.format(1)]].apply(tuple, axis=1))\n",
        "false_predicted_tuples"
      ],
      "metadata": {
        "colab": {
          "base_uri": "https://localhost:8080/"
        },
        "id": "KHN67O_hjppt",
        "outputId": "e71ddf9d-f5e0-4cd1-af53-c2300aff056f"
      },
      "id": "KHN67O_hjppt",
      "execution_count": 67,
      "outputs": [
        {
          "output_type": "execute_result",
          "data": {
            "text/plain": [
              "[(1.0157716274261475, 2.616331100463867),\n",
              " (-0.2967627942562103, 0.22140368819236755),\n",
              " (0.24111418426036835, 2.103433847427368)]"
            ]
          },
          "metadata": {},
          "execution_count": 67
        }
      ]
    },
    {
      "cell_type": "code",
      "source": [
        "# Plott the data in 2D\n",
        "plt.figure(figsize=(16,10))\n",
        "ax = sns.scatterplot(\n",
        "    x=component_name_pattern.format(0), y=component_name_pattern.format(1),\n",
        "    hue=\"y\",\n",
        "    style=\"y_pred\",\n",
        "    palette=sns.color_palette(\"hls\", num_classes),\n",
        "    data=df.loc[random_permutation,:],\n",
        "    legend=\"full\",\n",
        "    alpha=0.3\n",
        ")\n",
        "# Indicate all false predictions.\n",
        "for x in false_predicted_tuples:\n",
        "    ax.add_patch(plt.Circle(xy=x, radius=0.2, alpha=0.7, color='red', linestyle=':', fill=False))\n",
        "plt.title(f\"Plot of the two most important components (according to PCA)\\nand the {len(false_predicted_tuples)} false predicted samples\")\n",
        "plt.show()"
      ],
      "metadata": {
        "colab": {
          "base_uri": "https://localhost:8080/",
          "height": 893
        },
        "id": "bRGet2GKcqiE",
        "outputId": "554d578f-f0d6-471e-8cf7-7dff3b9017ab"
      },
      "id": "bRGet2GKcqiE",
      "execution_count": 68,
      "outputs": [
        {
          "output_type": "display_data",
          "data": {
            "text/plain": [
              "<Figure size 1600x1000 with 1 Axes>"
            ],
            "image/png": "[encoded data removed]"
          },
          "metadata": {}
        }
      ]
    },
    {
      "cell_type": "code",
      "source": [
        "selected_pcs = [component_name_pattern.format(i) for i in range(3)]\n",
        "\n",
        "# Plot the data in 3D\n",
        "ax = plt.figure(figsize=(16,10)).add_subplot(projection='3d')\n",
        "ax.scatter(\n",
        "    xs=df.loc[random_permutation,:][selected_pcs[0]],\n",
        "    ys=df.loc[random_permutation,:][selected_pcs[1]],\n",
        "    zs=df.loc[random_permutation,:][selected_pcs[2]],\n",
        "    c=df.loc[random_permutation,:][\"y\"],\n",
        "    cmap='tab10'\n",
        ")\n",
        "ax.set_xlabel(selected_pcs[0])\n",
        "ax.set_ylabel(selected_pcs[1])\n",
        "ax.set_zlabel(selected_pcs[2])\n",
        "plt.title(f\"PCA of three most important principal components (in 3D)\")\n",
        "plt.show()"
      ],
      "metadata": {
        "colab": {
          "base_uri": "https://localhost:8080/",
          "height": 829
        },
        "id": "r1RyLH3Uc7lY",
        "outputId": "31a0f04b-5f7c-4ab9-f3bd-f78b3b5dcae4"
      },
      "id": "r1RyLH3Uc7lY",
      "execution_count": 69,
      "outputs": [
        {
          "output_type": "display_data",
          "data": {
            "text/plain": [
              "<Figure size 1600x1000 with 1 Axes>"
            ],
            "image/png": "[encoded data removed]"
          },
          "metadata": {}
        }
      ]
    },
    {
      "cell_type": "markdown",
      "source": [
        "# Dataloaders"
      ],
      "metadata": {
        "id": "hLT-HBCwtxot"
      },
      "id": "hLT-HBCwtxot"
    },
    {
      "cell_type": "markdown",
      "source": [
        "Terminology: We call **iteration** a pass through a batch size. Thus each epoch consists of (*num_samples* / *batch_size*) many iterations."
      ],
      "metadata": {
        "id": "ZPf_DUwZxh_9"
      },
      "id": "ZPf_DUwZxh_9"
    },
    {
      "cell_type": "code",
      "source": [
        "from torch.utils.data import Dataset, DataLoader"
      ],
      "metadata": {
        "id": "UkrQdkMMtxZM"
      },
      "id": "UkrQdkMMtxZM",
      "execution_count": 70,
      "outputs": []
    },
    {
      "cell_type": "code",
      "source": [
        "# Dataset on: https://github.com/patrickloeber/pytorchTutorial/tree/master/data/wine\n",
        "class WineDataset(Dataset):\n",
        "\n",
        "    def __init__(self):\n",
        "        # data loading\n",
        "        xy = np.loadtxt('/content/wine.csv', delimiter=\",\", dtype=np.float32, skiprows=1)\n",
        "        self.x = torch.from_numpy(xy[:, 1:])\n",
        "        # Keep the labels in size 'n_samples x 1'\n",
        "        self.y = torch.from_numpy(xy[:, [0]])\n",
        "        self.num_samples = xy.shape[0]\n",
        "\n",
        "    def __getitem__(self, index) -> Tuple[torch.tensor, torch.tensor]:\n",
        "        return self.x[index], self.y[index]\n",
        "\n",
        "    def __len__(self) -> int:\n",
        "        return self.num_samples"
      ],
      "metadata": {
        "id": "5bc5gDShx9XH"
      },
      "id": "5bc5gDShx9XH",
      "execution_count": 71,
      "outputs": []
    },
    {
      "cell_type": "code",
      "source": [
        "dataset = WineDataset()"
      ],
      "metadata": {
        "id": "nbtn-F5WzVY3"
      },
      "id": "nbtn-F5WzVY3",
      "execution_count": 72,
      "outputs": []
    },
    {
      "cell_type": "code",
      "source": [
        "# Test the dataset initialization.\n",
        "first_sample = dataset[0]\n",
        "features, labels = first_sample\n",
        "print(f\"Number of features: {len(features)}\")\n",
        "print(f\"Number of labels:   {len(labels)}\")\n",
        "print(features)\n",
        "print(labels)"
      ],
      "metadata": {
        "colab": {
          "base_uri": "https://localhost:8080/"
        },
        "id": "09DMv_SI0Ivk",
        "outputId": "566448c5-f43c-4128-a78c-b59addc2aac9"
      },
      "id": "09DMv_SI0Ivk",
      "execution_count": 73,
      "outputs": [
        {
          "output_type": "stream",
          "name": "stdout",
          "text": [
            "Number of features: 13\n",
            "Number of labels:   1\n",
            "tensor([1.4230e+01, 1.7100e+00, 2.4300e+00, 1.5600e+01, 1.2700e+02, 2.8000e+00,\n",
            "        3.0600e+00, 2.8000e-01, 2.2900e+00, 5.6400e+00, 1.0400e+00, 3.9200e+00,\n",
            "        1.0650e+03])\n",
            "tensor([1.])\n"
          ]
        }
      ]
    },
    {
      "cell_type": "code",
      "source": [
        "# Initialize a dataloader.\n",
        "batch_size: int = 4\n",
        "dataloader = DataLoader(dataset=dataset, batch_size=batch_size, shuffle=True, num_workers=2)\n",
        "dataiter = iter(dataloader)"
      ],
      "metadata": {
        "id": "w40BkHkDz26m"
      },
      "id": "w40BkHkDz26m",
      "execution_count": 74,
      "outputs": []
    },
    {
      "cell_type": "code",
      "source": [
        "# Test the dataloader and iterator.\n",
        "data = next(dataiter)\n",
        "features, labels = data\n",
        "print(features)\n",
        "print(labels)"
      ],
      "metadata": {
        "colab": {
          "base_uri": "https://localhost:8080/"
        },
        "id": "pZr6HMFY0JX8",
        "outputId": "91d2df75-f857-4a6b-d678-cdce588b2839"
      },
      "id": "pZr6HMFY0JX8",
      "execution_count": 75,
      "outputs": [
        {
          "output_type": "stream",
          "name": "stdout",
          "text": [
            "tensor([[1.3050e+01, 1.6500e+00, 2.5500e+00, 1.8000e+01, 9.8000e+01, 2.4500e+00,\n",
            "         2.4300e+00, 2.9000e-01, 1.4400e+00, 4.2500e+00, 1.1200e+00, 2.5100e+00,\n",
            "         1.1050e+03],\n",
            "        [1.2370e+01, 1.6300e+00, 2.3000e+00, 2.4500e+01, 8.8000e+01, 2.2200e+00,\n",
            "         2.4500e+00, 4.0000e-01, 1.9000e+00, 2.1200e+00, 8.9000e-01, 2.7800e+00,\n",
            "         3.4200e+02],\n",
            "        [1.1650e+01, 1.6700e+00, 2.6200e+00, 2.6000e+01, 8.8000e+01, 1.9200e+00,\n",
            "         1.6100e+00, 4.0000e-01, 1.3400e+00, 2.6000e+00, 1.3600e+00, 3.2100e+00,\n",
            "         5.6200e+02],\n",
            "        [1.2370e+01, 1.1300e+00, 2.1600e+00, 1.9000e+01, 8.7000e+01, 3.5000e+00,\n",
            "         3.1000e+00, 1.9000e-01, 1.8700e+00, 4.4500e+00, 1.2200e+00, 2.8700e+00,\n",
            "         4.2000e+02]])\n",
            "tensor([[1.],\n",
            "        [2.],\n",
            "        [2.],\n",
            "        [2.]])\n"
          ]
        }
      ]
    },
    {
      "cell_type": "markdown",
      "source": [
        "Notice how the dataloader iterates over the dataset in batches of the specified size. Thus calling `next` returns the whole next batch of this size."
      ],
      "metadata": {
        "id": "HKTgyu220hP6"
      },
      "id": "HKTgyu220hP6"
    },
    {
      "cell_type": "code",
      "source": [
        "# Training loop\n",
        "num_epochs: int = 2\n",
        "num_samples: int = len(dataset)\n",
        "num_iterations: int = num_samples // batch_size\n",
        "print(f\"Doing {num_iterations} iterations with batch size {batch_size} to see the whole dataset of {num_samples} samples.\\n\")\n",
        "\n",
        "for epoch in range(1, num_epochs + 1):\n",
        "    for i, (inputs, labels) in enumerate(dataloader):\n",
        "        # forward, backward, weight update\n",
        "        if i % 5 == 0:\n",
        "            print(f\"[Epoch {epoch}/{num_epochs}, step {i}/{num_iterations}]\\tInput shape: {inputs.shape} (batch size {inputs.shape[0]}, number of features {inputs.shape[1]})\")"
      ],
      "metadata": {
        "colab": {
          "base_uri": "https://localhost:8080/"
        },
        "id": "8wKiFhOn04WX",
        "outputId": "85ed23a3-6be3-4544-8f54-6f66940f8240"
      },
      "id": "8wKiFhOn04WX",
      "execution_count": 76,
      "outputs": [
        {
          "output_type": "stream",
          "name": "stdout",
          "text": [
            "Doing 44 iterations with batch size 4 to see the whole dataset of 178 samples.\n",
            "\n",
            "[Epoch 1/2, step 0/44]\tInput shape: torch.Size([4, 13]) (batch size 4, number of features 13)\n",
            "[Epoch 1/2, step 5/44]\tInput shape: torch.Size([4, 13]) (batch size 4, number of features 13)\n",
            "[Epoch 1/2, step 10/44]\tInput shape: torch.Size([4, 13]) (batch size 4, number of features 13)\n",
            "[Epoch 1/2, step 15/44]\tInput shape: torch.Size([4, 13]) (batch size 4, number of features 13)\n",
            "[Epoch 1/2, step 20/44]\tInput shape: torch.Size([4, 13]) (batch size 4, number of features 13)\n",
            "[Epoch 1/2, step 25/44]\tInput shape: torch.Size([4, 13]) (batch size 4, number of features 13)\n",
            "[Epoch 1/2, step 30/44]\tInput shape: torch.Size([4, 13]) (batch size 4, number of features 13)\n",
            "[Epoch 1/2, step 35/44]\tInput shape: torch.Size([4, 13]) (batch size 4, number of features 13)\n",
            "[Epoch 1/2, step 40/44]\tInput shape: torch.Size([4, 13]) (batch size 4, number of features 13)\n",
            "[Epoch 2/2, step 0/44]\tInput shape: torch.Size([4, 13]) (batch size 4, number of features 13)\n",
            "[Epoch 2/2, step 5/44]\tInput shape: torch.Size([4, 13]) (batch size 4, number of features 13)\n",
            "[Epoch 2/2, step 10/44]\tInput shape: torch.Size([4, 13]) (batch size 4, number of features 13)\n",
            "[Epoch 2/2, step 15/44]\tInput shape: torch.Size([4, 13]) (batch size 4, number of features 13)\n",
            "[Epoch 2/2, step 20/44]\tInput shape: torch.Size([4, 13]) (batch size 4, number of features 13)\n",
            "[Epoch 2/2, step 25/44]\tInput shape: torch.Size([4, 13]) (batch size 4, number of features 13)\n",
            "[Epoch 2/2, step 30/44]\tInput shape: torch.Size([4, 13]) (batch size 4, number of features 13)\n",
            "[Epoch 2/2, step 35/44]\tInput shape: torch.Size([4, 13]) (batch size 4, number of features 13)\n",
            "[Epoch 2/2, step 40/44]\tInput shape: torch.Size([4, 13]) (batch size 4, number of features 13)\n"
          ]
        }
      ]
    },
    {
      "cell_type": "markdown",
      "source": [
        "# Transforms"
      ],
      "metadata": {
        "id": "hEo6xn2529gh"
      },
      "id": "hEo6xn2529gh"
    },
    {
      "cell_type": "code",
      "source": [
        "# Dataset on: https://github.com/patrickloeber/pytorchTutorial/tree/master/data/wine\n",
        "class WineDataset(Dataset):\n",
        "\n",
        "    def __init__(self, transform=None):\n",
        "        # data loading\n",
        "        xy = np.loadtxt('/content/wine.csv', delimiter=\",\", dtype=np.float32, skiprows=1)\n",
        "        self.x = xy[:, 1:]\n",
        "        # Keep the labels in size 'n_samples x 1'\n",
        "        self.y = xy[:, [0]]\n",
        "        self.num_samples = xy.shape[0]\n",
        "\n",
        "        # Save the transforms.\n",
        "        self.transform = transform\n",
        "\n",
        "    def __getitem__(self, index) -> Tuple[torch.tensor, torch.tensor]:\n",
        "        sample = self.x[index], self.y[index]\n",
        "\n",
        "        if self.transform is not None:\n",
        "            sample = self.transform(sample)\n",
        "\n",
        "        return sample\n",
        "\n",
        "    def __len__(self) -> int:\n",
        "        return self.num_samples"
      ],
      "metadata": {
        "id": "bI7OpH7x54YF"
      },
      "id": "bI7OpH7x54YF",
      "execution_count": 77,
      "outputs": []
    },
    {
      "cell_type": "markdown",
      "source": [
        "First, define a very simple transform which only applies the `torch.from_numpy` function to both input data and label (or target)."
      ],
      "metadata": {
        "id": "x9h5jWUN4ob1"
      },
      "id": "x9h5jWUN4ob1"
    },
    {
      "cell_type": "code",
      "source": [
        "class ToTensor:\n",
        "    def __call__(self, sample) -> Tuple[torch.tensor, torch.tensor]:\n",
        "        inputs, targets = sample\n",
        "        if not torch.is_tensor(inputs):\n",
        "            inputs = torch.from_numpy(inputs)\n",
        "\n",
        "        if not torch.is_tensor(targets):\n",
        "            targets = torch.from_numpy(targets)\n",
        "        return inputs, targets"
      ],
      "metadata": {
        "id": "aw06V09T2-2m"
      },
      "id": "aw06V09T2-2m",
      "execution_count": 78,
      "outputs": []
    },
    {
      "cell_type": "code",
      "source": [
        "# Test this transform.\n",
        "dataset_wtransform = WineDataset(transform=ToTensor())\n",
        "dataset_wotransform = WineDataset()\n",
        "features_w, labels_w = dataset_wtransform[0]\n",
        "features_wo, labels_wo = dataset_wotransform[0]\n",
        "print(type(features_w), type(labels_w))\n",
        "print(type(features_wo), type(labels_wo))"
      ],
      "metadata": {
        "colab": {
          "base_uri": "https://localhost:8080/"
        },
        "id": "7ArGNRYz4ytj",
        "outputId": "bf270f56-0d06-4d22-a188-e5232acb0b86"
      },
      "id": "7ArGNRYz4ytj",
      "execution_count": 79,
      "outputs": [
        {
          "output_type": "stream",
          "name": "stdout",
          "text": [
            "<class 'torch.Tensor'> <class 'torch.Tensor'>\n",
            "<class 'numpy.ndarray'> <class 'numpy.ndarray'>\n"
          ]
        }
      ]
    },
    {
      "cell_type": "markdown",
      "source": [
        "Another example of a simple transform."
      ],
      "metadata": {
        "id": "kSrFyvm37Amh"
      },
      "id": "kSrFyvm37Amh"
    },
    {
      "cell_type": "code",
      "source": [
        "class MulTransform:\n",
        "    def __init__(self, factor: float):\n",
        "        self.factor = factor\n",
        "\n",
        "    def __call__(self, sample: torch.tensor) -> Tuple[torch.tensor, torch.tensor]:\n",
        "        inputs, targets = sample\n",
        "        return torch.mul(inputs, self.factor), targets"
      ],
      "metadata": {
        "id": "fngQko1D62p2"
      },
      "id": "fngQko1D62p2",
      "execution_count": 80,
      "outputs": []
    },
    {
      "cell_type": "code",
      "source": [
        "composed_transforms = torchvision.transforms.Compose([ToTensor(), MulTransform(factor=2.0)])\n",
        "dataset = WineDataset(transform=composed_transforms)\n",
        "features, labels = dataset[0]\n",
        "print(features, labels)"
      ],
      "metadata": {
        "colab": {
          "base_uri": "https://localhost:8080/"
        },
        "id": "s0x0d-u87NbR",
        "outputId": "07dd3d74-fdff-4b50-a5b9-914aaa91e057"
      },
      "id": "s0x0d-u87NbR",
      "execution_count": 81,
      "outputs": [
        {
          "output_type": "stream",
          "name": "stdout",
          "text": [
            "tensor([2.8460e+01, 3.4200e+00, 4.8600e+00, 3.1200e+01, 2.5400e+02, 5.6000e+00,\n",
            "        6.1200e+00, 5.6000e-01, 4.5800e+00, 1.1280e+01, 2.0800e+00, 7.8400e+00,\n",
            "        2.1300e+03]) tensor([1.])\n"
          ]
        }
      ]
    },
    {
      "cell_type": "markdown",
      "source": [
        "# Softmax and CrossEntropyLoss"
      ],
      "metadata": {
        "id": "GeJeHrcu8If6"
      },
      "id": "GeJeHrcu8If6"
    },
    {
      "cell_type": "markdown",
      "source": [
        "Read up on the [Softmax function](https://insideaiml.com/blog/SoftMaxActivation-Function-1034)"
      ],
      "metadata": {
        "id": "wv-RLxmt-c8z"
      },
      "id": "wv-RLxmt-c8z"
    },
    {
      "cell_type": "code",
      "source": [
        "def softmax(x: np.array) -> np.array:\n",
        "    exp = np.exp(x)\n",
        "    return exp / np.sum(exp, axis=0)"
      ],
      "metadata": {
        "id": "f60cqZZZ8LwA"
      },
      "id": "f60cqZZZ8LwA",
      "execution_count": 82,
      "outputs": []
    },
    {
      "cell_type": "code",
      "source": [
        "x = np.array([2.0, 1.0, 0.1])\n",
        "outputs = softmax(x)\n",
        "print(f\"Softmax numpy:\\t{outputs}\")\n",
        "\n",
        "x = torch.tensor([2.0, 1.0, 0.1])\n",
        "# Pass the dimension along which axis to compute the softmax.\n",
        "outputs = torch.softmax(x, dim=0)\n",
        "print(f\"Softmax numpy:\\t{outputs}\")"
      ],
      "metadata": {
        "colab": {
          "base_uri": "https://localhost:8080/"
        },
        "id": "PNXrp_bC8U1e",
        "outputId": "220ef5cd-fd57-49da-b49a-75b6bd012572"
      },
      "id": "PNXrp_bC8U1e",
      "execution_count": 83,
      "outputs": [
        {
          "output_type": "stream",
          "name": "stdout",
          "text": [
            "Softmax numpy:\t[0.65900114 0.24243297 0.09856589]\n",
            "Softmax numpy:\ttensor([0.6590, 0.2424, 0.0986])\n"
          ]
        }
      ]
    },
    {
      "cell_type": "markdown",
      "source": [
        "Read up on the [Cross-Entropy Loss function](https://insideaiml.com/blog/SoftMaxActivation-Function-1034)\n",
        "\n",
        "Expects One-Hot encodings of the target vector."
      ],
      "metadata": {
        "id": "rTJNyROt-wdp"
      },
      "id": "rTJNyROt-wdp"
    },
    {
      "cell_type": "code",
      "source": [
        "def cross_entropy(actual: np.array, predicted: np.array) -> float:\n",
        "    loss = -np.sum(actual * np.log(predicted))\n",
        "    return loss # / float(predicted.shape[0])"
      ],
      "metadata": {
        "id": "kOiTOPQR-5Cx"
      },
      "id": "kOiTOPQR-5Cx",
      "execution_count": 84,
      "outputs": []
    },
    {
      "cell_type": "code",
      "source": [
        "# Target values in one-hot encoding.\n",
        "Y = np.array([1, 0, 0])\n",
        "# Examples of class predictions.\n",
        "Y_pred_good = np.array([0.7, 0.2, 0.1])\n",
        "Y_pred_bad  = np.array([0.1, 0.3, 0.6])\n",
        "# Their cross entropy loss.\n",
        "l_good = cross_entropy(Y, Y_pred_good)\n",
        "l_bad  = cross_entropy(Y, Y_pred_bad)\n",
        "print(f\"Example of cross entropy loss for a good prediction:\\t{l_good:.4f}\")\n",
        "print(f\"Example of cross entropy loss for a bad  prediction:\\t{l_bad:.4f}\")"
      ],
      "metadata": {
        "colab": {
          "base_uri": "https://localhost:8080/"
        },
        "id": "jKevmpAz_CYz",
        "outputId": "604dbfcb-1999-43a8-9b34-6df9b38beb33"
      },
      "id": "jKevmpAz_CYz",
      "execution_count": 85,
      "outputs": [
        {
          "output_type": "stream",
          "name": "stdout",
          "text": [
            "Example of cross entropy loss for a good prediction:\t0.3567\n",
            "Example of cross entropy loss for a bad  prediction:\t2.3026\n"
          ]
        }
      ]
    },
    {
      "cell_type": "markdown",
      "source": [
        "When using the `nn.CrossEntropyLoss`, note that it already applies the `nn.LogSoftmax` and also the `nn.NLLLoss` (negative log likelihood loss)! That is why we do not use a softmax function in the last layer.\n",
        "\n",
        "Also the `nn.CrossEntropyLoss` does NOT expect a One-Hot encoding of the classes but just the class itself."
      ],
      "metadata": {
        "id": "Jys1UUVb_xi0"
      },
      "id": "Jys1UUVb_xi0"
    },
    {
      "cell_type": "code",
      "source": [
        "loss = nn.CrossEntropyLoss()"
      ],
      "metadata": {
        "id": "UfNA18MGCFZp"
      },
      "id": "UfNA18MGCFZp",
      "execution_count": 86,
      "outputs": []
    },
    {
      "cell_type": "code",
      "source": [
        "# Consider just one sample.\n",
        "sample_class = 0\n",
        "# Do not use one-hot encodings here, but the class itself.\n",
        "Y = torch.tensor([sample_class])\n",
        "# Consider a good prediction, giving the class '0' out of three possible classes the highest probability.\n",
        "Y_pred_good = torch.tensor([[0.7, 0.2, 0.1]])\n",
        "Y_pred_bad  = torch.tensor([[0.1, 0.3, 0.6]])\n",
        "\n",
        "# Get the predicted classes.\n",
        "_, prediction_good = torch.max(Y_pred_good, 1)\n",
        "_, prediction_bad  = torch.max(Y_pred_bad, 1)\n",
        "\n",
        "# Compute the cross entropy losses using the 'nn.Module'.\n",
        "loss_good   = loss(Y_pred_good, Y)\n",
        "loss_bad    = loss(Y_pred_bad, Y)\n",
        "print(f\"Example of cross entropy loss for a good prediction:\\t{loss_good.item():.4f}\\tPredicted class: {prediction_good[0]}\")\n",
        "print(f\"Example of cross entropy loss for a bad  prediction:\\t{loss_bad.item():.4f} \\tPredicted class: {prediction_bad[0]}\")\n",
        "print(f\"True classes: {Y[0]}\")"
      ],
      "metadata": {
        "colab": {
          "base_uri": "https://localhost:8080/"
        },
        "id": "g2tDIAAEAK4d",
        "outputId": "f96e5351-fafa-47c8-c84f-95635b90cd60"
      },
      "id": "g2tDIAAEAK4d",
      "execution_count": 87,
      "outputs": [
        {
          "output_type": "stream",
          "name": "stdout",
          "text": [
            "Example of cross entropy loss for a good prediction:\t0.7679\tPredicted class: 0\n",
            "Example of cross entropy loss for a bad  prediction:\t1.3533 \tPredicted class: 2\n",
            "True classes: 0\n"
          ]
        }
      ]
    },
    {
      "cell_type": "code",
      "source": [
        "# Consider three samples.\n",
        "# Do not use one-hot encodings here, but the class itself.\n",
        "Y = torch.tensor([2, 0, 1])\n",
        "# Consider a good prediction, giving the class '0' out of three possible classes the highest probability.\n",
        "Y_pred_good = torch.tensor([[0.7, 0.2, 2.1], [0.7, 0.2, 0.1], [0.3, 1.0, 0.1]])\n",
        "Y_pred_bad  = torch.tensor([[0.1, 1.3, 0.1], [0.1, 2.3, 0.6], [2.1, 0.3, 0.6]])\n",
        "\n",
        "# Get the predicted classes.\n",
        "_, prediction_good = torch.max(Y_pred_good, 1)\n",
        "_, prediction_bad  = torch.max(Y_pred_bad, 1)\n",
        "\n",
        "# Compute the cross entropy losses using the 'nn.Module'.\n",
        "loss_good   = loss(Y_pred_good, Y)\n",
        "loss_bad    = loss(Y_pred_bad, Y)\n",
        "print(f\"Example of cross entropy loss for a good prediction:\\t{loss_good.item():.4f}\\tPredicted classes: {prediction_good}\")\n",
        "print(f\"Example of cross entropy loss for a bad  prediction:\\t{loss_bad.item():.4f} \\tPredicted classes: {prediction_bad}\")\n",
        "print(f\"True classes: {Y}\")"
      ],
      "metadata": {
        "colab": {
          "base_uri": "https://localhost:8080/"
        },
        "id": "yH8ffseyCDxO",
        "outputId": "7b3148ee-6ff0-46f6-8eaa-b40d110f86b8"
      },
      "id": "yH8ffseyCDxO",
      "execution_count": 88,
      "outputs": [
        {
          "output_type": "stream",
          "name": "stdout",
          "text": [
            "Example of cross entropy loss for a good prediction:\t0.5817\tPredicted classes: tensor([2, 0, 1])\n",
            "Example of cross entropy loss for a bad  prediction:\t2.0857 \tPredicted classes: tensor([1, 1, 0])\n",
            "True classes: tensor([2, 0, 1])\n"
          ]
        }
      ]
    },
    {
      "cell_type": "markdown",
      "source": [
        "# First NN from scratch"
      ],
      "metadata": {
        "id": "wjXzeL7YC65G"
      },
      "id": "wjXzeL7YC65G"
    },
    {
      "cell_type": "markdown",
      "source": [
        "## Multiclass problems\n",
        "\n",
        "For multiclass problems, the output size (number of classes) is at least two. Thus the hidden layers are expected to return values for each possible class. Typically the `nn.CrossEntropyLoss` can be used to evaluate these predictions. Since this function applies a `softmax` function itself, do not implement the application of a `softmax` function for the return values (during training)."
      ],
      "metadata": {
        "id": "OX7fjKWjEMKF"
      },
      "id": "OX7fjKWjEMKF"
    },
    {
      "cell_type": "code",
      "source": [
        "class NeuralNetMulticlass(nn.Module):\n",
        "\n",
        "    def __init__(self, input_size: int, hidden_size: int, num_classes: int):\n",
        "        super(NeuralNetMulticlass, self).__init__()\n",
        "        self.linear1 = nn.Linear(input_size, hidden_size)\n",
        "        self.relu    = nn.ReLU()\n",
        "        self.linear2 = nn.Linear(hidden_size, num_classes)\n",
        "\n",
        "    def forward(self, x: torch.tensor) -> torch.tensor:\n",
        "        out = self.linear1(x)\n",
        "        out = self.relu(out)\n",
        "        out = self.linear1(out)\n",
        "        # No Softmax at the end need. This will be applied by using the\n",
        "        # nn.CrossEntropyLoss() as loss function.\n",
        "        return out"
      ],
      "metadata": {
        "id": "EPOjt687DDDV"
      },
      "id": "EPOjt687DDDV",
      "execution_count": 89,
      "outputs": []
    },
    {
      "cell_type": "code",
      "source": [
        "model = NeuralNetMulticlass(input_size=28*28, hidden_size=5, num_classes=3)\n",
        "criterion = nn.CrossEntropyLoss()"
      ],
      "metadata": {
        "id": "Y_Z0IfpBDjbU"
      },
      "id": "Y_Z0IfpBDjbU",
      "execution_count": 90,
      "outputs": []
    },
    {
      "cell_type": "markdown",
      "source": [
        "## Binary problems - [Binary Cross Entropy Loss](https://pytorch.org/docs/stable/generated/torch.nn.BCELoss.html)\n",
        "\n",
        "For **binary problems**, the output size (number of classes) is always one, and corresponds to the binary decision yes (1.0) or no (0.0) of belonging to a target class. Thus the hidden layers are expected to return one value.\n",
        "\n",
        "To evaluate it, we can use the `nn.BCELoss`. To use it we should apply the `Sigmoid` function at the end of the net."
      ],
      "metadata": {
        "id": "zng06nALEONe"
      },
      "id": "zng06nALEONe"
    },
    {
      "cell_type": "code",
      "source": [
        "class NeuralNetBinary(nn.Module):\n",
        "\n",
        "    def __init__(self, input_size: int, hidden_size: int):\n",
        "        super(NeuralNetBinary, self).__init__()\n",
        "        self.linear1 = nn.Linear(input_size, hidden_size)\n",
        "        self.relu    = nn.ReLU()\n",
        "        self.linear2 = nn.Linear(hidden_size, 1)\n",
        "\n",
        "    def forward(self, x: torch.tensor) -> torch.tensor:\n",
        "        out = self.linear1(x)\n",
        "        out = self.relu(out)\n",
        "        out = self.linear1(out)\n",
        "        y_pred = torch.sigmoid(out)\n",
        "        return y_pred"
      ],
      "metadata": {
        "id": "utnx5oPnFXzp"
      },
      "id": "utnx5oPnFXzp",
      "execution_count": 92,
      "outputs": []
    },
    {
      "cell_type": "code",
      "source": [
        "model = NeuralNetBinary(input_size=28*28, hidden_size=5)\n",
        "criterion = nn.BCELoss()"
      ],
      "metadata": {
        "id": "eHlQYIBqFqw2"
      },
      "id": "eHlQYIBqFqw2",
      "execution_count": 93,
      "outputs": []
    },
    {
      "cell_type": "markdown",
      "source": [
        "# Activation functions\n"
      ],
      "metadata": {
        "id": "fmLr5BlYjJD7"
      },
      "id": "fmLr5BlYjJD7"
    },
    {
      "cell_type": "markdown",
      "source": [
        "## Step Function - not used in practise\n",
        "\n",
        "$$ f(x) = \\begin{cases} 1 &\\text{if } x \\ge \\theta \\\\ 0 &\\text{otherwise} \\end{cases} $$"
      ],
      "metadata": {
        "id": "I2yweDHkjjhr"
      },
      "id": "I2yweDHkjjhr"
    },
    {
      "cell_type": "markdown",
      "source": [
        "## Sigmoid Function\n",
        "\n",
        "$$ f(x) = \\frac{1}{1+e^{-x}} \\qquad\\in [0,1]$$\n",
        "\n",
        "Common in the last layer for **binary classification** tasks.\n",
        "\n",
        "Use e.g.: `torch.sigmoid()` or `nn.Sigmoid()`"
      ],
      "metadata": {
        "id": "RIHsoPvXkPyU"
      },
      "id": "RIHsoPvXkPyU"
    },
    {
      "cell_type": "markdown",
      "source": [
        "## Tanh Function\n",
        "\n",
        "$$ f(x) = \\frac{2}{1+e^{-2x}}-1 \\qquad\\in [-1,1]$$\n",
        "\n",
        "Scaled and shifted sigmoid function. Common in hidden layers.\n",
        "\n",
        "Use e.g.: `torch.tanh()` or `nn.TanH()`"
      ],
      "metadata": {
        "id": "ivNgMZpYkejv"
      },
      "id": "ivNgMZpYkejv"
    },
    {
      "cell_type": "markdown",
      "source": [
        "## ReLU Function\n",
        "\n",
        "$$ f(x) = \\max(0, x) \\qquad\\in [0,\\infty)$$\n",
        "\n",
        "Most popular simple activation function. Common in hidden layers as well.\n",
        "\n",
        "Use e.g.: `torch.relu()` or `nn.ReLU()`"
      ],
      "metadata": {
        "id": "6qYk9lHOkxsG"
      },
      "id": "6qYk9lHOkxsG"
    },
    {
      "cell_type": "markdown",
      "source": [
        "## Leaky ReLU Function\n",
        "\n",
        "$$ f(x) = \\begin{cases} x &\\text{if } x\\ge 0\\\\ a*x &\\text{otherwise}\\end{cases} \\qquad\\in [0,\\infty)$$\n",
        "\n",
        "Improved version of the ReLU. Tries to solve the problem of vanishing gradients. $a\\in(0,1)$ is typically very small (e.g. $a=0.001$).\n",
        "\n",
        "Use e.g.: `torch.nn.functional.leaky_relu()` or `nn.LeakyReLu()`"
      ],
      "metadata": {
        "id": "n3xynXqPlFyB"
      },
      "id": "n3xynXqPlFyB"
    },
    {
      "cell_type": "markdown",
      "source": [
        "## Softmax Function\n",
        "\n",
        "$$ f(x_i) = \\frac{e^{x_i}}{\\sum e^{x_i}} \\qquad\\in [0,1]^n$$\n",
        "\n",
        "Converts the output vector to a probability distribution. Common in the last layer of **muli-classification problems**.\n",
        "\n",
        "Use e.g.: `torch.softmax()` or `nn.Softmax()`"
      ],
      "metadata": {
        "id": "StMCHysGlFrc"
      },
      "id": "StMCHysGlFrc"
    },
    {
      "cell_type": "code",
      "source": [
        "# Example use of activation functions after network layers.\n",
        "class NeuralNet3(nn.Module):\n",
        "\n",
        "    def __init__(self, input_size, hidden_size):\n",
        "        super(NeuralNet3, self).__init__()\n",
        "        self.linear1 = nn.Linear(input_size, hidden_size)\n",
        "        # Use a relu function for the hidden layers.\n",
        "        self.relu = nn.ReLU()\n",
        "        self.linear2 = nn.Linear(hidden_size, 1)\n",
        "        # Use a sigmoid function for the output layer.\n",
        "        self. sigmoid = nn.Sigmoid()\n",
        "\n",
        "    def forward(self, x):\n",
        "        out = self.linear1(x)\n",
        "        out = self.relu(out)\n",
        "        out = self.linear2(out)\n",
        "        out = self.sigmoid(out)\n",
        "        return out"
      ],
      "metadata": {
        "id": "LD5GGrfcvKR8"
      },
      "id": "LD5GGrfcvKR8",
      "execution_count": 94,
      "outputs": []
    },
    {
      "cell_type": "markdown",
      "source": [
        "# MNIST Dataset example"
      ],
      "metadata": {
        "id": "Rb6kaaWGw5ff"
      },
      "id": "Rb6kaaWGw5ff"
    },
    {
      "cell_type": "code",
      "source": [
        "import torch\n",
        "import torch.nn as nn\n",
        "import torchvision\n",
        "import torchvision.transforms as transforms\n",
        "import matplotlib.pyplot as plt\n",
        "\n",
        "# Device config.\n",
        "device = torch.device('cuda' if torch.cuda.is_available() else 'cpu')\n",
        "device"
      ],
      "metadata": {
        "id": "B6KoKcvcxCQ9",
        "outputId": "9d25ab35-d18b-4eb9-ed9b-a630a1b499bd",
        "colab": {
          "base_uri": "https://localhost:8080/"
        }
      },
      "id": "B6KoKcvcxCQ9",
      "execution_count": 42,
      "outputs": [
        {
          "output_type": "execute_result",
          "data": {
            "text/plain": [
              "device(type='cpu')"
            ]
          },
          "metadata": {},
          "execution_count": 42
        }
      ]
    },
    {
      "cell_type": "code",
      "source": [
        "# Hyperparameters:\n",
        "# Images will be of size 28x28, which is flattend equal to 784.\n",
        "input_size: int  = 784\n",
        "hidden_size: int = 100\n",
        "num_classes: int = 10\n",
        "num_epochs: int  = 10\n",
        "batch_size: int  = 100\n",
        "learning_rate: float = 0.001"
      ],
      "metadata": {
        "id": "WhDOI-KWxS2o"
      },
      "id": "WhDOI-KWxS2o",
      "execution_count": 13,
      "outputs": []
    },
    {
      "cell_type": "markdown",
      "source": [
        "## Data"
      ],
      "metadata": {
        "id": "ZMItv4nmw9Yh"
      },
      "id": "ZMItv4nmw9Yh"
    },
    {
      "cell_type": "code",
      "source": [
        "train_dataset = torchvision.datasets.MNIST(root='./data', train=True,  transform=transforms.ToTensor(), download=True)\n",
        "test_dataset  = torchvision.datasets.MNIST(root='./data', train=False, transform=transforms.ToTensor(), download=False)\n",
        "\n",
        "train_loader = torch.utils.data.DataLoader(dataset=train_dataset, batch_size=batch_size, shuffle=True)\n",
        "test_loader  = torch.utils.data.DataLoader(dataset=test_dataset,  batch_size=batch_size, shuffle=False)"
      ],
      "metadata": {
        "id": "b0BMAXsCw78P"
      },
      "id": "b0BMAXsCw78P",
      "execution_count": 14,
      "outputs": []
    },
    {
      "cell_type": "code",
      "source": [
        "# Preview the first batch.\n",
        "examples = iter(train_loader)\n",
        "samples, labels = next(examples)\n",
        "print(samples.shape)\n",
        "print(labels.shape)\n",
        "\n",
        "# Show the first images from the first set.\n",
        "for i in range(6):\n",
        "    plt.subplot(2, 3, i+1)\n",
        "    plt.imshow(samples[i][0], cmap='gray')\n",
        "    plt.title(f'Class: {labels[i]}')\n",
        "plt.show()"
      ],
      "metadata": {
        "id": "mlwH7ohnyKKM",
        "outputId": "5bfa3718-505f-4063-accf-6d9c68cbc39a",
        "colab": {
          "base_uri": "https://localhost:8080/",
          "height": 465
        }
      },
      "id": "mlwH7ohnyKKM",
      "execution_count": 95,
      "outputs": [
        {
          "output_type": "stream",
          "name": "stdout",
          "text": [
            "torch.Size([100, 1, 28, 28])\n",
            "torch.Size([100])\n"
          ]
        },
        {
          "output_type": "display_data",
          "data": {
            "text/plain": [
              "<Figure size 640x480 with 6 Axes>"
            ],
            "image/png": "[encoded data removed]"
          },
          "metadata": {}
        }
      ]
    },
    {
      "cell_type": "markdown",
      "source": [
        "## Model"
      ],
      "metadata": {
        "id": "KfFgnNB6w_uI"
      },
      "id": "KfFgnNB6w_uI"
    },
    {
      "cell_type": "code",
      "source": [
        "class NeuralNet(nn.Module):\n",
        "    def __init__(self, input_size, hidden_size, num_classes):\n",
        "        super(NeuralNet, self).__init__()\n",
        "        self.l1 = nn.Linear(input_size, hidden_size)\n",
        "        self.relu = nn.ReLU()\n",
        "        self.l2 = nn.Linear(hidden_size, num_classes)\n",
        "\n",
        "    def forward(self, x):\n",
        "        out = self.l1(x)\n",
        "        out = self.relu(out)\n",
        "        out = self.l2(out)\n",
        "        # Do not apply the softmax function here, since we will\n",
        "        # compute the CrossEntropyLoss on this output, which contains a softmax\n",
        "        # function itself.\n",
        "        return out"
      ],
      "metadata": {
        "id": "Trb32JRczVKB"
      },
      "id": "Trb32JRczVKB",
      "execution_count": 16,
      "outputs": []
    },
    {
      "cell_type": "code",
      "source": [
        "# Model instanciation.\n",
        "model = NeuralNet(input_size, hidden_size, num_classes)\n",
        "model.to(device)\n",
        "\n",
        "# Loss and optimizer.\n",
        "criterion = nn.CrossEntropyLoss()\n",
        "optimizer = torch.optim.Adam(model.parameters(), lr=learning_rate)\n",
        "\n",
        "# Training loop.\n",
        "num_steps: int = len(train_loader)\n",
        "for epoch in range(1, num_epochs+1):\n",
        "    for i, (images, labels) in enumerate(train_loader):\n",
        "        # Load data to device.\n",
        "        images = images.reshape(-1, 28*28).to(device)\n",
        "        labels = labels.to(device)\n",
        "\n",
        "        # Forward pass.\n",
        "        outputs = model(images)\n",
        "        loss = criterion(outputs, labels)\n",
        "\n",
        "        # Backward pass.\n",
        "        optimizer.zero_grad()\n",
        "        loss.backward()\n",
        "        optimizer.step()\n",
        "\n",
        "        if i % 100 == 0:\n",
        "            print(f\"[Epoch {epoch}/{num_epochs}, step {i}/{num_steps}]: Loss:\\t{loss.item():.4f}\")"
      ],
      "metadata": {
        "id": "lvaQuGotzukn",
        "outputId": "647fca2f-fe4b-47e8-b854-c49575f64cf6",
        "colab": {
          "base_uri": "https://localhost:8080/"
        }
      },
      "id": "lvaQuGotzukn",
      "execution_count": 17,
      "outputs": [
        {
          "output_type": "stream",
          "name": "stdout",
          "text": [
            "[Epoch 1/10, step 0/600]: Loss:\t2.3077\n",
            "[Epoch 1/10, step 100/600]: Loss:\t0.4864\n",
            "[Epoch 1/10, step 200/600]: Loss:\t0.2463\n",
            "[Epoch 1/10, step 300/600]: Loss:\t0.3169\n",
            "[Epoch 1/10, step 400/600]: Loss:\t0.3551\n",
            "[Epoch 1/10, step 500/600]: Loss:\t0.4452\n",
            "[Epoch 2/10, step 0/600]: Loss:\t0.1503\n",
            "[Epoch 2/10, step 100/600]: Loss:\t0.2392\n",
            "[Epoch 2/10, step 200/600]: Loss:\t0.2425\n",
            "[Epoch 2/10, step 300/600]: Loss:\t0.1838\n",
            "[Epoch 2/10, step 400/600]: Loss:\t0.2144\n",
            "[Epoch 2/10, step 500/600]: Loss:\t0.1054\n",
            "[Epoch 3/10, step 0/600]: Loss:\t0.0985\n",
            "[Epoch 3/10, step 100/600]: Loss:\t0.1496\n",
            "[Epoch 3/10, step 200/600]: Loss:\t0.1452\n",
            "[Epoch 3/10, step 300/600]: Loss:\t0.1317\n",
            "[Epoch 3/10, step 400/600]: Loss:\t0.1909\n",
            "[Epoch 3/10, step 500/600]: Loss:\t0.0551\n",
            "[Epoch 4/10, step 0/600]: Loss:\t0.1901\n",
            "[Epoch 4/10, step 100/600]: Loss:\t0.0956\n",
            "[Epoch 4/10, step 200/600]: Loss:\t0.0556\n",
            "[Epoch 4/10, step 300/600]: Loss:\t0.0828\n",
            "[Epoch 4/10, step 400/600]: Loss:\t0.0548\n",
            "[Epoch 4/10, step 500/600]: Loss:\t0.0758\n",
            "[Epoch 5/10, step 0/600]: Loss:\t0.0608\n",
            "[Epoch 5/10, step 100/600]: Loss:\t0.1567\n",
            "[Epoch 5/10, step 200/600]: Loss:\t0.0716\n",
            "[Epoch 5/10, step 300/600]: Loss:\t0.0454\n",
            "[Epoch 5/10, step 400/600]: Loss:\t0.0665\n",
            "[Epoch 5/10, step 500/600]: Loss:\t0.0986\n",
            "[Epoch 6/10, step 0/600]: Loss:\t0.1016\n",
            "[Epoch 6/10, step 100/600]: Loss:\t0.1790\n",
            "[Epoch 6/10, step 200/600]: Loss:\t0.0452\n",
            "[Epoch 6/10, step 300/600]: Loss:\t0.0403\n",
            "[Epoch 6/10, step 400/600]: Loss:\t0.0477\n",
            "[Epoch 6/10, step 500/600]: Loss:\t0.0896\n",
            "[Epoch 7/10, step 0/600]: Loss:\t0.0726\n",
            "[Epoch 7/10, step 100/600]: Loss:\t0.0755\n",
            "[Epoch 7/10, step 200/600]: Loss:\t0.0315\n",
            "[Epoch 7/10, step 300/600]: Loss:\t0.0271\n",
            "[Epoch 7/10, step 400/600]: Loss:\t0.0455\n",
            "[Epoch 7/10, step 500/600]: Loss:\t0.0597\n",
            "[Epoch 8/10, step 0/600]: Loss:\t0.0465\n",
            "[Epoch 8/10, step 100/600]: Loss:\t0.0432\n",
            "[Epoch 8/10, step 200/600]: Loss:\t0.1114\n",
            "[Epoch 8/10, step 300/600]: Loss:\t0.0126\n",
            "[Epoch 8/10, step 400/600]: Loss:\t0.0176\n",
            "[Epoch 8/10, step 500/600]: Loss:\t0.0348\n",
            "[Epoch 9/10, step 0/600]: Loss:\t0.0261\n",
            "[Epoch 9/10, step 100/600]: Loss:\t0.0300\n",
            "[Epoch 9/10, step 200/600]: Loss:\t0.0218\n",
            "[Epoch 9/10, step 300/600]: Loss:\t0.0662\n",
            "[Epoch 9/10, step 400/600]: Loss:\t0.0821\n",
            "[Epoch 9/10, step 500/600]: Loss:\t0.0489\n",
            "[Epoch 10/10, step 0/600]: Loss:\t0.0813\n",
            "[Epoch 10/10, step 100/600]: Loss:\t0.0233\n",
            "[Epoch 10/10, step 200/600]: Loss:\t0.0282\n",
            "[Epoch 10/10, step 300/600]: Loss:\t0.0423\n",
            "[Epoch 10/10, step 400/600]: Loss:\t0.0551\n",
            "[Epoch 10/10, step 500/600]: Loss:\t0.0073\n"
          ]
        }
      ]
    },
    {
      "cell_type": "code",
      "source": [
        "# Testing the trained model.\n",
        "with torch.no_grad():\n",
        "    num_correct: int = 0\n",
        "    num_samples: int = 0\n",
        "    for images, labels in test_loader:\n",
        "        # Load data to device.\n",
        "        images = images.reshape(-1, 28*28).to(device)\n",
        "        labels = labels.to(device)\n",
        "        # Run the model on the test data.\n",
        "        outputs = model(images)\n",
        "\n",
        "        _, predictions = torch.max(outputs, 1)\n",
        "        # Increment the number of samples by the number of samples in this batch.\n",
        "        num_samples += labels.shape[0]\n",
        "        # Update the number of correct samples.\n",
        "        num_correct += (predictions == labels).sum().item()\n",
        "\n",
        "    # Compute the models accuracy.\n",
        "    acc: float  = num_correct / num_samples\n",
        "    print(f\"Model accuracy:\\t{acc * 100:.2f} %\")"
      ],
      "metadata": {
        "id": "VKSZHs6A5uYZ",
        "outputId": "57655fa9-6b84-4620-8838-69e1440575d0",
        "colab": {
          "base_uri": "https://localhost:8080/"
        }
      },
      "id": "VKSZHs6A5uYZ",
      "execution_count": 20,
      "outputs": [
        {
          "output_type": "stream",
          "name": "stdout",
          "text": [
            "Model accuracy:\t97.49 %\n"
          ]
        }
      ]
    },
    {
      "cell_type": "markdown",
      "source": [
        "# END"
      ],
      "metadata": {
        "id": "HjYNaoHGtz5b"
      },
      "id": "HjYNaoHGtz5b"
    },
    {
      "cell_type": "markdown",
      "source": [
        "[CONTINUE TUTORIAL](https://youtu.be/c36lUUr864M?si=mJn-NivxAOi9fDly&t=9757)"
      ],
      "metadata": {
        "id": "c--iN_QHkQ_Z"
      },
      "id": "c--iN_QHkQ_Z"
    },
    {
      "cell_type": "code",
      "source": [],
      "metadata": {
        "id": "dd9i6426t0rb"
      },
      "id": "dd9i6426t0rb",
      "execution_count": null,
      "outputs": []
    }
  ],
  "metadata": {
    "kernelspec": {
      "display_name": "Python 3",
      "name": "python3"
    },
    "language_info": {
      "codemirror_mode": {
        "name": "ipython",
        "version": 3
      },
      "file_extension": ".py",
      "mimetype": "text/x-python",
      "name": "python",
      "nbconvert_exporter": "python",
      "pygments_lexer": "ipython3",
      "version": "3.10.9"
    },
    "toc-autonumbering": true,
    "toc-showmarkdowntxt": true,
    "colab": {
      "provenance": [],
      "toc_visible": true,
      "include_colab_link": true
    }
  },
  "nbformat": 4,
  "nbformat_minor": 5
}